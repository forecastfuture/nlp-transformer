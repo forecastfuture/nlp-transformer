{
 "cells": [
  {
   "cell_type": "code",
   "execution_count": 1,
   "id": "134adf78",
   "metadata": {
    "ExecuteTime": {
     "end_time": "2023-02-21T06:06:32.279021Z",
     "start_time": "2023-02-21T06:06:32.073570Z"
    }
   },
   "outputs": [],
   "source": [
    "from transformers import AutoTokenizer"
   ]
  },
  {
   "cell_type": "code",
   "execution_count": 3,
   "id": "6919a9ec",
   "metadata": {
    "ExecuteTime": {
     "end_time": "2023-02-21T06:11:20.602310Z",
     "start_time": "2023-02-21T06:10:54.560415Z"
    },
    "scrolled": false
   },
   "outputs": [
    {
     "data": {
      "application/vnd.jupyter.widget-view+json": {
       "model_id": "7ec3571b346e4d0da97127ce4ebab0b7",
       "version_major": 2,
       "version_minor": 0
      },
      "text/plain": [
       "Downloading (…)/main/tokenizer.json:   0%|          | 0.00/1.36M [00:00<?, ?B/s]"
      ]
     },
     "metadata": {},
     "output_type": "display_data"
    },
    {
     "name": "stdout",
     "output_type": "stream",
     "text": [
      "RobertaTokenizerFast(name_or_path='distilroberta-base', vocab_size=50265, model_max_length=512, is_fast=True, padding_side='right', truncation_side='right', special_tokens={'bos_token': '<s>', 'eos_token': '</s>', 'unk_token': '<unk>', 'sep_token': '</s>', 'pad_token': '<pad>', 'cls_token': '<s>', 'mask_token': AddedToken(\"<mask>\", rstrip=False, lstrip=True, single_word=False, normalized=False)})\n"
     ]
    }
   ],
   "source": [
    "# 加载编码器\n",
    "tokenizer = AutoTokenizer.from_pretrained('distilroberta-base')\n",
    "print(tokenizer)"
   ]
  },
  {
   "cell_type": "code",
   "execution_count": 4,
   "id": "50cff87d",
   "metadata": {
    "ExecuteTime": {
     "end_time": "2023-02-21T06:12:53.595351Z",
     "start_time": "2023-02-21T06:12:53.543488Z"
    }
   },
   "outputs": [
    {
     "data": {
      "text/plain": [
       "{'input_ids': [[0, 37265, 92, 3556, 2485, 31, 5, 20536, 2833, 2], [0, 9226, 7458, 2088, 16, 372, 2]], 'attention_mask': [[1, 1, 1, 1, 1, 1, 1, 1, 1, 1], [1, 1, 1, 1, 1, 1, 1]]}"
      ]
     },
     "execution_count": 4,
     "metadata": {},
     "output_type": "execute_result"
    }
   ],
   "source": [
    "# 编码试算\n",
    "tokenizer.batch_encode_plus([\n",
    "    'hide new secretions from the parental units',\n",
    "    'this moive is great'\n",
    "])"
   ]
  },
  {
   "cell_type": "code",
   "execution_count": 5,
   "id": "864669d0",
   "metadata": {
    "ExecuteTime": {
     "end_time": "2023-02-21T06:15:11.693234Z",
     "start_time": "2023-02-21T06:15:10.458537Z"
    },
    "collapsed": true
   },
   "outputs": [
    {
     "data": {
      "text/plain": [
       "DatasetDict({\n",
       "    train: Dataset({\n",
       "        features: ['sentence', 'label', 'idx'],\n",
       "        num_rows: 67349\n",
       "    })\n",
       "    validation: Dataset({\n",
       "        features: ['sentence', 'label', 'idx'],\n",
       "        num_rows: 872\n",
       "    })\n",
       "    test: Dataset({\n",
       "        features: ['sentence', 'label', 'idx'],\n",
       "        num_rows: 1821\n",
       "    })\n",
       "})"
      ]
     },
     "execution_count": 5,
     "metadata": {},
     "output_type": "execute_result"
    }
   ],
   "source": [
    "# 加载数据\n",
    "from datasets import load_dataset, load_from_disk\n",
    "\n",
    "# dataset = load_dataset(path='glue', name='sst2')\n",
    "\n",
    "dataset = load_from_disk('../data/glue_sst2/')\n",
    "dataset"
   ]
  },
  {
   "cell_type": "code",
   "execution_count": 9,
   "id": "934dd52b",
   "metadata": {
    "ExecuteTime": {
     "end_time": "2023-02-21T06:21:19.017803Z",
     "start_time": "2023-02-21T06:21:18.050391Z"
    },
    "collapsed": true
   },
   "outputs": [
    {
     "name": "stdout",
     "output_type": "stream",
     "text": [
      " "
     ]
    },
    {
     "name": "stderr",
     "output_type": "stream",
     "text": [
      "Loading cached processed dataset at D:\\AIoT-深度学习视频版\\深度学习基础\\自然语言处理\\NLP入门\\data\\glue_sst2\\train\\cache-e7923d566d2773fc.arrow\n"
     ]
    },
    {
     "name": "stdout",
     "output_type": "stream",
     "text": [
      " "
     ]
    },
    {
     "name": "stderr",
     "output_type": "stream",
     "text": [
      "Loading cached processed dataset at D:\\AIoT-深度学习视频版\\深度学习基础\\自然语言处理\\NLP入门\\data\\glue_sst2\\train\\cache-5023b6ee61159e5d.arrow\n"
     ]
    },
    {
     "name": "stdout",
     "output_type": "stream",
     "text": [
      " "
     ]
    },
    {
     "name": "stderr",
     "output_type": "stream",
     "text": [
      "Loading cached processed dataset at D:\\AIoT-深度学习视频版\\深度学习基础\\自然语言处理\\NLP入门\\data\\glue_sst2\\train\\cache-d8ecc51bbc907621.arrow\n"
     ]
    },
    {
     "name": "stdout",
     "output_type": "stream",
     "text": [
      " "
     ]
    },
    {
     "name": "stderr",
     "output_type": "stream",
     "text": [
      "Loading cached processed dataset at D:\\AIoT-深度学习视频版\\深度学习基础\\自然语言处理\\NLP入门\\data\\glue_sst2\\train\\cache-214f7e5f7775db2c.arrow\n"
     ]
    },
    {
     "name": "stdout",
     "output_type": "stream",
     "text": [
      " "
     ]
    },
    {
     "name": "stderr",
     "output_type": "stream",
     "text": [
      "Loading cached processed dataset at D:\\AIoT-深度学习视频版\\深度学习基础\\自然语言处理\\NLP入门\\data\\glue_sst2\\train\\cache-a791525836e67b8f.arrow\n"
     ]
    },
    {
     "name": "stdout",
     "output_type": "stream",
     "text": [
      " "
     ]
    },
    {
     "name": "stderr",
     "output_type": "stream",
     "text": [
      "Loading cached processed dataset at D:\\AIoT-深度学习视频版\\深度学习基础\\自然语言处理\\NLP入门\\data\\glue_sst2\\train\\cache-07a89c38c14a9c57.arrow\n"
     ]
    },
    {
     "name": "stdout",
     "output_type": "stream",
     "text": [
      " "
     ]
    },
    {
     "name": "stderr",
     "output_type": "stream",
     "text": [
      "Loading cached processed dataset at D:\\AIoT-深度学习视频版\\深度学习基础\\自然语言处理\\NLP入门\\data\\glue_sst2\\train\\cache-493ba12b4f93cfef.arrow\n"
     ]
    },
    {
     "name": "stdout",
     "output_type": "stream",
     "text": [
      " "
     ]
    },
    {
     "name": "stderr",
     "output_type": "stream",
     "text": [
      "Loading cached processed dataset at D:\\AIoT-深度学习视频版\\深度学习基础\\自然语言处理\\NLP入门\\data\\glue_sst2\\train\\cache-2683d9b8c4ab1cb5.arrow\n"
     ]
    },
    {
     "name": "stdout",
     "output_type": "stream",
     "text": [
      " "
     ]
    },
    {
     "name": "stderr",
     "output_type": "stream",
     "text": [
      "Loading cached processed dataset at D:\\AIoT-深度学习视频版\\深度学习基础\\自然语言处理\\NLP入门\\data\\glue_sst2\\train\\cache-ba6e97660808f56d.arrow\n"
     ]
    },
    {
     "name": "stdout",
     "output_type": "stream",
     "text": [
      " "
     ]
    },
    {
     "name": "stderr",
     "output_type": "stream",
     "text": [
      "Loading cached processed dataset at D:\\AIoT-深度学习视频版\\深度学习基础\\自然语言处理\\NLP入门\\data\\glue_sst2\\train\\cache-484ffaa80c36809c.arrow\n"
     ]
    },
    {
     "name": "stdout",
     "output_type": "stream",
     "text": [
      " "
     ]
    },
    {
     "name": "stderr",
     "output_type": "stream",
     "text": [
      "Loading cached processed dataset at D:\\AIoT-深度学习视频版\\深度学习基础\\自然语言处理\\NLP入门\\data\\glue_sst2\\train\\cache-20153eb38a336f92.arrow\n"
     ]
    },
    {
     "name": "stdout",
     "output_type": "stream",
     "text": [
      " "
     ]
    },
    {
     "name": "stderr",
     "output_type": "stream",
     "text": [
      "Loading cached processed dataset at D:\\AIoT-深度学习视频版\\深度学习基础\\自然语言处理\\NLP入门\\data\\glue_sst2\\train\\cache-c1390ad4ff7a5830.arrow\n"
     ]
    },
    {
     "name": "stdout",
     "output_type": "stream",
     "text": [
      " "
     ]
    },
    {
     "name": "stderr",
     "output_type": "stream",
     "text": [
      "Loading cached processed dataset at D:\\AIoT-深度学习视频版\\深度学习基础\\自然语言处理\\NLP入门\\data\\glue_sst2\\validation\\cache-934391db1a9a06a8.arrow\n"
     ]
    },
    {
     "name": "stdout",
     "output_type": "stream",
     "text": [
      " "
     ]
    },
    {
     "name": "stderr",
     "output_type": "stream",
     "text": [
      "Loading cached processed dataset at D:\\AIoT-深度学习视频版\\深度学习基础\\自然语言处理\\NLP入门\\data\\glue_sst2\\validation\\cache-ad7f34cfea0a026f.arrow\n"
     ]
    },
    {
     "name": "stdout",
     "output_type": "stream",
     "text": [
      " "
     ]
    },
    {
     "name": "stderr",
     "output_type": "stream",
     "text": [
      "Loading cached processed dataset at D:\\AIoT-深度学习视频版\\深度学习基础\\自然语言处理\\NLP入门\\data\\glue_sst2\\validation\\cache-d8ecda12cfc1bbd7.arrow\n"
     ]
    },
    {
     "name": "stdout",
     "output_type": "stream",
     "text": [
      " "
     ]
    },
    {
     "name": "stderr",
     "output_type": "stream",
     "text": [
      "Loading cached processed dataset at D:\\AIoT-深度学习视频版\\深度学习基础\\自然语言处理\\NLP入门\\data\\glue_sst2\\validation\\cache-ddc06be8d6ad1537.arrow\n"
     ]
    },
    {
     "name": "stdout",
     "output_type": "stream",
     "text": [
      " "
     ]
    },
    {
     "name": "stderr",
     "output_type": "stream",
     "text": [
      "Loading cached processed dataset at D:\\AIoT-深度学习视频版\\深度学习基础\\自然语言处理\\NLP入门\\data\\glue_sst2\\validation\\cache-f1912f7f1cd5e993.arrow\n"
     ]
    },
    {
     "name": "stdout",
     "output_type": "stream",
     "text": [
      " "
     ]
    },
    {
     "name": "stderr",
     "output_type": "stream",
     "text": [
      "Loading cached processed dataset at D:\\AIoT-深度学习视频版\\深度学习基础\\自然语言处理\\NLP入门\\data\\glue_sst2\\validation\\cache-d863175551f20cd9.arrow\n"
     ]
    },
    {
     "name": "stdout",
     "output_type": "stream",
     "text": [
      " "
     ]
    },
    {
     "name": "stderr",
     "output_type": "stream",
     "text": [
      "Loading cached processed dataset at D:\\AIoT-深度学习视频版\\深度学习基础\\自然语言处理\\NLP入门\\data\\glue_sst2\\validation\\cache-f4bacd7e635e14e9.arrow\n"
     ]
    },
    {
     "name": "stdout",
     "output_type": "stream",
     "text": [
      " "
     ]
    },
    {
     "name": "stderr",
     "output_type": "stream",
     "text": [
      "Loading cached processed dataset at D:\\AIoT-深度学习视频版\\深度学习基础\\自然语言处理\\NLP入门\\data\\glue_sst2\\validation\\cache-48fdba2b1cbe65e7.arrow\n"
     ]
    },
    {
     "name": "stdout",
     "output_type": "stream",
     "text": [
      " "
     ]
    },
    {
     "name": "stderr",
     "output_type": "stream",
     "text": [
      "Loading cached processed dataset at D:\\AIoT-深度学习视频版\\深度学习基础\\自然语言处理\\NLP入门\\data\\glue_sst2\\validation\\cache-0fd5e53407b2e36c.arrow\n"
     ]
    },
    {
     "name": "stdout",
     "output_type": "stream",
     "text": [
      " "
     ]
    },
    {
     "name": "stderr",
     "output_type": "stream",
     "text": [
      "Loading cached processed dataset at D:\\AIoT-深度学习视频版\\深度学习基础\\自然语言处理\\NLP入门\\data\\glue_sst2\\validation\\cache-495b277a4133902d.arrow\n"
     ]
    },
    {
     "name": "stdout",
     "output_type": "stream",
     "text": [
      " "
     ]
    },
    {
     "name": "stderr",
     "output_type": "stream",
     "text": [
      "Loading cached processed dataset at D:\\AIoT-深度学习视频版\\深度学习基础\\自然语言处理\\NLP入门\\data\\glue_sst2\\validation\\cache-113266679ce99132.arrow\n"
     ]
    },
    {
     "name": "stdout",
     "output_type": "stream",
     "text": [
      " "
     ]
    },
    {
     "name": "stderr",
     "output_type": "stream",
     "text": [
      "Loading cached processed dataset at D:\\AIoT-深度学习视频版\\深度学习基础\\自然语言处理\\NLP入门\\data\\glue_sst2\\validation\\cache-879c9e9d60f1da82.arrow\n"
     ]
    },
    {
     "name": "stdout",
     "output_type": "stream",
     "text": [
      " "
     ]
    },
    {
     "name": "stderr",
     "output_type": "stream",
     "text": [
      "Loading cached processed dataset at D:\\AIoT-深度学习视频版\\深度学习基础\\自然语言处理\\NLP入门\\data\\glue_sst2\\test\\cache-d947190a8ba2790c.arrow\n"
     ]
    },
    {
     "name": "stdout",
     "output_type": "stream",
     "text": [
      " "
     ]
    },
    {
     "name": "stderr",
     "output_type": "stream",
     "text": [
      "Loading cached processed dataset at D:\\AIoT-深度学习视频版\\深度学习基础\\自然语言处理\\NLP入门\\data\\glue_sst2\\test\\cache-560b3729e2faef57.arrow\n"
     ]
    },
    {
     "name": "stdout",
     "output_type": "stream",
     "text": [
      " "
     ]
    },
    {
     "name": "stderr",
     "output_type": "stream",
     "text": [
      "Loading cached processed dataset at D:\\AIoT-深度学习视频版\\深度学习基础\\自然语言处理\\NLP入门\\data\\glue_sst2\\test\\cache-2acac187a0cd141b.arrow\n"
     ]
    },
    {
     "name": "stdout",
     "output_type": "stream",
     "text": [
      " "
     ]
    },
    {
     "name": "stderr",
     "output_type": "stream",
     "text": [
      "Loading cached processed dataset at D:\\AIoT-深度学习视频版\\深度学习基础\\自然语言处理\\NLP入门\\data\\glue_sst2\\test\\cache-040e97844ff65e6e.arrow\n"
     ]
    },
    {
     "name": "stdout",
     "output_type": "stream",
     "text": [
      " "
     ]
    },
    {
     "name": "stderr",
     "output_type": "stream",
     "text": [
      "Loading cached processed dataset at D:\\AIoT-深度学习视频版\\深度学习基础\\自然语言处理\\NLP入门\\data\\glue_sst2\\test\\cache-27ff33537cf80d65.arrow\n"
     ]
    },
    {
     "name": "stdout",
     "output_type": "stream",
     "text": [
      " "
     ]
    },
    {
     "name": "stderr",
     "output_type": "stream",
     "text": [
      "Loading cached processed dataset at D:\\AIoT-深度学习视频版\\深度学习基础\\自然语言处理\\NLP入门\\data\\glue_sst2\\test\\cache-198be2e0e17f6071.arrow\n"
     ]
    },
    {
     "name": "stdout",
     "output_type": "stream",
     "text": [
      " "
     ]
    },
    {
     "name": "stderr",
     "output_type": "stream",
     "text": [
      "Loading cached processed dataset at D:\\AIoT-深度学习视频版\\深度学习基础\\自然语言处理\\NLP入门\\data\\glue_sst2\\test\\cache-3b2b0db76a462d69.arrow\n"
     ]
    },
    {
     "name": "stdout",
     "output_type": "stream",
     "text": [
      " "
     ]
    },
    {
     "name": "stderr",
     "output_type": "stream",
     "text": [
      "Loading cached processed dataset at D:\\AIoT-深度学习视频版\\深度学习基础\\自然语言处理\\NLP入门\\data\\glue_sst2\\test\\cache-e8a6387e5a1e4c1c.arrow\n"
     ]
    },
    {
     "name": "stdout",
     "output_type": "stream",
     "text": [
      " "
     ]
    },
    {
     "name": "stderr",
     "output_type": "stream",
     "text": [
      "Loading cached processed dataset at D:\\AIoT-深度学习视频版\\深度学习基础\\自然语言处理\\NLP入门\\data\\glue_sst2\\test\\cache-0662b6798908ec63.arrow\n"
     ]
    },
    {
     "name": "stdout",
     "output_type": "stream",
     "text": [
      " "
     ]
    },
    {
     "name": "stderr",
     "output_type": "stream",
     "text": [
      "Loading cached processed dataset at D:\\AIoT-深度学习视频版\\深度学习基础\\自然语言处理\\NLP入门\\data\\glue_sst2\\test\\cache-3e3b2cd1701fe845.arrow\n"
     ]
    },
    {
     "name": "stdout",
     "output_type": "stream",
     "text": [
      " "
     ]
    },
    {
     "name": "stderr",
     "output_type": "stream",
     "text": [
      "Loading cached processed dataset at D:\\AIoT-深度学习视频版\\深度学习基础\\自然语言处理\\NLP入门\\data\\glue_sst2\\test\\cache-c52bed55c338752e.arrow\n"
     ]
    },
    {
     "name": "stdout",
     "output_type": "stream",
     "text": [
      " "
     ]
    },
    {
     "name": "stderr",
     "output_type": "stream",
     "text": [
      "Loading cached processed dataset at D:\\AIoT-深度学习视频版\\深度学习基础\\自然语言处理\\NLP入门\\data\\glue_sst2\\test\\cache-0fd2fd7c6de4c99c.arrow\n"
     ]
    }
   ],
   "source": [
    "# 对每条数据的sentence部分进行编码\n",
    "def f(data, tokenizer):\n",
    "    return tokenizer.batch_encode_plus(data['sentence'])\n",
    "\n",
    "dataset = dataset.map(f,\n",
    "           batched=True,\n",
    "           batch_size=1000,\n",
    "           num_proc=12,\n",
    "           remove_columns=['sentence', 'idx', 'label'],\n",
    "           fn_kwargs={'tokenizer': tokenizer})"
   ]
  },
  {
   "cell_type": "code",
   "execution_count": 10,
   "id": "8edf2eae",
   "metadata": {
    "ExecuteTime": {
     "end_time": "2023-02-21T06:21:37.998174Z",
     "start_time": "2023-02-21T06:21:29.325760Z"
    }
   },
   "outputs": [
    {
     "name": "stdout",
     "output_type": "stream",
     "text": [
      "                                    "
     ]
    }
   ],
   "source": [
    "# 过滤掉太短的句子\n",
    "def f(data):\n",
    "    return [len(i) >= 9 for i in data['input_ids']]\n",
    "\n",
    "dataset = dataset.filter(f, batched=True, batch_size=1000, num_proc=12)"
   ]
  },
  {
   "cell_type": "code",
   "execution_count": 11,
   "id": "6699fbee",
   "metadata": {
    "ExecuteTime": {
     "end_time": "2023-02-21T06:21:44.628438Z",
     "start_time": "2023-02-21T06:21:44.623450Z"
    },
    "collapsed": true
   },
   "outputs": [
    {
     "data": {
      "text/plain": [
       "DatasetDict({\n",
       "    train: Dataset({\n",
       "        features: ['input_ids', 'attention_mask'],\n",
       "        num_rows: 44279\n",
       "    })\n",
       "    validation: Dataset({\n",
       "        features: ['input_ids', 'attention_mask'],\n",
       "        num_rows: 861\n",
       "    })\n",
       "    test: Dataset({\n",
       "        features: ['input_ids', 'attention_mask'],\n",
       "        num_rows: 1776\n",
       "    })\n",
       "})"
      ]
     },
     "execution_count": 11,
     "metadata": {},
     "output_type": "execute_result"
    }
   ],
   "source": [
    "dataset"
   ]
  },
  {
   "cell_type": "code",
   "execution_count": 12,
   "id": "8f0a80f8",
   "metadata": {
    "ExecuteTime": {
     "end_time": "2023-02-21T06:28:07.260228Z",
     "start_time": "2023-02-21T06:28:07.221330Z"
    }
   },
   "outputs": [
    {
     "data": {
      "text/plain": [
       "50264"
      ]
     },
     "execution_count": 12,
     "metadata": {},
     "output_type": "execute_result"
    }
   ],
   "source": [
    "tokenizer.get_vocab()['<mask>']"
   ]
  },
  {
   "cell_type": "code",
   "execution_count": 13,
   "id": "6c3ab8e5",
   "metadata": {
    "ExecuteTime": {
     "end_time": "2023-02-21T06:28:24.689918Z",
     "start_time": "2023-02-21T06:28:24.674956Z"
    }
   },
   "outputs": [],
   "source": [
    "# 阶段句子, 同时整理成模型需要的格式. \n",
    "def f(data):\n",
    "    b = len(data['input_ids'])\n",
    "    data['labels'] = data['attention_mask'].copy()\n",
    "    for i in range(b):\n",
    "        # 句子长度裁剪到9\n",
    "        data['input_ids'][i] = data['input_ids'][i][:9]\n",
    "        data['attention_mask'][i] = [1] * 9\n",
    "        data['labels'][i] = [-100] * 9\n",
    "        \n",
    "        # input_ids最后一位设置为2\n",
    "        data['input_ids'][i][-1] = 2\n",
    "        \n",
    "        # 每一个句子第4个词为mask\n",
    "        data['labels'][i][4] = data['input_ids'][i][4]\n",
    "        data['input_ids'][i][4] = 50264\n",
    "        \n",
    "    return data"
   ]
  },
  {
   "cell_type": "code",
   "execution_count": 42,
   "id": "f726bc49",
   "metadata": {
    "ExecuteTime": {
     "end_time": "2023-02-21T11:21:10.318286Z",
     "start_time": "2023-02-21T11:21:09.964718Z"
    }
   },
   "outputs": [
    {
     "data": {
      "text/plain": [
       "'1.11.0+cu113'"
      ]
     },
     "execution_count": 42,
     "metadata": {},
     "output_type": "execute_result"
    }
   ],
   "source": [
    "torch.__version__"
   ]
  },
  {
   "cell_type": "code",
   "execution_count": 44,
   "id": "6f2dcaa4",
   "metadata": {
    "ExecuteTime": {
     "end_time": "2023-02-21T11:49:11.186044Z",
     "start_time": "2023-02-21T11:49:11.171084Z"
    }
   },
   "outputs": [
    {
     "data": {
      "text/plain": [
       "'4.26.1'"
      ]
     },
     "execution_count": 44,
     "metadata": {},
     "output_type": "execute_result"
    }
   ],
   "source": [
    "import transformers\n",
    "transformers.__version__"
   ]
  },
  {
   "cell_type": "code",
   "execution_count": 14,
   "id": "250c0b98",
   "metadata": {
    "ExecuteTime": {
     "end_time": "2023-02-21T06:29:10.395391Z",
     "start_time": "2023-02-21T06:29:00.881752Z"
    }
   },
   "outputs": [
    {
     "name": "stdout",
     "output_type": "stream",
     "text": [
      "                                    "
     ]
    }
   ],
   "source": [
    "dataset = dataset.map(f, batched=True, batch_size=1000, num_proc=12)"
   ]
  },
  {
   "cell_type": "code",
   "execution_count": 15,
   "id": "9f40c11d",
   "metadata": {
    "ExecuteTime": {
     "end_time": "2023-02-21T06:29:18.679744Z",
     "start_time": "2023-02-21T06:29:18.675755Z"
    },
    "collapsed": true
   },
   "outputs": [
    {
     "data": {
      "text/plain": [
       "DatasetDict({\n",
       "    train: Dataset({\n",
       "        features: ['input_ids', 'attention_mask', 'labels'],\n",
       "        num_rows: 44279\n",
       "    })\n",
       "    validation: Dataset({\n",
       "        features: ['input_ids', 'attention_mask', 'labels'],\n",
       "        num_rows: 861\n",
       "    })\n",
       "    test: Dataset({\n",
       "        features: ['input_ids', 'attention_mask', 'labels'],\n",
       "        num_rows: 1776\n",
       "    })\n",
       "})"
      ]
     },
     "execution_count": 15,
     "metadata": {},
     "output_type": "execute_result"
    }
   ],
   "source": [
    "dataset"
   ]
  },
  {
   "cell_type": "code",
   "execution_count": 16,
   "id": "d7ce2e59",
   "metadata": {
    "ExecuteTime": {
     "end_time": "2023-02-21T06:29:31.846111Z",
     "start_time": "2023-02-21T06:29:31.830154Z"
    },
    "scrolled": true
   },
   "outputs": [
    {
     "data": {
      "text/plain": [
       "{'input_ids': [0, 37265, 92, 3556, 50264, 31, 5, 20536, 2],\n",
       " 'attention_mask': [1, 1, 1, 1, 1, 1, 1, 1, 1],\n",
       " 'labels': [-100, -100, -100, -100, 2485, -100, -100, -100, -100]}"
      ]
     },
     "execution_count": 16,
     "metadata": {},
     "output_type": "execute_result"
    }
   ],
   "source": [
    "dataset['train'][0]"
   ]
  },
  {
   "cell_type": "code",
   "execution_count": 17,
   "id": "0bb254ff",
   "metadata": {
    "ExecuteTime": {
     "end_time": "2023-02-21T06:30:52.822230Z",
     "start_time": "2023-02-21T06:30:43.762435Z"
    }
   },
   "outputs": [],
   "source": [
    "import torch\n",
    "from transformers.data.data_collator import default_data_collator"
   ]
  },
  {
   "cell_type": "code",
   "execution_count": 18,
   "id": "27ae014a",
   "metadata": {
    "ExecuteTime": {
     "end_time": "2023-02-21T06:32:01.706188Z",
     "start_time": "2023-02-21T06:32:01.665298Z"
    },
    "collapsed": true
   },
   "outputs": [
    {
     "data": {
      "text/plain": [
       "(5534,\n",
       " {'input_ids': tensor([[    0,  1264,     9,   475, 50264,     4,  1855,   873,     2],\n",
       "          [    0,  8155,    34,  1348, 50264,   888,  2609,     5,     2],\n",
       "          [    0,  2911,  1073,  6796, 50264,    14,   793,  2950,     2],\n",
       "          [    0,   354,    65,     9, 50264,  5373,  2156,  4281,     2],\n",
       "          [    0,  2794, 19003,  2787, 50264, 21450,    12, 31549,     2],\n",
       "          [    0, 29676,    50,    45, 50264,   385,  2401, 14476,     2],\n",
       "          [    0, 10859,  2156,  1537, 50264, 16016,    66,     5,     2],\n",
       "          [    0, 19746,    47,   619, 50264,    47,   393,   236,     2]]),\n",
       "  'attention_mask': tensor([[1, 1, 1, 1, 1, 1, 1, 1, 1],\n",
       "          [1, 1, 1, 1, 1, 1, 1, 1, 1],\n",
       "          [1, 1, 1, 1, 1, 1, 1, 1, 1],\n",
       "          [1, 1, 1, 1, 1, 1, 1, 1, 1],\n",
       "          [1, 1, 1, 1, 1, 1, 1, 1, 1],\n",
       "          [1, 1, 1, 1, 1, 1, 1, 1, 1],\n",
       "          [1, 1, 1, 1, 1, 1, 1, 1, 1],\n",
       "          [1, 1, 1, 1, 1, 1, 1, 1, 1]]),\n",
       "  'labels': tensor([[ -100,  -100,  -100,  -100,   338,  -100,  -100,  -100,  -100],\n",
       "          [ -100,  -100,  -100,  -100, 40350,  -100,  -100,  -100,  -100],\n",
       "          [ -100,  -100,  -100,  -100,    30,  -100,  -100,  -100,  -100],\n",
       "          [ -100,  -100,  -100,  -100,   167,  -100,  -100,  -100,  -100],\n",
       "          [ -100,  -100,  -100,  -100,     8,  -100,  -100,  -100,  -100],\n",
       "          [ -100,  -100,  -100,  -100, 19634,  -100,  -100,  -100,  -100],\n",
       "          [ -100,  -100,  -100,  -100,  1472,  -100,  -100,  -100,  -100],\n",
       "          [ -100,  -100,  -100,  -100,    14,  -100,  -100,  -100,  -100]])})"
      ]
     },
     "execution_count": 18,
     "metadata": {},
     "output_type": "execute_result"
    }
   ],
   "source": [
    "loader = torch.utils.data.DataLoader(\n",
    "    dataset=dataset['train'],\n",
    "    batch_size=8,\n",
    "    collate_fn=default_data_collator,\n",
    "    shuffle=True,\n",
    "    drop_last=True\n",
    ")\n",
    "\n",
    "for data in loader:\n",
    "    break\n",
    "len(loader), data"
   ]
  },
  {
   "cell_type": "code",
   "execution_count": 19,
   "id": "1269d394",
   "metadata": {
    "ExecuteTime": {
     "end_time": "2023-02-21T06:33:35.123996Z",
     "start_time": "2023-02-21T06:33:35.012293Z"
    }
   },
   "outputs": [],
   "source": [
    "from transformers import AutoModelForCausalLM, RobertaModel"
   ]
  },
  {
   "cell_type": "code",
   "execution_count": 20,
   "id": "4d9debf3",
   "metadata": {
    "ExecuteTime": {
     "end_time": "2023-02-21T06:47:54.884939Z",
     "start_time": "2023-02-21T06:47:54.867983Z"
    },
    "code_folding": []
   },
   "outputs": [],
   "source": [
    "class Model(torch.nn.Module):\n",
    "    def __init__(self):\n",
    "        super().__init__()\n",
    "        self.pretrained = RobertaModel.from_pretrained('distilroberta-base')\n",
    "        \n",
    "        decoder = torch.nn.Linear(768, tokenizer.vocab_size)\n",
    "        decoder.bias = torch.nn.Parameter(torch.zeros(tokenizer.vocab_size))\n",
    "        \n",
    "        self.fc = torch.nn.Sequential(\n",
    "            torch.nn.Linear(768, 768),\n",
    "            torch.nn.GELU(),\n",
    "            torch.nn.LayerNorm(768, eps=1e-5),\n",
    "            decoder\n",
    "        )\n",
    "        \n",
    "        # 加载预训练模型的参数\n",
    "        parameters = AutoModelForCausalLM.from_pretrained('distilroberta-base')\n",
    "        self.fc[0].load_state_dict(parameters.lm_head.dense.state_dict())\n",
    "        self.fc[2].load_state_dict(parameters.lm_head.layer_norm.state_dict())\n",
    "        self.fc[3].load_state_dict(parameters.lm_head.decoder.state_dict())\n",
    "        \n",
    "        self.criterion = torch.nn.CrossEntropyLoss()\n",
    "        \n",
    "    def forward(self, input_ids, attention_mask, labels=None):\n",
    "        logits = self.pretrained(input_ids, attention_mask)\n",
    "        logits = logits.last_hidden_state\n",
    "        logits = self.fc(logits)\n",
    "        \n",
    "        loss = None\n",
    "        \n",
    "        if labels is not None:\n",
    "            shifted_logits = logits[:, :-1].reshape(-1, tokenizer.vocab_size)\n",
    "            shifted_labels = labels[:, 1:].reshape(-1)\n",
    "            \n",
    "            loss = self.criterion(shifted_logits, shifted_labels)\n",
    "        return {'loss': loss, 'logits': logits}\n",
    "    "
   ]
  },
  {
   "cell_type": "code",
   "execution_count": 21,
   "id": "5df30206",
   "metadata": {
    "ExecuteTime": {
     "end_time": "2023-02-21T06:48:35.850430Z",
     "start_time": "2023-02-21T06:48:00.035160Z"
    }
   },
   "outputs": [
    {
     "data": {
      "application/vnd.jupyter.widget-view+json": {
       "model_id": "c4bef567ecaf4493a4a24ad3e7af4691",
       "version_major": 2,
       "version_minor": 0
      },
      "text/plain": [
       "Downloading (…)\"pytorch_model.bin\";:   0%|          | 0.00/331M [00:00<?, ?B/s]"
      ]
     },
     "metadata": {},
     "output_type": "display_data"
    },
    {
     "name": "stderr",
     "output_type": "stream",
     "text": [
      "Some weights of the model checkpoint at distilroberta-base were not used when initializing RobertaModel: ['lm_head.bias', 'lm_head.layer_norm.bias', 'lm_head.dense.weight', 'lm_head.dense.bias', 'lm_head.decoder.weight', 'lm_head.layer_norm.weight']\n",
      "- This IS expected if you are initializing RobertaModel from the checkpoint of a model trained on another task or with another architecture (e.g. initializing a BertForSequenceClassification model from a BertForPreTraining model).\n",
      "- This IS NOT expected if you are initializing RobertaModel from the checkpoint of a model that you expect to be exactly identical (initializing a BertForSequenceClassification model from a BertForSequenceClassification model).\n",
      "If you want to use `RobertaLMHeadModel` as a standalone, add `is_decoder=True.`\n"
     ]
    }
   ],
   "source": [
    "model = Model()"
   ]
  },
  {
   "cell_type": "code",
   "execution_count": 22,
   "id": "50263bc7",
   "metadata": {
    "ExecuteTime": {
     "end_time": "2023-02-21T06:49:26.377505Z",
     "start_time": "2023-02-21T06:49:26.359551Z"
    }
   },
   "outputs": [
    {
     "name": "stdout",
     "output_type": "stream",
     "text": [
      "121364313\n"
     ]
    }
   ],
   "source": [
    "# 参数量\n",
    "print(sum(i.numel() for i in model.parameters()))"
   ]
  },
  {
   "cell_type": "code",
   "execution_count": 23,
   "id": "b0286fae",
   "metadata": {
    "ExecuteTime": {
     "end_time": "2023-02-21T06:51:26.123437Z",
     "start_time": "2023-02-21T06:51:25.912004Z"
    }
   },
   "outputs": [
    {
     "data": {
      "text/plain": [
       "(tensor(19.5734, grad_fn=<NllLossBackward0>), torch.Size([8, 9, 50265]))"
      ]
     },
     "execution_count": 23,
     "metadata": {},
     "output_type": "execute_result"
    }
   ],
   "source": [
    "out = model(**data)\n",
    "out['loss'], out['logits'].shape"
   ]
  },
  {
   "cell_type": "code",
   "execution_count": 27,
   "id": "6769d74e",
   "metadata": {
    "ExecuteTime": {
     "end_time": "2023-02-21T06:59:32.123025Z",
     "start_time": "2023-02-21T06:59:32.103078Z"
    }
   },
   "outputs": [],
   "source": [
    "def test(model):\n",
    "    model.eval()\n",
    "    \n",
    "    loader_test = torch.utils.data.DataLoader(\n",
    "        dataset = dataset['test'],\n",
    "        batch_size=8,\n",
    "        collate_fn=default_data_collator,\n",
    "        shuffle=True,\n",
    "        drop_last=True\n",
    "    )\n",
    "    \n",
    "    correct = 0\n",
    "    total = 0\n",
    "    \n",
    "    for i, data in enumerate(loader_test):\n",
    "        label = data['labels'][:, 4].clone()\n",
    "        \n",
    "        # 从数据中抹掉label, 防止模型作弊\n",
    "        data['labels'] = None\n",
    "        \n",
    "        # 计算\n",
    "        with torch.no_grad():\n",
    "            out = model(**data)\n",
    "            \n",
    "        # out['logits'].shape = [8, 9, 50265] -> [8, 9]\n",
    "        out = out['logits'].argmax(dim=2)[:, 4]\n",
    "        correct += (label == out).sum().item()\n",
    "        total += 8\n",
    "        \n",
    "        if i % 10 == 0:\n",
    "            print(i)\n",
    "            print(label)\n",
    "            print(out)\n",
    "            \n",
    "        if i == 50:\n",
    "            break\n",
    "            \n",
    "    print('accuracy: ', correct / total)\n",
    "    \n",
    "    for i in range(8):\n",
    "        print(tokenizer.decode(data['input_ids'][i]))\n",
    "        print(tokenizer.decode(label[i]), tokenizer.decode(out[i]))\n",
    "        print()"
   ]
  },
  {
   "cell_type": "code",
   "execution_count": 28,
   "id": "13732ef6",
   "metadata": {
    "ExecuteTime": {
     "end_time": "2023-02-21T06:59:37.898631Z",
     "start_time": "2023-02-21T06:59:34.475730Z"
    },
    "collapsed": true
   },
   "outputs": [
    {
     "name": "stdout",
     "output_type": "stream",
     "text": [
      "0\n",
      "tensor([  822,  2789, 11783,   408,     9,   241,  1073,    12])\n",
      "tensor([ 1816, 13536, 30609, 13670,   396,   241, 23250,    12])\n",
      "10\n",
      "tensor([ 7590,   117, 29284,  5846,   411,  1116,  2048,  6500])\n",
      "tensor([ 7590,   117, 29284,  6298,    80,  1116,   403,  7920])\n",
      "20\n",
      "tensor([  10,  802,  295, 9760,   77,   16,   10,   28])\n",
      "tensor([  10, 2813,  218, 9760,   77,   16,   10, 2045])\n",
      "30\n",
      "tensor([ 114,   30,  576,  225,   25, 3159,  426, 1346])\n",
      "tensor([   53,  2156,   576,   814,    25,   543, 25254,  1346])\n",
      "40\n",
      "tensor([   16,    10,   172, 15369,   393, 18482,     7,   145])\n",
      "tensor([ 1241,    10,   172, 41878,    45, 14233,     7,   190])\n",
      "50\n",
      "tensor([    5,    29,   480, 10238,   110,     9,    10,  2156])\n",
      "tensor([  664,    29,  4338, 21844,   239,     9,    98,   878])\n",
      "accuracy:  0.35294117647058826\n",
      "<s>the talents of<mask> actors helps ``</s>\n",
      " the  young\n",
      "\n",
      "<s>when it '<mask> all wet,</s>\n",
      "s s\n",
      "\n",
      "<s>wait for video<mask> and then do</s>\n",
      " --  footage\n",
      "\n",
      "<s>a tender and<mask> drama, based</s>\n",
      " touching  heartfelt\n",
      "\n",
      "<s>if you pitch<mask> expectations at an</s>\n",
      " your  high\n",
      "\n",
      "<s>a gentle blend<mask> present day testim</s>\n",
      " of  of\n",
      "\n",
      "<s>theirs is<mask> simple and heart</s>\n",
      " a  so\n",
      "\n",
      "<s>morton is<mask> as usual,</s>\n",
      ",  running\n",
      "\n"
     ]
    }
   ],
   "source": [
    "test(model)"
   ]
  },
  {
   "cell_type": "code",
   "execution_count": 29,
   "id": "6997af23",
   "metadata": {
    "ExecuteTime": {
     "end_time": "2023-02-21T07:03:12.914851Z",
     "start_time": "2023-02-21T07:03:12.902882Z"
    }
   },
   "outputs": [],
   "source": [
    "device = torch.device('cuda:0' if torch.cuda.is_available() else 'cpu')"
   ]
  },
  {
   "cell_type": "code",
   "execution_count": 30,
   "id": "35928094",
   "metadata": {
    "ExecuteTime": {
     "end_time": "2023-02-21T07:03:16.943091Z",
     "start_time": "2023-02-21T07:03:16.912171Z"
    }
   },
   "outputs": [
    {
     "data": {
      "text/plain": [
       "device(type='cuda', index=0)"
      ]
     },
     "execution_count": 30,
     "metadata": {},
     "output_type": "execute_result"
    }
   ],
   "source": [
    "device"
   ]
  },
  {
   "cell_type": "code",
   "execution_count": 33,
   "id": "8e120178",
   "metadata": {
    "ExecuteTime": {
     "end_time": "2023-02-21T07:07:38.100306Z",
     "start_time": "2023-02-21T07:07:38.083306Z"
    }
   },
   "outputs": [],
   "source": [
    "from transformers import AdamW\n",
    "from transformers.optimization import get_scheduler\n",
    "\n",
    "\n",
    "# 训练\n",
    "def train():\n",
    "    optimizer = AdamW(model.parameters(), lr=2e-5)\n",
    "    scheduler = get_scheduler(name='linear',\n",
    "                             num_warmup_steps=0,\n",
    "                             num_training_steps=len(loader),\n",
    "                             optimizer=optimizer)\n",
    "    model.to(device)\n",
    "    model.train()\n",
    "    \n",
    "    for i, data in enumerate(loader):\n",
    "        input_ids, attention_mask, labels = data['input_ids'], data['attention_mask'], data['labels']\n",
    "        input_ids, attention_mask, labels = input_ids.to(device), attention_mask.to(device), labels.to(device)\n",
    "        out = model(input_ids=input_ids, attention_mask=attention_mask, labels=labels)\n",
    "        loss = out['loss']\n",
    "        \n",
    "        loss.backward()\n",
    "        # 为了训练稳定, 进行梯度裁剪\n",
    "        torch.nn.utils.clip_grad_norm_(model.parameters(), 1.0)\n",
    "        \n",
    "        optimizer.step()\n",
    "        scheduler.step()\n",
    "        \n",
    "        optimizer.zero_grad()\n",
    "        model.zero_grad()\n",
    "        \n",
    "        if i % 50 == 0:\n",
    "            label = data['labels'][:, 4].to(device)\n",
    "            out = out['logits'].argmax(dim=2)[:, 4]\n",
    "            \n",
    "            correct = (label == out).sum().item()\n",
    "            accuracy = correct / 8\n",
    "            \n",
    "            lr = optimizer.state_dict()['param_groups'][0]['lr']\n",
    "            \n",
    "            print(i, loss.item(), accuracy, lr)"
   ]
  },
  {
   "cell_type": "code",
   "execution_count": 34,
   "id": "7ff310b7",
   "metadata": {
    "ExecuteTime": {
     "end_time": "2023-02-21T07:13:00.275188Z",
     "start_time": "2023-02-21T07:07:40.411078Z"
    },
    "collapsed": true
   },
   "outputs": [
    {
     "name": "stdout",
     "output_type": "stream",
     "text": [
      "0 18.58106231689453 0.25 1.9996385977593064e-05\n",
      "50 6.724194049835205 0.125 1.9815684857246115e-05\n",
      "100 5.237442970275879 0.125 1.963498373689917e-05\n",
      "150 3.268683910369873 0.5 1.9454282616552225e-05\n",
      "200 1.94444739818573 0.625 1.927358149620528e-05\n",
      "250 2.919161319732666 0.625 1.909288037585833e-05\n",
      "300 3.6054649353027344 0.375 1.8912179255511386e-05\n",
      "350 2.935434103012085 0.375 1.873147813516444e-05\n",
      "400 3.1898624897003174 0.25 1.8550777014817495e-05\n",
      "450 3.477898120880127 0.375 1.8370075894470547e-05\n",
      "500 2.1842751502990723 0.75 1.81893747741236e-05\n",
      "550 3.3275065422058105 0.5 1.8008673653776656e-05\n",
      "600 1.7840290069580078 0.75 1.7827972533429708e-05\n",
      "650 2.3968780040740967 0.375 1.7647271413082763e-05\n",
      "700 2.3219566345214844 0.75 1.7466570292735818e-05\n",
      "750 4.22415828704834 0.25 1.728586917238887e-05\n",
      "800 2.2510032653808594 0.5 1.7105168052041924e-05\n",
      "850 2.736297130584717 0.5 1.692446693169498e-05\n",
      "900 4.031101703643799 0.25 1.674376581134803e-05\n",
      "950 2.875887870788574 0.5 1.6563064691001085e-05\n",
      "1000 3.5299007892608643 0.25 1.638236357065414e-05\n",
      "1050 2.095604181289673 0.75 1.6201662450307194e-05\n",
      "1100 3.9831299781799316 0.375 1.6020961329960246e-05\n",
      "1150 2.372304916381836 0.5 1.58402602096133e-05\n",
      "1200 1.497495412826538 0.375 1.5659559089266356e-05\n",
      "1250 1.1562037467956543 0.75 1.547885796891941e-05\n",
      "1300 2.710782051086426 0.25 1.5298156848572462e-05\n",
      "1350 2.010636329650879 0.375 1.5117455728225517e-05\n",
      "1400 3.0624656677246094 0.5 1.493675460787857e-05\n",
      "1450 2.1789300441741943 0.625 1.4756053487531623e-05\n",
      "1500 2.1616218090057373 0.625 1.457535236718468e-05\n",
      "1550 2.418511390686035 0.625 1.4394651246837732e-05\n",
      "1600 3.124037981033325 0.375 1.4213950126490786e-05\n",
      "1650 1.3064565658569336 0.75 1.4033249006143839e-05\n",
      "1700 5.468589782714844 0.25 1.3852547885796892e-05\n",
      "1750 4.165928840637207 0.375 1.3671846765449948e-05\n",
      "1800 1.8763623237609863 0.5 1.3491145645103002e-05\n",
      "1850 5.731645584106445 0.125 1.3310444524756055e-05\n",
      "1900 5.085934638977051 0.375 1.3129743404409108e-05\n",
      "1950 2.770045280456543 0.5 1.2949042284062163e-05\n",
      "2000 4.55886173248291 0.25 1.2768341163715217e-05\n",
      "2050 3.4215285778045654 0.375 1.258764004336827e-05\n",
      "2100 1.8230445384979248 0.375 1.2406938923021324e-05\n",
      "2150 2.7007627487182617 0.625 1.2226237802674377e-05\n",
      "2200 2.317026138305664 0.375 1.2045536682327432e-05\n",
      "2250 2.1870839595794678 0.375 1.1864835561980486e-05\n",
      "2300 2.2764720916748047 0.5 1.168413444163354e-05\n",
      "2350 3.4935083389282227 0.5 1.1503433321286593e-05\n",
      "2400 1.6136605739593506 0.625 1.1322732200939646e-05\n",
      "2450 2.5795607566833496 0.625 1.11420310805927e-05\n",
      "2500 1.881173849105835 0.5 1.0961329960245755e-05\n",
      "2550 1.3218326568603516 0.75 1.0780628839898809e-05\n",
      "2600 3.893292188644409 0.375 1.0599927719551862e-05\n",
      "2650 3.779909610748291 0.25 1.0419226599204916e-05\n",
      "2700 2.252300262451172 0.5 1.023852547885797e-05\n",
      "2750 2.144897699356079 0.5 1.0057824358511023e-05\n",
      "2800 2.902385711669922 0.5 9.877123238164078e-06\n",
      "2850 3.048004627227783 0.375 9.69642211781713e-06\n",
      "2900 3.0729312896728516 0.375 9.515720997470185e-06\n",
      "2950 4.316988945007324 0.125 9.335019877123239e-06\n",
      "3000 2.465182304382324 0.5 9.154318756776292e-06\n",
      "3050 2.470346450805664 0.5 8.973617636429347e-06\n",
      "3100 3.555572032928467 0.375 8.7929165160824e-06\n",
      "3150 2.7427735328674316 0.5 8.612215395735455e-06\n",
      "3200 3.848444700241089 0.5 8.431514275388508e-06\n",
      "3250 1.7678474187850952 0.375 8.25081315504156e-06\n",
      "3300 1.6188712120056152 0.75 8.070112034694616e-06\n",
      "3350 1.6527636051177979 0.625 7.889410914347669e-06\n",
      "3400 3.7811832427978516 0.375 7.708709794000724e-06\n",
      "3450 3.3080716133117676 0.375 7.5280086736537775e-06\n",
      "3500 3.0262033939361572 0.5 7.3473075533068315e-06\n",
      "3550 3.8501272201538086 0.25 7.166606432959885e-06\n",
      "3600 2.6000428199768066 0.375 6.9859053126129386e-06\n",
      "3650 1.0141311883926392 0.5 6.8052041922659925e-06\n",
      "3700 3.7520008087158203 0.5 6.6245030719190465e-06\n",
      "3750 2.4024722576141357 0.25 6.4438019515721005e-06\n",
      "3800 1.6141281127929688 0.5 6.263100831225154e-06\n",
      "3850 2.225493907928467 0.5 6.082399710878208e-06\n",
      "3900 2.4055867195129395 0.625 5.9016985905312615e-06\n",
      "3950 1.3785784244537354 0.625 5.7209974701843155e-06\n",
      "4000 1.2133457660675049 0.625 5.5402963498373695e-06\n",
      "4050 3.42606782913208 0.5 5.359595229490423e-06\n",
      "4100 2.3202219009399414 0.5 5.1788941091434774e-06\n",
      "4150 2.3008909225463867 0.75 4.9981929887965306e-06\n",
      "4200 1.344180941581726 0.625 4.8174918684495845e-06\n",
      "4250 2.456432819366455 0.375 4.6367907481026385e-06\n",
      "4300 2.3082151412963867 0.75 4.4560896277556925e-06\n",
      "4350 1.9977662563323975 0.625 4.2753885074087464e-06\n",
      "4400 3.3930001258850098 0.5 4.0946873870618e-06\n",
      "4450 3.444613456726074 0.125 3.9139862667148535e-06\n",
      "4500 2.120288610458374 0.375 3.7332851463679075e-06\n",
      "4550 1.3288915157318115 0.75 3.5525840260209615e-06\n",
      "4600 3.0264296531677246 0.5 3.3718829056740154e-06\n",
      "4650 1.7233186960220337 0.75 3.1911817853270694e-06\n",
      "4700 3.246528387069702 0.375 3.0104806649801234e-06\n",
      "4750 1.9622979164123535 0.75 2.8297795446331774e-06\n",
      "4800 2.4426774978637695 0.375 2.6490784242862305e-06\n",
      "4850 3.781554937362671 0.25 2.468377303939285e-06\n",
      "4900 3.7003743648529053 0.625 2.2876761835923384e-06\n",
      "4950 2.0551812648773193 0.5 2.1069750632453924e-06\n",
      "5000 0.7148579955101013 0.625 1.926273942898446e-06\n",
      "5050 1.9599319696426392 0.625 1.7455728225515001e-06\n",
      "5100 4.178522109985352 0.375 1.5648717022045537e-06\n",
      "5150 3.35066556930542 0.375 1.3841705818576077e-06\n",
      "5200 1.8776214122772217 0.625 1.2034694615106614e-06\n",
      "5250 2.0828630924224854 0.625 1.0227683411637154e-06\n",
      "5300 2.3167905807495117 0.5 8.420672208167693e-07\n",
      "5350 1.6402459144592285 0.625 6.61366100469823e-07\n",
      "5400 1.5670413970947266 0.625 4.806649801228768e-07\n",
      "5450 2.665070056915283 0.375 2.9996385977593064e-07\n",
      "5500 1.7032554149627686 0.625 1.1926273942898448e-07\n"
     ]
    }
   ],
   "source": [
    "train()"
   ]
  },
  {
   "cell_type": "code",
   "execution_count": 36,
   "id": "626a02f7",
   "metadata": {
    "ExecuteTime": {
     "end_time": "2023-02-21T07:15:12.183469Z",
     "start_time": "2023-02-21T07:15:11.215986Z"
    }
   },
   "outputs": [],
   "source": [
    "# 保存模型 \n",
    "torch.save(model, '../data/预测中间词.model')"
   ]
  },
  {
   "cell_type": "code",
   "execution_count": 40,
   "id": "7b8a4e7a",
   "metadata": {
    "ExecuteTime": {
     "end_time": "2023-02-21T07:15:52.976447Z",
     "start_time": "2023-02-21T07:15:52.774910Z"
    }
   },
   "outputs": [],
   "source": [
    "# 加载模型\n",
    "model2 = torch.load('../data/预测中间词.model', map_location='cpu')"
   ]
  },
  {
   "cell_type": "code",
   "execution_count": 41,
   "id": "373262be",
   "metadata": {
    "ExecuteTime": {
     "end_time": "2023-02-21T07:15:58.326059Z",
     "start_time": "2023-02-21T07:15:54.798496Z"
    }
   },
   "outputs": [
    {
     "name": "stdout",
     "output_type": "stream",
     "text": [
      "0\n",
      "tensor([5712, 2156,  409, 6670,  576,  189,   23,  295])\n",
      "tensor([5712, 2156,  409,   34,  576,  189,   31,  295])\n",
      "10\n",
      "tensor([1481,   98, 5906,  295,    8,   29, 4132,   16])\n",
      "tensor([ 1481,    98, 34029,   542,     8,    29, 20647,    16])\n",
      "20\n",
      "tensor([   19, 11857,  1338,  2624,  9699,     8, 24611,   253])\n",
      "tensor([   19, 11857,   213,    59,  8745,    13, 42661,   253])\n",
      "30\n",
      "tensor([ 992, 2156, 6756,   67,   11,  822,    5,   86])\n",
      "tensor([992,  30, 705,  10,  41, 822,   5,  86])\n",
      "40\n",
      "tensor([  89,   45,    5,   24,  205,   24,   19, 2156])\n",
      "tensor([ 89,  45,   5,  61, 618,  24,  19,  98])\n",
      "50\n",
      "tensor([ 3486,   143,    19, 10713,     5,     5,   668, 32894])\n",
      "tensor([ 3486,    41,    19, 10713,    10, 44009,   668, 32894])\n",
      "accuracy:  0.5098039215686274\n",
      "<s>neither funny<mask> suspenseful nor</s>\n",
      " nor  nor\n",
      "\n",
      "<s>and forget about<mask> attempt at a</s>\n",
      " any  an\n",
      "\n",
      "<s>a film made<mask> as little wit</s>\n",
      " with  with\n",
      "\n",
      "<s>here, ad<mask> lyne comes</s>\n",
      "rian rian\n",
      "\n",
      "<s>the fact that<mask> rookie is a</s>\n",
      " the  a\n",
      "\n",
      "<s>the scope of<mask> silberstein</s>\n",
      " the  david\n",
      "\n",
      "<s>reign of<mask> may be little</s>\n",
      " fire  fire\n",
      "\n",
      "<s>a solidly seaw<mask> chiller.</s>\n",
      "orthy orthy\n",
      "\n"
     ]
    }
   ],
   "source": [
    "test(model2)"
   ]
  }
 ],
 "metadata": {
  "kernelspec": {
   "display_name": "Python 3 (ipykernel)",
   "language": "python",
   "name": "python3"
  },
  "language_info": {
   "codemirror_mode": {
    "name": "ipython",
    "version": 3
   },
   "file_extension": ".py",
   "mimetype": "text/x-python",
   "name": "python",
   "nbconvert_exporter": "python",
   "pygments_lexer": "ipython3",
   "version": "3.7.8"
  },
  "toc": {
   "base_numbering": 1,
   "nav_menu": {},
   "number_sections": true,
   "sideBar": true,
   "skip_h1_title": false,
   "title_cell": "Table of Contents",
   "title_sidebar": "Contents",
   "toc_cell": false,
   "toc_position": {},
   "toc_section_display": true,
   "toc_window_display": false
  }
 },
 "nbformat": 4,
 "nbformat_minor": 5
}
