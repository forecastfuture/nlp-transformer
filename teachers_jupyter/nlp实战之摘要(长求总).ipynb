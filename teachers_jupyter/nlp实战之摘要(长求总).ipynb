{
 "cells": [
  {
   "cell_type": "code",
   "execution_count": 1,
   "id": "8e53180d",
   "metadata": {
    "ExecuteTime": {
     "end_time": "2023-02-24T15:32:16.535960Z",
     "start_time": "2023-02-24T15:31:55.984727Z"
    }
   },
   "outputs": [
    {
     "name": "stdout",
     "output_type": "stream",
     "text": [
      "T5TokenizerFast(name_or_path='t5-small', vocab_size=32100, model_max_length=512, is_fast=True, padding_side='right', truncation_side='right', special_tokens={'eos_token': '</s>', 'unk_token': '<unk>', 'pad_token': '<pad>', 'additional_special_tokens': ['<extra_id_0>', '<extra_id_1>', '<extra_id_2>', '<extra_id_3>', '<extra_id_4>', '<extra_id_5>', '<extra_id_6>', '<extra_id_7>', '<extra_id_8>', '<extra_id_9>', '<extra_id_10>', '<extra_id_11>', '<extra_id_12>', '<extra_id_13>', '<extra_id_14>', '<extra_id_15>', '<extra_id_16>', '<extra_id_17>', '<extra_id_18>', '<extra_id_19>', '<extra_id_20>', '<extra_id_21>', '<extra_id_22>', '<extra_id_23>', '<extra_id_24>', '<extra_id_25>', '<extra_id_26>', '<extra_id_27>', '<extra_id_28>', '<extra_id_29>', '<extra_id_30>', '<extra_id_31>', '<extra_id_32>', '<extra_id_33>', '<extra_id_34>', '<extra_id_35>', '<extra_id_36>', '<extra_id_37>', '<extra_id_38>', '<extra_id_39>', '<extra_id_40>', '<extra_id_41>', '<extra_id_42>', '<extra_id_43>', '<extra_id_44>', '<extra_id_45>', '<extra_id_46>', '<extra_id_47>', '<extra_id_48>', '<extra_id_49>', '<extra_id_50>', '<extra_id_51>', '<extra_id_52>', '<extra_id_53>', '<extra_id_54>', '<extra_id_55>', '<extra_id_56>', '<extra_id_57>', '<extra_id_58>', '<extra_id_59>', '<extra_id_60>', '<extra_id_61>', '<extra_id_62>', '<extra_id_63>', '<extra_id_64>', '<extra_id_65>', '<extra_id_66>', '<extra_id_67>', '<extra_id_68>', '<extra_id_69>', '<extra_id_70>', '<extra_id_71>', '<extra_id_72>', '<extra_id_73>', '<extra_id_74>', '<extra_id_75>', '<extra_id_76>', '<extra_id_77>', '<extra_id_78>', '<extra_id_79>', '<extra_id_80>', '<extra_id_81>', '<extra_id_82>', '<extra_id_83>', '<extra_id_84>', '<extra_id_85>', '<extra_id_86>', '<extra_id_87>', '<extra_id_88>', '<extra_id_89>', '<extra_id_90>', '<extra_id_91>', '<extra_id_92>', '<extra_id_93>', '<extra_id_94>', '<extra_id_95>', '<extra_id_96>', '<extra_id_97>', '<extra_id_98>', '<extra_id_99>']})\n"
     ]
    },
    {
     "name": "stderr",
     "output_type": "stream",
     "text": [
      "D:\\.venv\\lib\\site-packages\\transformers\\models\\t5\\tokenization_t5_fast.py:165: FutureWarning: This tokenizer was incorrectly instantiated with a model max length of 512 which will be corrected in Transformers v5.\n",
      "For now, this behavior is kept to avoid breaking backwards compatibility when padding/encoding with `truncation is True`.\n",
      "- Be aware that you SHOULD NOT rely on t5-small automatically truncating your input to 512 when padding/encoding.\n",
      "- If you want to encode/pad to sequences longer than 512 you can either instantiate this tokenizer with `model_max_length` or pass `max_length` when encoding/padding.\n",
      "- To avoid this warning, please instantiate this tokenizer with `model_max_length` set to your preferred value.\n",
      "  FutureWarning,\n"
     ]
    }
   ],
   "source": [
    "from transformers import AutoTokenizer\n",
    "\n",
    "# 记载分词器\n",
    "tokenizer = AutoTokenizer.from_pretrained('t5-small')\n",
    "print(tokenizer)"
   ]
  },
  {
   "cell_type": "code",
   "execution_count": 2,
   "id": "019f1476",
   "metadata": {
    "ExecuteTime": {
     "end_time": "2023-02-24T15:32:16.587627Z",
     "start_time": "2023-02-24T15:32:16.538150Z"
    }
   },
   "outputs": [
    {
     "data": {
      "text/plain": [
       "{'input_ids': [[8774, 3, 6, 48, 19, 80, 7142, 1], [100, 19, 430, 7142, 5, 1]], 'attention_mask': [[1, 1, 1, 1, 1, 1, 1, 1], [1, 1, 1, 1, 1, 1]]}"
      ]
     },
     "execution_count": 2,
     "metadata": {},
     "output_type": "execute_result"
    }
   ],
   "source": [
    "tokenizer.batch_encode_plus(['Hello , this is one sentence', 'This is another sentence.'])"
   ]
  },
  {
   "cell_type": "code",
   "execution_count": 3,
   "id": "0c72f8fd",
   "metadata": {
    "ExecuteTime": {
     "end_time": "2023-02-24T15:32:16.611639Z",
     "start_time": "2023-02-24T15:32:16.589930Z"
    }
   },
   "outputs": [
    {
     "name": "stdout",
     "output_type": "stream",
     "text": [
      "{'input_ids': [[8774, 3, 6, 48, 19, 80, 7142, 1], [100, 19, 430, 7142, 5, 1]], 'attention_mask': [[1, 1, 1, 1, 1, 1, 1, 1], [1, 1, 1, 1, 1, 1]]}\n"
     ]
    },
    {
     "name": "stderr",
     "output_type": "stream",
     "text": [
      "D:\\.venv\\lib\\site-packages\\transformers\\tokenization_utils_base.py:3582: UserWarning: `as_target_tokenizer` is deprecated and will be removed in v5 of Transformers. You can tokenize your labels by using the argument `text_target` of the regular `__call__` method (either in the same call as your input texts if you use the same keyword arguments, or in a separate call.\n",
      "  \"`as_target_tokenizer` is deprecated and will be removed in v5 of Transformers. You can tokenize your \"\n"
     ]
    }
   ],
   "source": [
    "with tokenizer.as_target_tokenizer():\n",
    "    print(tokenizer.batch_encode_plus(['Hello , this is one sentence', 'This is another sentence.']))"
   ]
  },
  {
   "cell_type": "code",
   "execution_count": 4,
   "id": "2f54c83f",
   "metadata": {
    "ExecuteTime": {
     "end_time": "2023-02-24T15:32:17.326883Z",
     "start_time": "2023-02-24T15:32:16.611639Z"
    }
   },
   "outputs": [],
   "source": [
    "from datasets import load_dataset\n"
   ]
  },
  {
   "cell_type": "code",
   "execution_count": 5,
   "id": "02aff815",
   "metadata": {
    "ExecuteTime": {
     "end_time": "2023-02-24T15:32:17.342779Z",
     "start_time": "2023-02-24T15:32:17.327155Z"
    }
   },
   "outputs": [],
   "source": [
    "# 有可能会遇到ConnectionError的问题. \n",
    "# 解决办法, 翻墙, 设置全局代理, 代理中执行下面代码\n",
    "import os\n",
    "\n",
    "# 注意要把端口号, 替换成你自己的vpn的端口号.\n",
    "os.environ['http_proxy'] = 'http://127.0.0.1:10809'\n",
    "os.environ['https_proxy'] = 'http://127.0.0.1:10809'"
   ]
  },
  {
   "cell_type": "code",
   "execution_count": 6,
   "id": "1fa654dd",
   "metadata": {
    "ExecuteTime": {
     "end_time": "2023-02-24T15:32:32.041594Z",
     "start_time": "2023-02-24T15:32:17.344052Z"
    },
    "scrolled": false
   },
   "outputs": [
    {
     "name": "stderr",
     "output_type": "stream",
     "text": [
      "Found cached dataset xsum (C:/Users/SupercoldZzz/.cache/huggingface/datasets/xsum/default/1.2.0/082863bf4754ee058a5b6f6525d0cb2b18eadb62c7b370b095d1364050a52b71)\n"
     ]
    },
    {
     "data": {
      "application/vnd.jupyter.widget-view+json": {
       "model_id": "072f1373a3784d78b1801a15b40af8d3",
       "version_major": 2,
       "version_minor": 0
      },
      "text/plain": [
       "  0%|          | 0/3 [00:00<?, ?it/s]"
      ]
     },
     "metadata": {},
     "output_type": "display_data"
    }
   ],
   "source": [
    "dataset = load_dataset('xsum')\n",
    "# 从本地加载 load_from_disk(path)"
   ]
  },
  {
   "cell_type": "code",
   "execution_count": 7,
   "id": "38839cae",
   "metadata": {
    "ExecuteTime": {
     "end_time": "2023-02-24T15:32:32.058315Z",
     "start_time": "2023-02-24T15:32:32.042691Z"
    }
   },
   "outputs": [
    {
     "data": {
      "text/plain": [
       "DatasetDict({\n",
       "    train: Dataset({\n",
       "        features: ['document', 'summary', 'id'],\n",
       "        num_rows: 204045\n",
       "    })\n",
       "    validation: Dataset({\n",
       "        features: ['document', 'summary', 'id'],\n",
       "        num_rows: 11332\n",
       "    })\n",
       "    test: Dataset({\n",
       "        features: ['document', 'summary', 'id'],\n",
       "        num_rows: 11334\n",
       "    })\n",
       "})"
      ]
     },
     "execution_count": 7,
     "metadata": {},
     "output_type": "execute_result"
    }
   ],
   "source": [
    "dataset"
   ]
  },
  {
   "cell_type": "code",
   "execution_count": 8,
   "id": "b72b50ce",
   "metadata": {
    "ExecuteTime": {
     "end_time": "2023-02-24T15:32:32.164244Z",
     "start_time": "2023-02-24T15:32:32.059584Z"
    },
    "scrolled": true
   },
   "outputs": [
    {
     "name": "stderr",
     "output_type": "stream",
     "text": [
      "Loading cached shuffled indices for dataset at C:\\Users\\SupercoldZzz\\.cache\\huggingface\\datasets\\xsum\\default\\1.2.0\\082863bf4754ee058a5b6f6525d0cb2b18eadb62c7b370b095d1364050a52b71\\cache-f5f90b78d2c462d1.arrow\n",
      "Loading cached shuffled indices for dataset at C:\\Users\\SupercoldZzz\\.cache\\huggingface\\datasets\\xsum\\default\\1.2.0\\082863bf4754ee058a5b6f6525d0cb2b18eadb62c7b370b095d1364050a52b71\\cache-6dd63dfa49190643.arrow\n",
      "Loading cached shuffled indices for dataset at C:\\Users\\SupercoldZzz\\.cache\\huggingface\\datasets\\xsum\\default\\1.2.0\\082863bf4754ee058a5b6f6525d0cb2b18eadb62c7b370b095d1364050a52b71\\cache-fbae00ea393505b7.arrow\n"
     ]
    }
   ],
   "source": [
    "# 采样\n",
    "dataset['train'] = dataset['train'].shuffle(1).select(range(20000))\n",
    "dataset['validation'] = dataset['validation'].shuffle(1).select(range(1000))\n",
    "dataset['test'] = dataset['test'].shuffle(1).select(range(1000))"
   ]
  },
  {
   "cell_type": "code",
   "execution_count": 9,
   "id": "4508912d",
   "metadata": {
    "ExecuteTime": {
     "end_time": "2023-02-24T15:32:32.190852Z",
     "start_time": "2023-02-24T15:32:32.165469Z"
    }
   },
   "outputs": [
    {
     "name": "stdout",
     "output_type": "stream",
     "text": [
      "{'document': \"Clay, who has agreed a two-year deal, made 39 appearances for Scottish Premiership club Motherwell last season after joining them in June 2016.\\nThe 25-year-old had spent the two previous seasons with Grimsby, playing 74 National League games.\\nClay is Leyton Orient's ninth signing since being relegated from League Two last season.\", 'summary': 'National League side Leyton Orient have signed Motherwell midfielder Craig Clay on a free transfer.', 'id': '40635923'}\n"
     ]
    }
   ],
   "source": [
    "print(dataset['train'][0])"
   ]
  },
  {
   "cell_type": "code",
   "execution_count": 10,
   "id": "4b80beea",
   "metadata": {
    "ExecuteTime": {
     "end_time": "2023-02-24T15:32:32.213032Z",
     "start_time": "2023-02-24T15:32:32.194063Z"
    }
   },
   "outputs": [],
   "source": [
    "# 对数据进行预处理\n",
    "def f(examples, tokenizer):\n",
    "    data = tokenizer.batch_encode_plus(['summarize:' + i for i in examples['document']],\n",
    "                                      max_length=1024,\n",
    "                                      truncation=True)\n",
    "    \n",
    "    # 编码label\n",
    "    data['labels'] = tokenizer.batch_encode_plus(examples['summary'], max_length=128, truncation=True)['input_ids']\n",
    "    return data\n"
   ]
  },
  {
   "cell_type": "code",
   "execution_count": 11,
   "id": "0442df30",
   "metadata": {
    "ExecuteTime": {
     "end_time": "2023-02-24T15:32:32.757174Z",
     "start_time": "2023-02-24T15:32:32.215134Z"
    }
   },
   "outputs": [
    {
     "name": "stdout",
     "output_type": "stream",
     "text": [
      " "
     ]
    },
    {
     "name": "stderr",
     "output_type": "stream",
     "text": [
      "Loading cached processed dataset at C:\\Users\\SupercoldZzz\\.cache\\huggingface\\datasets\\xsum\\default\\1.2.0\\082863bf4754ee058a5b6f6525d0cb2b18eadb62c7b370b095d1364050a52b71\\cache-ce43cf79ccfa91c0.arrow\n"
     ]
    },
    {
     "name": "stdout",
     "output_type": "stream",
     "text": [
      " "
     ]
    },
    {
     "name": "stderr",
     "output_type": "stream",
     "text": [
      "Loading cached processed dataset at C:\\Users\\SupercoldZzz\\.cache\\huggingface\\datasets\\xsum\\default\\1.2.0\\082863bf4754ee058a5b6f6525d0cb2b18eadb62c7b370b095d1364050a52b71\\cache-4e36ccc96175af80.arrow\n"
     ]
    },
    {
     "name": "stdout",
     "output_type": "stream",
     "text": [
      " "
     ]
    },
    {
     "name": "stderr",
     "output_type": "stream",
     "text": [
      "Loading cached processed dataset at C:\\Users\\SupercoldZzz\\.cache\\huggingface\\datasets\\xsum\\default\\1.2.0\\082863bf4754ee058a5b6f6525d0cb2b18eadb62c7b370b095d1364050a52b71\\cache-28209578b8c68e07.arrow\n"
     ]
    },
    {
     "name": "stdout",
     "output_type": "stream",
     "text": [
      " "
     ]
    },
    {
     "name": "stderr",
     "output_type": "stream",
     "text": [
      "Loading cached processed dataset at C:\\Users\\SupercoldZzz\\.cache\\huggingface\\datasets\\xsum\\default\\1.2.0\\082863bf4754ee058a5b6f6525d0cb2b18eadb62c7b370b095d1364050a52b71\\cache-db8f1e84dc9f75a2.arrow\n"
     ]
    },
    {
     "name": "stdout",
     "output_type": "stream",
     "text": [
      " "
     ]
    },
    {
     "name": "stderr",
     "output_type": "stream",
     "text": [
      "Loading cached processed dataset at C:\\Users\\SupercoldZzz\\.cache\\huggingface\\datasets\\xsum\\default\\1.2.0\\082863bf4754ee058a5b6f6525d0cb2b18eadb62c7b370b095d1364050a52b71\\cache-30c872fc35ab4e84.arrow\n"
     ]
    },
    {
     "name": "stdout",
     "output_type": "stream",
     "text": [
      " "
     ]
    },
    {
     "name": "stderr",
     "output_type": "stream",
     "text": [
      "Loading cached processed dataset at C:\\Users\\SupercoldZzz\\.cache\\huggingface\\datasets\\xsum\\default\\1.2.0\\082863bf4754ee058a5b6f6525d0cb2b18eadb62c7b370b095d1364050a52b71\\cache-96a14e0e8932224e.arrow\n"
     ]
    },
    {
     "name": "stdout",
     "output_type": "stream",
     "text": [
      " "
     ]
    },
    {
     "name": "stderr",
     "output_type": "stream",
     "text": [
      "Loading cached processed dataset at C:\\Users\\SupercoldZzz\\.cache\\huggingface\\datasets\\xsum\\default\\1.2.0\\082863bf4754ee058a5b6f6525d0cb2b18eadb62c7b370b095d1364050a52b71\\cache-77e4490c5c3543f4.arrow\n"
     ]
    },
    {
     "name": "stdout",
     "output_type": "stream",
     "text": [
      " "
     ]
    },
    {
     "name": "stderr",
     "output_type": "stream",
     "text": [
      "Loading cached processed dataset at C:\\Users\\SupercoldZzz\\.cache\\huggingface\\datasets\\xsum\\default\\1.2.0\\082863bf4754ee058a5b6f6525d0cb2b18eadb62c7b370b095d1364050a52b71\\cache-8a348ba83132080d.arrow\n"
     ]
    },
    {
     "name": "stdout",
     "output_type": "stream",
     "text": [
      " "
     ]
    },
    {
     "name": "stderr",
     "output_type": "stream",
     "text": [
      "Loading cached processed dataset at C:\\Users\\SupercoldZzz\\.cache\\huggingface\\datasets\\xsum\\default\\1.2.0\\082863bf4754ee058a5b6f6525d0cb2b18eadb62c7b370b095d1364050a52b71\\cache-cd5b239fb87f2be1.arrow\n"
     ]
    },
    {
     "name": "stdout",
     "output_type": "stream",
     "text": [
      " "
     ]
    },
    {
     "name": "stderr",
     "output_type": "stream",
     "text": [
      "Loading cached processed dataset at C:\\Users\\SupercoldZzz\\.cache\\huggingface\\datasets\\xsum\\default\\1.2.0\\082863bf4754ee058a5b6f6525d0cb2b18eadb62c7b370b095d1364050a52b71\\cache-a02ea666b951f4a4.arrow\n"
     ]
    },
    {
     "name": "stdout",
     "output_type": "stream",
     "text": [
      " "
     ]
    },
    {
     "name": "stderr",
     "output_type": "stream",
     "text": [
      "Loading cached processed dataset at C:\\Users\\SupercoldZzz\\.cache\\huggingface\\datasets\\xsum\\default\\1.2.0\\082863bf4754ee058a5b6f6525d0cb2b18eadb62c7b370b095d1364050a52b71\\cache-7a25468867840b95.arrow\n"
     ]
    },
    {
     "name": "stdout",
     "output_type": "stream",
     "text": [
      " "
     ]
    },
    {
     "name": "stderr",
     "output_type": "stream",
     "text": [
      "Loading cached processed dataset at C:\\Users\\SupercoldZzz\\.cache\\huggingface\\datasets\\xsum\\default\\1.2.0\\082863bf4754ee058a5b6f6525d0cb2b18eadb62c7b370b095d1364050a52b71\\cache-6fcfdb5e10ca7c01.arrow\n"
     ]
    },
    {
     "name": "stdout",
     "output_type": "stream",
     "text": [
      " "
     ]
    },
    {
     "name": "stderr",
     "output_type": "stream",
     "text": [
      "Loading cached processed dataset at C:\\Users\\SupercoldZzz\\.cache\\huggingface\\datasets\\xsum\\default\\1.2.0\\082863bf4754ee058a5b6f6525d0cb2b18eadb62c7b370b095d1364050a52b71\\cache-1b69d2d326cca8ad.arrow\n"
     ]
    },
    {
     "name": "stdout",
     "output_type": "stream",
     "text": [
      " "
     ]
    },
    {
     "name": "stderr",
     "output_type": "stream",
     "text": [
      "Loading cached processed dataset at C:\\Users\\SupercoldZzz\\.cache\\huggingface\\datasets\\xsum\\default\\1.2.0\\082863bf4754ee058a5b6f6525d0cb2b18eadb62c7b370b095d1364050a52b71\\cache-b8d7c6a4ff75fb4e.arrow\n"
     ]
    },
    {
     "name": "stdout",
     "output_type": "stream",
     "text": [
      " "
     ]
    },
    {
     "name": "stderr",
     "output_type": "stream",
     "text": [
      "Loading cached processed dataset at C:\\Users\\SupercoldZzz\\.cache\\huggingface\\datasets\\xsum\\default\\1.2.0\\082863bf4754ee058a5b6f6525d0cb2b18eadb62c7b370b095d1364050a52b71\\cache-c1b15b6614fdb7a0.arrow\n"
     ]
    },
    {
     "name": "stdout",
     "output_type": "stream",
     "text": [
      " "
     ]
    },
    {
     "name": "stderr",
     "output_type": "stream",
     "text": [
      "Loading cached processed dataset at C:\\Users\\SupercoldZzz\\.cache\\huggingface\\datasets\\xsum\\default\\1.2.0\\082863bf4754ee058a5b6f6525d0cb2b18eadb62c7b370b095d1364050a52b71\\cache-86885a042b296927.arrow\n"
     ]
    },
    {
     "name": "stdout",
     "output_type": "stream",
     "text": [
      " "
     ]
    },
    {
     "name": "stderr",
     "output_type": "stream",
     "text": [
      "Loading cached processed dataset at C:\\Users\\SupercoldZzz\\.cache\\huggingface\\datasets\\xsum\\default\\1.2.0\\082863bf4754ee058a5b6f6525d0cb2b18eadb62c7b370b095d1364050a52b71\\cache-4911eb024b91844c.arrow\n"
     ]
    },
    {
     "name": "stdout",
     "output_type": "stream",
     "text": [
      " "
     ]
    },
    {
     "name": "stderr",
     "output_type": "stream",
     "text": [
      "Loading cached processed dataset at C:\\Users\\SupercoldZzz\\.cache\\huggingface\\datasets\\xsum\\default\\1.2.0\\082863bf4754ee058a5b6f6525d0cb2b18eadb62c7b370b095d1364050a52b71\\cache-4225565a98db5d2a.arrow\n"
     ]
    },
    {
     "name": "stdout",
     "output_type": "stream",
     "text": [
      " "
     ]
    },
    {
     "name": "stderr",
     "output_type": "stream",
     "text": [
      "Loading cached processed dataset at C:\\Users\\SupercoldZzz\\.cache\\huggingface\\datasets\\xsum\\default\\1.2.0\\082863bf4754ee058a5b6f6525d0cb2b18eadb62c7b370b095d1364050a52b71\\cache-403599fafa11774b.arrow\n"
     ]
    },
    {
     "name": "stdout",
     "output_type": "stream",
     "text": [
      " "
     ]
    },
    {
     "name": "stderr",
     "output_type": "stream",
     "text": [
      "Loading cached processed dataset at C:\\Users\\SupercoldZzz\\.cache\\huggingface\\datasets\\xsum\\default\\1.2.0\\082863bf4754ee058a5b6f6525d0cb2b18eadb62c7b370b095d1364050a52b71\\cache-fdc5a7032a4c1ad5.arrow\n"
     ]
    },
    {
     "name": "stdout",
     "output_type": "stream",
     "text": [
      " "
     ]
    },
    {
     "name": "stderr",
     "output_type": "stream",
     "text": [
      "Loading cached processed dataset at C:\\Users\\SupercoldZzz\\.cache\\huggingface\\datasets\\xsum\\default\\1.2.0\\082863bf4754ee058a5b6f6525d0cb2b18eadb62c7b370b095d1364050a52b71\\cache-a82038f51ff3394a.arrow\n"
     ]
    },
    {
     "name": "stdout",
     "output_type": "stream",
     "text": [
      " "
     ]
    },
    {
     "name": "stderr",
     "output_type": "stream",
     "text": [
      "Loading cached processed dataset at C:\\Users\\SupercoldZzz\\.cache\\huggingface\\datasets\\xsum\\default\\1.2.0\\082863bf4754ee058a5b6f6525d0cb2b18eadb62c7b370b095d1364050a52b71\\cache-9dcd96be7bc1cd1d.arrow\n"
     ]
    },
    {
     "name": "stdout",
     "output_type": "stream",
     "text": [
      " "
     ]
    },
    {
     "name": "stderr",
     "output_type": "stream",
     "text": [
      "Loading cached processed dataset at C:\\Users\\SupercoldZzz\\.cache\\huggingface\\datasets\\xsum\\default\\1.2.0\\082863bf4754ee058a5b6f6525d0cb2b18eadb62c7b370b095d1364050a52b71\\cache-bd79b3dc4204f7d6.arrow\n"
     ]
    },
    {
     "name": "stdout",
     "output_type": "stream",
     "text": [
      " "
     ]
    },
    {
     "name": "stderr",
     "output_type": "stream",
     "text": [
      "Loading cached processed dataset at C:\\Users\\SupercoldZzz\\.cache\\huggingface\\datasets\\xsum\\default\\1.2.0\\082863bf4754ee058a5b6f6525d0cb2b18eadb62c7b370b095d1364050a52b71\\cache-5bd663b62f8b57cb.arrow\n"
     ]
    },
    {
     "name": "stdout",
     "output_type": "stream",
     "text": [
      " "
     ]
    },
    {
     "name": "stderr",
     "output_type": "stream",
     "text": [
      "Loading cached processed dataset at C:\\Users\\SupercoldZzz\\.cache\\huggingface\\datasets\\xsum\\default\\1.2.0\\082863bf4754ee058a5b6f6525d0cb2b18eadb62c7b370b095d1364050a52b71\\cache-b383fb41e18670d1.arrow\n"
     ]
    },
    {
     "name": "stdout",
     "output_type": "stream",
     "text": [
      " "
     ]
    },
    {
     "name": "stderr",
     "output_type": "stream",
     "text": [
      "Loading cached processed dataset at C:\\Users\\SupercoldZzz\\.cache\\huggingface\\datasets\\xsum\\default\\1.2.0\\082863bf4754ee058a5b6f6525d0cb2b18eadb62c7b370b095d1364050a52b71\\cache-f9c4668734531fcd.arrow\n"
     ]
    },
    {
     "name": "stdout",
     "output_type": "stream",
     "text": [
      " "
     ]
    },
    {
     "name": "stderr",
     "output_type": "stream",
     "text": [
      "Loading cached processed dataset at C:\\Users\\SupercoldZzz\\.cache\\huggingface\\datasets\\xsum\\default\\1.2.0\\082863bf4754ee058a5b6f6525d0cb2b18eadb62c7b370b095d1364050a52b71\\cache-4c743f673c323d09.arrow\n"
     ]
    },
    {
     "name": "stdout",
     "output_type": "stream",
     "text": [
      " "
     ]
    },
    {
     "name": "stderr",
     "output_type": "stream",
     "text": [
      "Loading cached processed dataset at C:\\Users\\SupercoldZzz\\.cache\\huggingface\\datasets\\xsum\\default\\1.2.0\\082863bf4754ee058a5b6f6525d0cb2b18eadb62c7b370b095d1364050a52b71\\cache-3d6b1f6c3356a985.arrow\n"
     ]
    },
    {
     "name": "stdout",
     "output_type": "stream",
     "text": [
      " "
     ]
    },
    {
     "name": "stderr",
     "output_type": "stream",
     "text": [
      "Loading cached processed dataset at C:\\Users\\SupercoldZzz\\.cache\\huggingface\\datasets\\xsum\\default\\1.2.0\\082863bf4754ee058a5b6f6525d0cb2b18eadb62c7b370b095d1364050a52b71\\cache-4c5a9e8d16256c1e.arrow\n"
     ]
    },
    {
     "name": "stdout",
     "output_type": "stream",
     "text": [
      " "
     ]
    },
    {
     "name": "stderr",
     "output_type": "stream",
     "text": [
      "Loading cached processed dataset at C:\\Users\\SupercoldZzz\\.cache\\huggingface\\datasets\\xsum\\default\\1.2.0\\082863bf4754ee058a5b6f6525d0cb2b18eadb62c7b370b095d1364050a52b71\\cache-dfd7d1ca31a59edc.arrow\n"
     ]
    },
    {
     "name": "stdout",
     "output_type": "stream",
     "text": [
      " "
     ]
    },
    {
     "name": "stderr",
     "output_type": "stream",
     "text": [
      "Loading cached processed dataset at C:\\Users\\SupercoldZzz\\.cache\\huggingface\\datasets\\xsum\\default\\1.2.0\\082863bf4754ee058a5b6f6525d0cb2b18eadb62c7b370b095d1364050a52b71\\cache-28e2b14e837ce409.arrow\n"
     ]
    },
    {
     "name": "stdout",
     "output_type": "stream",
     "text": [
      " "
     ]
    },
    {
     "name": "stderr",
     "output_type": "stream",
     "text": [
      "Loading cached processed dataset at C:\\Users\\SupercoldZzz\\.cache\\huggingface\\datasets\\xsum\\default\\1.2.0\\082863bf4754ee058a5b6f6525d0cb2b18eadb62c7b370b095d1364050a52b71\\cache-1863e355cc124d06.arrow\n"
     ]
    },
    {
     "name": "stdout",
     "output_type": "stream",
     "text": [
      " "
     ]
    },
    {
     "name": "stderr",
     "output_type": "stream",
     "text": [
      "Loading cached processed dataset at C:\\Users\\SupercoldZzz\\.cache\\huggingface\\datasets\\xsum\\default\\1.2.0\\082863bf4754ee058a5b6f6525d0cb2b18eadb62c7b370b095d1364050a52b71\\cache-69da917f6f527548.arrow\n"
     ]
    },
    {
     "name": "stdout",
     "output_type": "stream",
     "text": [
      " "
     ]
    },
    {
     "name": "stderr",
     "output_type": "stream",
     "text": [
      "Loading cached processed dataset at C:\\Users\\SupercoldZzz\\.cache\\huggingface\\datasets\\xsum\\default\\1.2.0\\082863bf4754ee058a5b6f6525d0cb2b18eadb62c7b370b095d1364050a52b71\\cache-f7defaf2c746f35f.arrow\n"
     ]
    },
    {
     "name": "stdout",
     "output_type": "stream",
     "text": [
      " "
     ]
    },
    {
     "name": "stderr",
     "output_type": "stream",
     "text": [
      "Loading cached processed dataset at C:\\Users\\SupercoldZzz\\.cache\\huggingface\\datasets\\xsum\\default\\1.2.0\\082863bf4754ee058a5b6f6525d0cb2b18eadb62c7b370b095d1364050a52b71\\cache-fb9cc2f8befe389c.arrow\n"
     ]
    },
    {
     "name": "stdout",
     "output_type": "stream",
     "text": [
      " "
     ]
    },
    {
     "name": "stderr",
     "output_type": "stream",
     "text": [
      "Loading cached processed dataset at C:\\Users\\SupercoldZzz\\.cache\\huggingface\\datasets\\xsum\\default\\1.2.0\\082863bf4754ee058a5b6f6525d0cb2b18eadb62c7b370b095d1364050a52b71\\cache-73a5fccf16531a29.arrow\n"
     ]
    }
   ],
   "source": [
    "dataset = dataset.map(f,\n",
    "                     batched=True,\n",
    "                     batch_size=1000,\n",
    "                     num_proc=12,\n",
    "                     remove_columns=['document', 'summary', 'id'],\n",
    "                     fn_kwargs={'tokenizer': tokenizer})"
   ]
  },
  {
   "cell_type": "code",
   "execution_count": 12,
   "id": "fb62d5de",
   "metadata": {
    "ExecuteTime": {
     "end_time": "2023-02-24T15:32:32.773392Z",
     "start_time": "2023-02-24T15:32:32.757768Z"
    }
   },
   "outputs": [
    {
     "data": {
      "text/plain": [
       "DatasetDict({\n",
       "    train: Dataset({\n",
       "        features: ['input_ids', 'attention_mask', 'labels'],\n",
       "        num_rows: 20000\n",
       "    })\n",
       "    validation: Dataset({\n",
       "        features: ['input_ids', 'attention_mask', 'labels'],\n",
       "        num_rows: 1000\n",
       "    })\n",
       "    test: Dataset({\n",
       "        features: ['input_ids', 'attention_mask', 'labels'],\n",
       "        num_rows: 1000\n",
       "    })\n",
       "})"
      ]
     },
     "execution_count": 12,
     "metadata": {},
     "output_type": "execute_result"
    }
   ],
   "source": [
    "dataset\n"
   ]
  },
  {
   "cell_type": "code",
   "execution_count": 13,
   "id": "6b01b3a5",
   "metadata": {
    "ExecuteTime": {
     "end_time": "2023-02-24T15:32:32.791866Z",
     "start_time": "2023-02-24T15:32:32.774237Z"
    }
   },
   "outputs": [
    {
     "name": "stdout",
     "output_type": "stream",
     "text": [
      "{'input_ids': [21603, 10, 254, 5595, 6, 113, 65, 4686, 3, 9, 192, 18, 1201, 1154, 6, 263, 6352, 3179, 7, 21, 12580, 6552, 2009, 1886, 8007, 2091, 336, 774, 227, 6109, 135, 16, 1515, 4619, 37, 944, 18, 1201, 18, 1490, 141, 1869, 8, 192, 1767, 9385, 28, 23427, 7, 969, 6, 1556, 3, 4581, 868, 3815, 1031, 5, 20988, 19, 312, 21220, 3, 16495, 31, 7, 24651, 8097, 437, 271, 3, 60, 8791, 26, 45, 3815, 2759, 336, 774, 5, 1], 'attention_mask': [1, 1, 1, 1, 1, 1, 1, 1, 1, 1, 1, 1, 1, 1, 1, 1, 1, 1, 1, 1, 1, 1, 1, 1, 1, 1, 1, 1, 1, 1, 1, 1, 1, 1, 1, 1, 1, 1, 1, 1, 1, 1, 1, 1, 1, 1, 1, 1, 1, 1, 1, 1, 1, 1, 1, 1, 1, 1, 1, 1, 1, 1, 1, 1, 1, 1, 1, 1, 1, 1, 1, 1, 1, 1, 1, 1, 1, 1, 1, 1, 1], 'labels': [868, 3815, 596, 312, 21220, 3, 16495, 43, 3814, 8007, 2091, 2076, 1846, 49, 12870, 20988, 30, 3, 9, 339, 2025, 5, 1]}\n"
     ]
    }
   ],
   "source": [
    "print(dataset['train'][0])"
   ]
  },
  {
   "cell_type": "code",
   "execution_count": 14,
   "id": "8a1eda0c",
   "metadata": {
    "ExecuteTime": {
     "end_time": "2023-02-24T15:32:35.961564Z",
     "start_time": "2023-02-24T15:32:32.792536Z"
    }
   },
   "outputs": [],
   "source": [
    "import torch\n",
    "\n",
    "\n",
    "def collate_fn(data):\n",
    "    # 求最长的labels\n",
    "    max_length = max([len(i['labels']) for i in data])\n",
    "    \n",
    "    # 把所有的label都pad到max_length\n",
    "    for i in data:\n",
    "        pads = [-100] * (max_length - len(i['labels']))\n",
    "        i['labels'] = i['labels'] + pads\n",
    "        \n",
    "    \n",
    "    # 把多个数据整合成一个tensor\n",
    "    data = tokenizer.pad(\n",
    "        encoded_inputs=data,\n",
    "        padding=True,\n",
    "        max_length=None,\n",
    "        pad_to_multiple_of=None,\n",
    "        return_tensors='pt'\n",
    "    )\n",
    "    \n",
    "    data['decoder_input_ids'] = torch.zeros_like(data['labels'], dtype=torch.long)\n",
    "    data['decoder_input_ids'][:, 1:] = data['labels'][:, :-1]\n",
    "    data['decoder_input_ids'][data['decoder_input_ids']== -100] = 0\n",
    "    return data\n"
   ]
  },
  {
   "cell_type": "code",
   "execution_count": 15,
   "id": "d2b8df0a",
   "metadata": {
    "ExecuteTime": {
     "end_time": "2023-02-24T15:32:35.981173Z",
     "start_time": "2023-02-24T15:32:35.961564Z"
    },
    "scrolled": true
   },
   "outputs": [
    {
     "name": "stderr",
     "output_type": "stream",
     "text": [
      "You're using a T5TokenizerFast tokenizer. Please note that with a fast tokenizer, using the `__call__` method is faster than using a method to encode the text followed by a call to the `pad` method to get a padded encoding.\n"
     ]
    },
    {
     "data": {
      "text/plain": [
       "{'input_ids': tensor([[21603,    10,    37,  3719,    13],\n",
       "        [21603,    10,  7086,  8408,   563]]), 'attention_mask': tensor([[1, 1, 1, 1, 1],\n",
       "        [1, 1, 1, 1, 1]]), 'labels': tensor([[10455,   120,    80,  -100],\n",
       "        [  301,    53,  4074,  1669]]), 'decoder_input_ids': tensor([[    0, 10455,   120,    80],\n",
       "        [    0,   301,    53,  4074]])}"
      ]
     },
     "execution_count": 15,
     "metadata": {},
     "output_type": "execute_result"
    }
   ],
   "source": [
    "data = [{\n",
    "    'input_ids': [21603, 10, 37, 3719, 13],\n",
    "    'attention_mask': [1, 1, 1, 1, 1],\n",
    "    'labels': [10455, 120, 80]\n",
    "}, {\n",
    "    'input_ids': [21603, 10, 7086, 8408, 563],\n",
    "    'attention_mask': [1, 1, 1, 1, 1],\n",
    "    'labels': [301, 53, 4074, 1669]\n",
    "}]\n",
    "collate_fn(data)"
   ]
  },
  {
   "cell_type": "code",
   "execution_count": 16,
   "id": "0003254b",
   "metadata": {
    "ExecuteTime": {
     "end_time": "2023-02-24T15:32:36.004288Z",
     "start_time": "2023-02-24T15:32:35.982432Z"
    }
   },
   "outputs": [],
   "source": [
    "# 数据加载器\n",
    "loader = torch.utils.data.DataLoader(\n",
    "    dataset = dataset['train'],\n",
    "    batch_size=4,\n",
    "    collate_fn=collate_fn,\n",
    "    shuffle=True,\n",
    "    drop_last=True\n",
    ")\n",
    "\n",
    "for data in loader:\n",
    "    break"
   ]
  },
  {
   "cell_type": "code",
   "execution_count": 17,
   "id": "d0bfe441",
   "metadata": {
    "ExecuteTime": {
     "end_time": "2023-02-24T15:32:36.023013Z",
     "start_time": "2023-02-24T15:32:36.005283Z"
    },
    "scrolled": true
   },
   "outputs": [
    {
     "name": "stdout",
     "output_type": "stream",
     "text": [
      "input_ids torch.Size([4, 809])\n",
      "attention_mask torch.Size([4, 809])\n",
      "labels torch.Size([4, 47])\n",
      "decoder_input_ids torch.Size([4, 47])\n"
     ]
    }
   ],
   "source": [
    "for k, v in data.items():\n",
    "    print(k, v.shape)"
   ]
  },
  {
   "cell_type": "code",
   "execution_count": 18,
   "id": "e8c1d141",
   "metadata": {
    "ExecuteTime": {
     "end_time": "2023-02-24T15:32:36.043613Z",
     "start_time": "2023-02-24T15:32:36.024248Z"
    }
   },
   "outputs": [
    {
     "data": {
      "text/plain": [
       "5000"
      ]
     },
     "execution_count": 18,
     "metadata": {},
     "output_type": "execute_result"
    }
   ],
   "source": [
    "len(loader)"
   ]
  },
  {
   "cell_type": "code",
   "execution_count": 19,
   "id": "4e86fecf",
   "metadata": {
    "ExecuteTime": {
     "end_time": "2023-02-24T15:32:36.123179Z",
     "start_time": "2023-02-24T15:32:36.045831Z"
    }
   },
   "outputs": [],
   "source": [
    "from transformers import AutoModelForSeq2SeqLM, T5Model"
   ]
  },
  {
   "cell_type": "code",
   "execution_count": 20,
   "id": "aaeaf506",
   "metadata": {
    "ExecuteTime": {
     "end_time": "2023-02-24T15:32:36.147083Z",
     "start_time": "2023-02-24T15:32:36.124373Z"
    }
   },
   "outputs": [
    {
     "data": {
      "text/plain": [
       "16435200"
      ]
     },
     "execution_count": 20,
     "metadata": {},
     "output_type": "execute_result"
    }
   ],
   "source": [
    "512 * 32100"
   ]
  },
  {
   "cell_type": "code",
   "execution_count": 21,
   "id": "d80f4c68",
   "metadata": {
    "ExecuteTime": {
     "end_time": "2023-02-24T15:32:36.167604Z",
     "start_time": "2023-02-24T15:32:36.148523Z"
    }
   },
   "outputs": [],
   "source": [
    "# 定义下游任务模型\n",
    "class Model(torch.nn.Module):\n",
    "    def __init__(self):\n",
    "        super().__init__()\n",
    "        self.pretrained = T5Model.from_pretrained('t5-small')\n",
    "        # vocab_size 是32100\n",
    "        # 我们打算用AutoModelForSeq2SeqLM的参数, 但是它的输出层参数是32128\n",
    "        self.fc = torch.nn.Linear(512, 32128, bias=False)\n",
    "        \n",
    "        # 加载预训练权重\n",
    "        parameters = AutoModelForSeq2SeqLM.from_pretrained('t5-small')\n",
    "        self.fc.load_state_dict(parameters.lm_head.state_dict())\n",
    "        \n",
    "        self.criterion = torch.nn.CrossEntropyLoss(ignore_index=-100)\n",
    "        \n",
    "    def forward(self, input_ids, attention_mask, labels, decoder_input_ids):\n",
    "        logits = self.pretrained.encoder(input_ids=input_ids,\n",
    "                                        attention_mask=attention_mask)\n",
    "        logits = logits.last_hidden_state\n",
    "        logits = self.pretrained.decoder(\n",
    "            input_ids=decoder_input_ids,\n",
    "            encoder_hidden_states=logits,\n",
    "            encoder_attention_mask=attention_mask\n",
    "        )\n",
    "        logits = logits.last_hidden_state\n",
    "        logits = logits * (512** -0.5)\n",
    "        logits = self.fc(logits)\n",
    "        loss = self.criterion(logits.reshape(-1, 32128), labels.reshape(-1))\n",
    "        \n",
    "        return {'loss': loss, 'logits': logits}\n",
    "    \n",
    "    \n",
    "                                        "
   ]
  },
  {
   "cell_type": "code",
   "execution_count": 22,
   "id": "57388f5a",
   "metadata": {
    "ExecuteTime": {
     "end_time": "2023-02-24T15:32:44.688605Z",
     "start_time": "2023-02-24T15:32:36.169769Z"
    }
   },
   "outputs": [],
   "source": [
    "model = Model()"
   ]
  },
  {
   "cell_type": "code",
   "execution_count": 23,
   "id": "550b0430",
   "metadata": {
    "ExecuteTime": {
     "end_time": "2023-02-24T15:32:46.725817Z",
     "start_time": "2023-02-24T15:32:44.688605Z"
    }
   },
   "outputs": [],
   "source": [
    "out = model(**data)"
   ]
  },
  {
   "cell_type": "code",
   "execution_count": 24,
   "id": "834ac529",
   "metadata": {
    "ExecuteTime": {
     "end_time": "2023-02-24T15:32:46.735929Z",
     "start_time": "2023-02-24T15:32:46.725817Z"
    }
   },
   "outputs": [
    {
     "data": {
      "text/plain": [
       "tensor(3.5750, grad_fn=<NllLossBackward0>)"
      ]
     },
     "execution_count": 24,
     "metadata": {},
     "output_type": "execute_result"
    }
   ],
   "source": [
    "out['loss']"
   ]
  },
  {
   "cell_type": "code",
   "execution_count": 25,
   "id": "f6f501d2",
   "metadata": {
    "ExecuteTime": {
     "end_time": "2023-02-24T15:32:46.756154Z",
     "start_time": "2023-02-24T15:32:46.736975Z"
    }
   },
   "outputs": [
    {
     "data": {
      "text/plain": [
       "torch.Size([4, 47, 32128])"
      ]
     },
     "execution_count": 25,
     "metadata": {},
     "output_type": "execute_result"
    }
   ],
   "source": [
    "out['logits'].shape"
   ]
  },
  {
   "cell_type": "code",
   "execution_count": 26,
   "id": "4bfd5b79",
   "metadata": {
    "ExecuteTime": {
     "end_time": "2023-02-24T15:32:46.776461Z",
     "start_time": "2023-02-24T15:32:46.756878Z"
    }
   },
   "outputs": [
    {
     "name": "stdout",
     "output_type": "stream",
     "text": [
      "76956160\n"
     ]
    }
   ],
   "source": [
    "# 参数量\n",
    "print(sum(i.numel() for i in model.parameters()))"
   ]
  },
  {
   "cell_type": "code",
   "execution_count": 27,
   "id": "b18397fd",
   "metadata": {
    "ExecuteTime": {
     "end_time": "2023-02-24T15:32:46.796651Z",
     "start_time": "2023-02-24T15:32:46.778561Z"
    }
   },
   "outputs": [],
   "source": [
    "# 测试\n",
    "# 测试\n",
    "def test(model):\n",
    "    model.eval()\n",
    "    \n",
    "    loader_test = torch.utils.data.DataLoader(\n",
    "        dataset=dataset['test'],\n",
    "        batch_size=4,\n",
    "        collate_fn=collate_fn,\n",
    "        shuffle=True,\n",
    "        drop_last=True\n",
    "    )\n",
    "    \n",
    "    for data in loader_test:\n",
    "        break\n",
    "        \n",
    "    with torch.no_grad():\n",
    "        out = model(**data)\n",
    "        \n",
    "\n",
    "    \n",
    "    for i in range(4):\n",
    "        input_ids = tokenizer.decode(data['input_ids'][i])\n",
    "        pred = tokenizer.decode(out['logits'].argmax(dim=2)[i])\n",
    "        label = tokenizer.decode(data['decoder_input_ids'][i])\n",
    "        \n",
    "        print('pred:', pred)\n",
    "        print('label:', label)\n",
    "        print()"
   ]
  },
  {
   "cell_type": "code",
   "execution_count": 28,
   "id": "3f45a6e4",
   "metadata": {
    "ExecuteTime": {
     "end_time": "2023-02-24T15:32:50.110839Z",
     "start_time": "2023-02-24T15:32:46.798896Z"
    }
   },
   "outputs": [
    {
     "name": "stdout",
     "output_type": "stream",
     "text": [
      "pred: Annakeepero Oinomar was thes in  uncle beat the  round.  the football mped out. 4ship   of the fifth capital  the:\n",
      "label: <pad> Goal hero Rabin Omar made headlines when his club from the fourth tier of Scottish football dumped a Premiership side out of the Scottish Cup.</s>\n",
      "\n",
      "pred: world Hamilton says startinghe was \"actual  about about finishing starting start in both race One race    the the the the the the the the world world world world world world\n",
      "label: <pad> Lewis Hamilton said he was \"not worried\" about his difficult start to the Formula 1 season.</s><pad><pad><pad><pad><pad><pad><pad><pad><pad><pad><pad><pad><pad><pad>\n",
      "\n",
      "pred: scientistss have on's spaceetta probe to  will  comet'.P  have they have have been  of the they a structures formed formed  the\n",
      "label: <pad> Scientists working on Europe's Rosetta probe, which is tracking Comet 67P, say they may have found evidence for how such icy objects were formed.\n",
      "\n",
      "pred: football's also latest thing of football football football in football  football football football football football football                 \n",
      "label: <pad> It's the ugly side of the beautiful game.</s><pad><pad><pad><pad><pad><pad><pad><pad><pad><pad><pad><pad><pad><pad><pad><pad><pad><pad><pad><pad><pad><pad><pad>\n",
      "\n"
     ]
    }
   ],
   "source": [
    "test(model)"
   ]
  },
  {
   "cell_type": "code",
   "execution_count": 29,
   "id": "80ddb2f6",
   "metadata": {
    "ExecuteTime": {
     "end_time": "2023-02-24T15:32:50.126461Z",
     "start_time": "2023-02-24T15:32:50.110839Z"
    }
   },
   "outputs": [],
   "source": [
    "from transformers.trainer_pt_utils import get_parameter_names\n",
    "from transformers import AdamW\n",
    "from transformers.optimization import get_scheduler"
   ]
  },
  {
   "cell_type": "code",
   "execution_count": 30,
   "id": "d6d948ba",
   "metadata": {
    "ExecuteTime": {
     "end_time": "2023-02-24T15:32:50.172881Z",
     "start_time": "2023-02-24T15:32:50.128643Z"
    }
   },
   "outputs": [
    {
     "data": {
      "text/plain": [
       "device(type='cuda', index=0)"
      ]
     },
     "execution_count": 30,
     "metadata": {},
     "output_type": "execute_result"
    }
   ],
   "source": [
    "device = torch.device('cuda:0' if torch.cuda.is_available() else 'cpu')\n",
    "device"
   ]
  },
  {
   "cell_type": "code",
   "execution_count": 31,
   "id": "5e7d6a1f",
   "metadata": {
    "ExecuteTime": {
     "end_time": "2023-02-24T15:32:50.192752Z",
     "start_time": "2023-02-24T15:32:50.175017Z"
    }
   },
   "outputs": [
    {
     "data": {
      "text/plain": [
       "{'input_ids': tensor([[21603,    10,   667,  ...,     0,     0,     0],\n",
       "        [21603,    10, 15743,  ...,  5719,   535,     1],\n",
       "        [21603,    10,   634,  ...,     0,     0,     0],\n",
       "        [21603,    10, 24607,  ...,     0,     0,     0]]), 'attention_mask': tensor([[1, 1, 1,  ..., 0, 0, 0],\n",
       "        [1, 1, 1,  ..., 1, 1, 1],\n",
       "        [1, 1, 1,  ..., 0, 0, 0],\n",
       "        [1, 1, 1,  ..., 0, 0, 0]]), 'labels': tensor([[   71,  1249, 17030,    18,  8861, 26737,   297,    13, 26238,    31,\n",
       "             7, 13017,  1635,     7,   107,  2309,  2050,    65,   118,  3754,\n",
       "             5,     1,  -100,  -100,  -100,  -100,  -100,  -100,  -100,  -100,\n",
       "          -100,  -100,  -100,  -100,  -100,  -100,  -100,  -100,  -100,  -100,\n",
       "          -100,  -100,  -100,  -100,  -100,  -100,  -100],\n",
       "        [17159,   115,    17,     7,    43,   118,  3279,    81,   823,  2789,\n",
       "            31,     7, 17804,    91,    18,   858,    18,  5842,     7,   199,\n",
       "           747,    19,     3,   179,    12,  2862,  2261, 21154,    16,   502,\n",
       "             6,   227,     3,     9,  1871,  3977,    13,  1717, 14566,    53,\n",
       "           826,     3,     9,  5738,  7952,     5,     1],\n",
       "        [15670,    65,   243,   150,  1139,   331,    47,  1513,   116, 24041,\n",
       "         10564,    15,    26,   165,  8379,     5,     1,  -100,  -100,  -100,\n",
       "          -100,  -100,  -100,  -100,  -100,  -100,  -100,  -100,  -100,  -100,\n",
       "          -100,  -100,  -100,  -100,  -100,  -100,  -100,  -100,  -100,  -100,\n",
       "          -100,  -100,  -100,  -100,  -100,  -100,  -100],\n",
       "        [    3, 29367,   377,  1655,  1703,   845,  8288,    33,     3, 19874,\n",
       "            21,  2411,   979,    45,    70,   416,   192,  6407,   581, 27620,\n",
       "            11, 30629,     5,     1,  -100,  -100,  -100,  -100,  -100,  -100,\n",
       "          -100,  -100,  -100,  -100,  -100,  -100,  -100,  -100,  -100,  -100,\n",
       "          -100,  -100,  -100,  -100,  -100,  -100,  -100]]), 'decoder_input_ids': tensor([[    0,    71,  1249, 17030,    18,  8861, 26737,   297,    13, 26238,\n",
       "            31,     7, 13017,  1635,     7,   107,  2309,  2050,    65,   118,\n",
       "          3754,     5,     1,     0,     0,     0,     0,     0,     0,     0,\n",
       "             0,     0,     0,     0,     0,     0,     0,     0,     0,     0,\n",
       "             0,     0,     0,     0,     0,     0,     0],\n",
       "        [    0, 17159,   115,    17,     7,    43,   118,  3279,    81,   823,\n",
       "          2789,    31,     7, 17804,    91,    18,   858,    18,  5842,     7,\n",
       "           199,   747,    19,     3,   179,    12,  2862,  2261, 21154,    16,\n",
       "           502,     6,   227,     3,     9,  1871,  3977,    13,  1717, 14566,\n",
       "            53,   826,     3,     9,  5738,  7952,     5],\n",
       "        [    0, 15670,    65,   243,   150,  1139,   331,    47,  1513,   116,\n",
       "         24041, 10564,    15,    26,   165,  8379,     5,     1,     0,     0,\n",
       "             0,     0,     0,     0,     0,     0,     0,     0,     0,     0,\n",
       "             0,     0,     0,     0,     0,     0,     0,     0,     0,     0,\n",
       "             0,     0,     0,     0,     0,     0,     0],\n",
       "        [    0,     3, 29367,   377,  1655,  1703,   845,  8288,    33,     3,\n",
       "         19874,    21,  2411,   979,    45,    70,   416,   192,  6407,   581,\n",
       "         27620,    11, 30629,     5,     1,     0,     0,     0,     0,     0,\n",
       "             0,     0,     0,     0,     0,     0,     0,     0,     0,     0,\n",
       "             0,     0,     0,     0,     0,     0,     0]])}"
      ]
     },
     "execution_count": 31,
     "metadata": {},
     "output_type": "execute_result"
    }
   ],
   "source": [
    "data"
   ]
  },
  {
   "cell_type": "code",
   "execution_count": 32,
   "id": "3112fd27",
   "metadata": {
    "ExecuteTime": {
     "end_time": "2023-02-24T15:32:50.212758Z",
     "start_time": "2023-02-24T15:32:50.194860Z"
    }
   },
   "outputs": [],
   "source": [
    "# 训练代码\n",
    "def train():\n",
    "    parameter_names = get_parameter_names(model, [torch.nn.LayerNorm])\n",
    "    # weight_decay 权重衰减\n",
    "    parameter_names = [i for i in parameter_names if 'bias' not in i]\n",
    "    \n",
    "    parameter_names = [\n",
    "        {\n",
    "            'params': [p for i, p in model.named_parameters() if i in parameter_names],\n",
    "            'weight_decay': 1e-2\n",
    "        },\n",
    "        {\n",
    "            'params': [p for i, p in model.named_parameters() if i not in parameter_names],\n",
    "            'weight_decay': 0.0\n",
    "        }\n",
    "    ]\n",
    "    \n",
    "    # 定义优化器\n",
    "    optimizer = AdamW(parameter_names, betas=(0.9, 0.999), eps=1e-8, lr=2e-5)\n",
    "    \n",
    "    scheduler = get_scheduler(name='linear',\n",
    "                             num_warmup_steps=0,\n",
    "                             num_training_steps=len(loader),\n",
    "                             optimizer=optimizer)\n",
    "    \n",
    "    model.to(device)\n",
    "    model.train()\n",
    "    \n",
    "    for i, data in enumerate(loader):\n",
    "        input_ids, attention_mask = data['input_ids'], data['attention_mask']\n",
    "        labels, decoder_input_ids = data['labels'], data['decoder_input_ids']\n",
    "        input_ids = input_ids.to(device)\n",
    "        attention_mask = attention_mask.to(device)\n",
    "        labels = labels.to(device)\n",
    "        decoder_input_ids = decoder_input_ids.to(device)\n",
    "        \n",
    "        out = model(input_ids=input_ids, \n",
    "                    attention_mask=attention_mask, \n",
    "                    labels=labels, \n",
    "                    decoder_input_ids=decoder_input_ids)\n",
    "        loss = out['loss']\n",
    "        loss.backward()\n",
    "        torch.nn.utils.clip_grad_norm_(model.parameters(), 1.0)\n",
    "        optimizer.step()\n",
    "        scheduler.step()\n",
    "        \n",
    "        optimizer.zero_grad()\n",
    "        model.zero_grad()\n",
    "        \n",
    "        if i % 50 == 0:\n",
    "            lr = optimizer.state_dict()['param_groups'][0]['lr']\n",
    "            \n",
    "            pred = tokenizer.decode(out['logits'].argmax(dim=2)[0])\n",
    "            label = tokenizer.decode(data['decoder_input_ids'][0])\n",
    "            \n",
    "            print(i, loss.item(), lr)\n",
    "            print('pred: ', pred)\n",
    "            print('label: ', label)\n",
    "            print()"
   ]
  },
  {
   "cell_type": "code",
   "execution_count": 33,
   "id": "3b1231bd",
   "metadata": {
    "ExecuteTime": {
     "end_time": "2023-02-24T15:50:28.096254Z",
     "start_time": "2023-02-24T15:32:50.214894Z"
    },
    "collapsed": true
   },
   "outputs": [
    {
     "name": "stderr",
     "output_type": "stream",
     "text": [
      "D:\\.venv\\lib\\site-packages\\transformers\\optimization.py:310: FutureWarning: This implementation of AdamW is deprecated and will be removed in a future version. Use the PyTorch implementation torch.optim.AdamW instead, or set `no_deprecation_warning=True` to disable this warning\n",
      "  FutureWarning,\n"
     ]
    },
    {
     "name": "stdout",
     "output_type": "stream",
     "text": [
      "0 5.284295082092285 1.9996000000000003e-05\n",
      "pred:  fsea cancer hospital,  cancer   to pedal in.   t   the world </s></s>   the the the the the the the  the\n",
      "label:  <pad> A Swansea University engineer with terminal cancer is set to ride a baked bean-shaped bike around the UK.</s><pad><pad><pad><pad><pad><pad><pad><pad><pad><pad><pad>\n",
      "\n",
      "50 3.1944425106048584 1.9796e-05\n",
      "pred:  six jury is thea  who of  in f crash crash claim was. was sak\" thea jury heard heard </s>  the the the the Beth Beth  the jury jury the the seven six jury the  the the\n",
      "label:  <pad> The case against a woman accused of involvement in a car insurance fraud ring is \"weak\", a court has heard.</s><pad><pad><pad><pad><pad><pad><pad><pad><pad><pad><pad><pad><pad><pad><pad><pad><pad><pad><pad>\n",
      "\n",
      "100 3.390977382659912 1.9596e-05\n",
      "pred:    of thesa's Trade into the tax of of people work, been that are no that are  the-employed as to create tax </s></s>\n",
      "label:  <pad> The head of Theresa May's inquiry into the way millions of people work has said there is evidence businesses are using self-employment laws to avoid tax.</s>\n",
      "\n",
      "150 3.244069814682007 1.9396000000000002e-05\n",
      "pred:  Martinezton have Martinezo  has he is not interested of  transfer requests. by theas Terrys.</s>. Manchester Ever Ever Ever Ever Ever Ever Ever Ever Ever\n",
      "label:  <pad> Everton manager Roberto Martinez says he is not aware of any transfer request made by defender John Stones.</s><pad><pad><pad><pad><pad><pad><pad><pad><pad><pad>\n",
      "\n",
      "200 3.1614394187927246 1.9196e-05\n",
      "pred:  There Minister Theresa May has planning visit a visit for for the    election continuesers to the nexts</s></s> There There Welsh There There There There There The\n",
      "label:  <pad> Prime Minister Theresa May is to make a campaign stop in Wales as the general election campaign heads towards its close.</s><pad><pad><pad><pad><pad><pad><pad><pad><pad>\n",
      "\n",
      "250 3.6749401092529297 1.8996000000000002e-05\n",
      "pred:   US were six the soldiers were the thea helicopter helicopter helicopter were was into Nepal' travelling a helicopter mission in been found.</s>: the the the   Nepal Nepal The The  Nepal The  The \n",
      "label:  <pad> The bodies of all eight people on board a US military helicopter that crashed in Nepal while on a relief mission have been recovered.</s><pad><pad><pad><pad><pad><pad><pad><pad><pad><pad><pad><pad><pad><pad><pad>\n",
      "\n",
      "300 2.820145606994629 1.8796e-05\n",
      "pred:  Scottish Scottish schoolschildren in Scotland should learn trained first aid training. saysa charity said said.</s>  the Scottish Scottish Scottish Scotland Scottish Scottish Scotland Scotland Scottish Scotland\n",
      "label:  <pad> All primary school children in Scotland should be given first aid training, a charity has said.</s><pad><pad><pad><pad><pad><pad><pad><pad><pad><pad><pad>\n",
      "\n",
      "350 3.201946258544922 1.8596e-05\n",
      "pred:  Welsh Welsh sourcelor have said fors to make the  to relash the council of council councils </s></s>   Welsh Welsh Welsh  Welsh   A Welsh  \n",
      "label:  <pad> Senior Labour council figures have asked ministers to water down plans to slash the number of Welsh councils.</s><pad><pad><pad><pad><pad><pad><pad><pad><pad><pad><pad><pad><pad>\n",
      "\n",
      "400 3.1570730209350586 1.8396e-05\n",
      "pred:  Murray Murray has beena down after the managerial as chairman-executive chairman  the One club Charlton..  his.</s></s> Murray\n",
      "label:  <pad> Richard Murray has stepped down from his position of non-executive chairman of League One side Charlton Athletic because of illness.</s><pad>\n",
      "\n",
      "450 2.9537980556488037 1.8196000000000003e-05\n",
      "pred:  Police 100 million contract Scotland contract company has been  after</s></s> Police Police Police Police Police Police Police Police Police Police Police Police Police Police Police Police Police Police Police Police Police\n",
      "label:  <pad> A £40m Police Scotland computer programme has been abandoned.</s><pad><pad><pad><pad><pad><pad><pad><pad><pad><pad><pad><pad><pad><pad><pad><pad><pad><pad><pad><pad><pad>\n",
      "\n",
      "500 2.9684224128723145 1.7996000000000002e-05\n",
      "pred:  <extra_id_0>alified the a lawyer in barrister in Ca French,  to training, but somes it of the. thea way language.</s></s> Gu Gu Gu Gu Gu\n",
      "label:  <pad> Qualifying as a solicitor or barrister in the UK takes years of study, but imagine doing some of that in a foreign language?</s><pad><pad><pad><pad><pad>\n",
      "\n",
      "550 2.504300832748413 1.7796000000000004e-05\n",
      "pred:  A water who been  shea carhole has  a waterst pipe pipe haswasounded out road into the road\"</s>t the \" \" \" \" \" \" A\n",
      "label:  <pad> A driver has told how a sinkhole created by a burst water pipe \"sucked the car across the road\".</s><pad><pad><pad><pad><pad><pad><pad><pad>\n",
      "\n",
      "600 3.09202241897583 1.7596000000000002e-05\n",
      "pred:  The Bowie's latest week, thea year has been  UK-selling UK the UK. The number top two spot in the chart week </s>\n",
      "label:  <pad> David Bowie's first album in a decade has become the fastest-selling of the year, hitting the number one spot in its first week.\n",
      "\n",
      "650 2.82637882232666 1.7396e-05\n",
      "pred:  Ae'lnyd th nryiadi diy dwasdweb ywasdd y y y idday wddyhdddth yed ywanaeth y'yd yhwy erdydd yw Ynys Môn </s>\n",
      "label:  <pad> Mae Llywodraeth Cymru wedi dod i gytundeb gyda chwmni newydd i gymryd rheolaeth o'r gwasanaeth awyr rhwng Caerdydd ac Ynys Môn.\n",
      "\n",
      "700 3.028536319732666 1.7196000000000003e-05\n",
      "pred:  A Marko has the' have have have  a lack. they comes to the. the League officialsee Mark.</s>. \" Tottenham Tottenham A\n",
      "label:  <pad> Manager Mark Hughes believes Stoke City still sometimes suffer from a past reputation when it comes to their treatment from Premier League referees.</s><pad><pad><pad><pad>\n",
      "\n",
      "750 3.3300724029541016 1.6996e-05\n",
      "pred:  CNN Republican of thea new Clinton film, been  controversial. which it parties is  the Clinton \".</s></s> \" CNN CNN CNN CNN The CNN CNN The CNN The The The CNN\n",
      "label:  <pad> The director of a Hillary Clinton documentary has cancelled the project, saying political interference had made the film impossible.</s><pad><pad><pad><pad><pad><pad><pad><pad><pad><pad><pad><pad><pad><pad>\n",
      "\n",
      "800 2.688225507736206 1.6796e-05\n",
      "pred:  A many first of have fled to Ale regionruins of Ale Aleppo, United ones iss's no way to,\" is beena long new world.</s>  the the The\n",
      "label:  <pad> For the people who have returned to the ruins of East Aleppo the old phrase \"there's no place like home\" has a whole new meaning.</s><pad><pad><pad>\n",
      "\n",
      "850 3.280069351196289 1.6596000000000002e-05\n",
      "pred:  Wimbledona of and Serena will will won again won their theying  longer to they world will in sames of the final's single. but in Wimbledon. Monday's day-finals..</s>\n",
      "label:  <pad> Sisters Venus and Serena Williams have once again proven that age is no barrier as the pair remain the headline acts in the women's game, especially at Wimbledon on women's quarter-finals day.\n",
      "\n",
      "900 2.735910654067993 1.6396e-05\n",
      "pred:  A-Claude Juncker has  the Down he is \"dev committed to finding solutions\" the European concerns of the UK\".  10  said.</s></s> the Britain Britain The The\n",
      "label:  <pad> Jean-Claude Juncker has told David Cameron he is \"fully committed to finding solutions for the political concerns of the UK\", No 10 has said.</s><pad><pad><pad><pad><pad>\n",
      "\n",
      "950 3.503786563873291 1.6196000000000002e-05\n",
      "pred:  Northern of the biggest's largest companies companies firms has  hire  £ new in Northern.</s></s> The Northern Northern The Northern Northern The Northern The Northern The Northern A Northern Northern Northern The The The The Northern Northern The Northern Northern\n",
      "label:  <pad> One of the world's biggest international law firms is to create over 250 jobs in Belfast.</s><pad><pad><pad><pad><pad><pad><pad><pad><pad><pad><pad><pad><pad><pad><pad><pad><pad><pad><pad><pad><pad><pad><pad><pad><pad>\n",
      "\n",
      "1000 2.7321019172668457 1.5996e-05\n",
      "pred:  La' Chris Lamont has  to keep anothera new year with the..</s> is La Wales La La La La La La La La A La La The La La A La Welsh A Wales La A Wales La The Wales La Wales La A\n",
      "label:  <pad> Scotland international Sean Lamont is determined to earn a new contract at Glasgow Warriors.</s><pad><pad><pad><pad><pad><pad><pad><pad><pad><pad><pad><pad><pad><pad><pad><pad><pad><pad><pad><pad><pad><pad><pad><pad><pad><pad><pad><pad><pad><pad><pad>\n",
      "\n",
      "1050 2.9273462295532227 1.5796e-05\n",
      "pred:  The new-millionillion dollarpound of will to raise banks moneylent   - is will loanss will to businesses and businesses. been a in</s></s> the The The The The\n",
      "label:  <pad> A multi-billion pound scheme designed to make more - and cheaper - loans and mortgages available to businesses and individuals has been outlined.</s><pad><pad><pad><pad><pad>\n",
      "\n"
     ]
    },
    {
     "name": "stdout",
     "output_type": "stream",
     "text": [
      "1100 2.8634085655212402 1.5596e-05\n",
      "pred:  ComJ giant UScast has  build a new9% stake of in Tokyo Studios''USJ) in its1.5 billionillion in£16mb)</s>\n",
      "label:  <pad> US entertainment giant Comcast is to buy a 51% majority stake in Universal Studios Japan (USJ) for $1.5bn (£987m).\n",
      "\n",
      "1150 2.5308940410614014 1.5396000000000003e-05\n",
      "pred:  The annual event's worldice hockey event in in Du Du Hockey in Dumfries has generated aailed as a in \" boost to Du region economy.</s>t the\n",
      "label:  <pad> An international women's ice hockey competition held at the Ice Bowl in Dumfries has been hailed for bringing an economic boost to the local area.</s><pad>\n",
      "\n",
      "1200 2.91882061958313 1.5196000000000002e-05\n",
      "pred:  The mayor Mayor of Tower Hamlets has beenreowed to \" the name from the election election election. hishe court Court ruling. him guilty of corruption fraud.</s>\n",
      "label:  <pad> The former mayor of Tower Hamlets has vowed to clear his name in his first public speech since a High Court ruling found him guilty of election fraud.\n",
      "\n",
      "1250 2.6972856521606445 1.4996000000000002e-05\n",
      "pred:  A furniture export have seeingting from  rise pound, thea rise of thes in according show shown.</s></s>  Wales UK\n",
      "label:  <pad> Welsh furniture manufacturers are benefitting from the weak pound with a growth in exports, figures have shown.</s><pad><pad><pad>\n",
      "\n",
      "1300 2.91340708732605 1.4796000000000002e-05\n",
      "pred:  Manchester United beatbeaten up the bench of the group League group stage  impressivebeatenvipiring goal over the sideness Manchesterrya Luhansk.</s>\n",
      "label:  <pad> Manchester United climbed off the bottom of their Europa League group with an uninspiring win over Ukrainian minnows Zorya Luhansk.\n",
      "\n",
      "1350 3.6318466663360596 1.4596e-05\n",
      "pred:  As from beend a single that the industrial premises facility Southe,,</s></s> Fire A A Fire A\n",
      "label:  <pad> Crews have tackled a fire at an industrial laundry in Pontypool.</s><pad><pad><pad><pad><pad>\n",
      "\n",
      "1400 3.2059104442596436 1.4396e-05\n",
      "pred:  Am  former- totonger,e Williams says he will  nervous as out for Am club Amman United. he was for for the. the National Nations Cup</s></s> The The A\n",
      "label:  <pad> Wales' record try-scorer Shane Williams says he was as nervous turning out for village side Amman United as he was playing for Wales in the Six Nations.</s><pad><pad><pad>\n",
      "\n",
      "1450 2.496075391769409 1.4196000000000001e-05\n",
      "pred:  A has have on with thea new of executions,  death' Court' the itsa decision court order on the usethal injection of</s></s> the the The The The\n",
      "label:  <pad> Arkansas will move forward with a series of executions after the state Supreme Court overturned a lower court ruling blocking the lethal injection.</s><pad><pad><pad><pad><pad>\n",
      "\n",
      "1500 2.911348819732666 1.3996000000000001e-05\n",
      "pred:  -GB have to chances of  success in a win-1 win over Malaysia. the 1.. Rio World..-finals thehemp.</s>. A Britain Britain England Britain The\n",
      "label:  <pad> Team GB improved their hopes of Olympic qualification with a 8-1 victory over China in Pool B of the World League semi-final in Antwerp.</s><pad><pad><pad><pad><pad><pad>\n",
      "\n",
      "1550 2.9630026817321777 1.3796e-05\n",
      "pred:  The.yin has   years she death died celebratingburied up by .  to thea cemetery in thea memorial camp.</s>:  The On The The On The The The The\n",
      "label:  <pad> Gena Turgel was just 14 when her family were rounded up by German troops and sent to a prison called a concentration camp.</s><pad><pad><pad><pad><pad><pad><pad><pad><pad><pad>\n",
      "\n",
      "1600 2.7734947204589844 1.3596e-05\n",
      "pred:  A teenagers have been arrested in suspicion of engagingterrorism andces following</s></s> police A A A A A A A A A A A A A A A A A A A\n",
      "label:  <pad> Two teenagers have been arrested on suspicion of terrorism offences.</s><pad><pad><pad><pad><pad><pad><pad><pad><pad><pad><pad><pad><pad><pad><pad><pad><pad><pad><pad><pad>\n",
      "\n",
      "1650 2.810009241104126 1.3396e-05\n",
      "pred:  Hillary presidential candidate Hillary Trump has been hers Clinton of sexual \"s up\" in  last debate.   should take be  for drugs. the election election.</s></s>  Mr Hillary Donald Hillary Trump Trump Donald\n",
      "label:  <pad> Republican presidential nominee Donald Trump has accused rival Hillary Clinton of being \"pumped up\" during their last debate, saying they should both be tested for drugs before the next one.</s><pad><pad><pad><pad><pad><pad><pad><pad>\n",
      "\n",
      "1700 2.774672031402588 1.3196000000000002e-05\n",
      "pred:  A of the Mount of Man's Golf golf in  be after  people after a fire fire in the property club complex.</s>  The The The The The The The The The A A A A The The A The\n",
      "label:  <pad> One of the Isle of Man's largest hotels is to close, 14 months after a major fire destroyed its largest accommodation block.</s><pad><pad><pad><pad><pad><pad><pad><pad><pad><pad><pad><pad><pad><pad><pad><pad><pad>\n",
      "\n",
      "1750 3.3542282581329346 1.2996000000000002e-05\n",
      "pred:  Chilens  to ' brin Trade of Santiago Hague has 23,  subject in in the of theo's most-running conflicts ly conflict disputes.offs.</s>\n",
      "label:  <pad> Bolivia's decision to take Chile to the International Court in The Hague on Wednesday is the latest step in one of Latin America's longest-running and bitterest diplomatic stand-offs.\n",
      "\n",
      "1800 3.2228245735168457 1.2796000000000003e-05\n",
      "pred:  A was  in for for the funeral of a soldier War II veteran who a service media appeal to mourners to</s>:   A The A A\n",
      "label:  <pad> It was standing room only at the funeral of a World War Two veteran following a social media appeal for mourners.</s><pad><pad><pad><pad><pad><pad>\n",
      "\n",
      "1850 3.0222008228302 1.2596000000000001e-05\n",
      "pred:  Glasgow Commonwealth Commonwealth Games were beena closed. a flag opening to Glasgowmondstead'. Glasgow.</s></s><pad> The The Glasgow Glasgow Glasgow Glasgow Glasgow Glasgow Glasgow Glasgow Glasgow Glasgow Glasgow\n",
      "label:  <pad> The 2014 Commonwealth Games has formally closed with a spectacular ceremony at Hampden Park in Glasgow.</s><pad><pad><pad><pad><pad><pad><pad><pad><pad><pad><pad><pad><pad><pad>\n",
      "\n",
      "1900 3.0406992435455322 1.2396000000000001e-05\n",
      "pred:  TheS)): The Street Journal have by after Thursday after the price of crude rosejumped  the climbedmashed stocks thea major week with slump.</s></s> The The The The The\n",
      "label:  <pad> (Close): Wall Street markets rose slightly on Friday as the price of oil climbed and investors shook off a poor April jobs report.</s><pad><pad><pad><pad><pad>\n",
      "\n",
      "1950 3.1747395992279053 1.2196000000000001e-05\n",
      "pred:  A work is been to thea new block-million-pound block block at Lord station. Man,</s></s> A A A A Police The The A\n",
      "label:  <pad> Building work has begun on a new multi-million pound custody block at Police Headquarters in Douglas.</s><pad><pad><pad><pad><pad><pad><pad><pad>\n",
      "\n",
      "2000 2.277944326400757 1.1996000000000002e-05\n",
      "pred:  Dunfere United havet to second place in the premier table a -goal thriller over Dunfermline Athletic. Dunannadice.</s>. A Dun Dun Dun Dun Dun\n",
      "label:  <pad> Dundee United leapt into third place in the Championship with a single-goal win over Dunfermline Athletic at Tannadice.</s><pad><pad><pad><pad><pad><pad>\n",
      "\n",
      "2050 2.7684261798858643 1.1796e-05\n",
      "pred:  China officials Kerry State John Kerry has Chinahe has \" about China US of \" of's sovereigntyation efforts. thea islands. the South China Sea.</s></s> China China China\n",
      "label:  <pad> US Secretary of State John Kerry says he is concerned by the pace and scope of China's reclamation projects in contested areas of the South China Sea.</s><pad><pad><pad>\n",
      "\n",
      "2100 2.6284000873565674 1.1596e-05\n",
      "pred:  Aadydw l oyi el y  yiog o achosi wolaeth,ogen  y ddadwy y ru'r ryglus.an yyed dd </s>\n",
      "label:  <pad> Mae dyn wedi ei gael yn euog o achosi marwolaeth bachgen pump oed drwy yrru'n beryglus yng Nghaerdydd.\n",
      "\n",
      "2150 3.3488519191741943 1.1396e-05\n",
      "pred:  Russian military have Syria War II have as\" ownsart\" ando,e be the performances.   I Zar said the crowd military in. Russia A. in.</s>\n",
      "label:  <pad> British troops in World War Two had \"forces' sweetheart\" Vera Lynn to buoy their spirits, then comedian Bob Hope entertained the US army in Vietnam and Jennifer Lopez sang in Afghanistan.\n",
      "\n",
      "2200 2.7555460929870605 1.1196000000000001e-05\n",
      "pred:  A man who homenall hasMND) has died a social to site to share his'  \" ofhe died die. thea funeral. London.</s></s> Simon Simon A\n",
      "label:  <pad> A man with motor neurone disease (MND) has used a professional networking site to name Monday as the day he will die at a clinic in Switzerland.</s><pad><pad><pad>\n",
      "\n"
     ]
    },
    {
     "name": "stdout",
     "output_type": "stream",
     "text": [
      "2250 3.3192496299743652 1.0996e-05\n",
      "pred:  Ss Cup Sea Sihull Moors have ita  debut to the at the Premier halftier of  S Irelands Sutton United-1.</s></s> A\n",
      "label:  <pad> National League North winners Solihull Moors made a promising start to life in the fifth tier by beating southern champions Sutton 3-1.</s><pad>\n",
      "\n",
      "2300 3.111926794052124 1.0796e-05\n",
      "pred:  The new councilboroughdevelopment project in in in Ball  town in Ball ofrim has been approved by thelors.</s></s>  The The The The The The The The The The The The The The A The\n",
      "label:  <pad> A major redevelopment project centred around an evangelical church in County Antrim has been approved by councillors.</s><pad><pad><pad><pad><pad><pad><pad><pad><pad><pad><pad><pad><pad><pad><pad><pad><pad>\n",
      "\n",
      "2350 2.9417884349823 1.0596000000000002e-05\n",
      "pred:  Dony Toye, 33ry Gallvanagh and To To have been for off the new-leagueing squad team to theegal.</s></s> The The The To A Don\n",
      "label:  <pad> Christy Toye, Rory Kavanagh and David Walsh have called time on their inter-county football careers with Donegal.</s><pad><pad><pad><pad><pad><pad>\n",
      "\n",
      "2400 2.9841816425323486 1.0396000000000002e-05\n",
      "pred:  Newport Welshy- in being made by Newport,  Welsh of itsa new business company.</s></s> Newport Newport Newport Newport Newport Newport The Newport The Newport Newport\n",
      "label:  <pad> Seventy jobs are being created in Newport with the expansion of a specialist packaging company.</s><pad><pad><pad><pad><pad><pad><pad><pad><pad><pad><pad>\n",
      "\n",
      "2450 3.0922436714172363 1.0196000000000002e-05\n",
      "pred:  A documentary of  McConville, been of the first time in a series documentary has the IRA torts murderduction and the of  mother.</s></s> The The The The A The A\n",
      "label:  <pad> A daughter of Jean McConville has spoken for the first time in a BBC documentary about the IRA's abduction and murder of her mother.</s><pad><pad><pad><pad><pad><pad><pad>\n",
      "\n",
      "2500 2.665435791015625 9.996e-06\n",
      "pred:  The year's Nobel  is Physicsphysics, been awarded to Professor scientists in their \" on  and matter, the University advanceds of</s></s> The The The The The The The The The The\n",
      "label:  <pad> This year's Nobel prize in physics has been awarded to two researchers for their work with light and matter at the most fundamental level.</s><pad><pad><pad><pad><pad><pad><pad><pad><pad><pad>\n",
      "\n",
      "2550 2.3647732734680176 9.796e-06\n",
      "pred:  Yemen than 200,000 third people inf are in risk risk of dying  thecholera,   the Children'</s></s> the Yemen The Yemen The    The \n",
      "label:  <pad> More than a million children in Yemen are at high risk of dying from cholera, says Save the Children.</s><pad><pad><pad><pad><pad><pad><pad><pad><pad><pad>\n",
      "\n",
      "2600 3.2880775928497314 9.596000000000001e-06\n",
      "pred:  The iss banks centre have the theirauthorisedached access to the single Union, according to the- figures.</s></s> London UK London Britain London\n",
      "label:  <pad> London's financial firms risk losing unrestricted access to the European Union, according to eurozone leaders.</s><pad><pad><pad><pad><pad>\n",
      "\n",
      "2650 2.678999900817871 9.396000000000001e-06\n",
      "pred:  A Bronson, been a life sentence yearsyear sentence sentence for  a prisoner. Miltona prison-.</s></s> The The The A A A A A A A A\n",
      "label:  <pad> Charles Bronson has received a further two-year jail term for holding a prison governor in a headlock.</s><pad><pad><pad><pad><pad><pad><pad><pad><pad><pad><pad>\n",
      "\n",
      "2700 2.7931227684020996 9.196e-06\n",
      "pred:  A film-winning actress of Starb sci sci, the  Detroit riots has  about race is America United is \"a vital than ever\"</s> <pad> The The The The The The A The\n",
      "label:  <pad> The Oscar-winning director of a new film about the 1967 Detroit riots says talking about race in the US is \"more vital than ever\".</s><pad><pad><pad><pad><pad><pad><pad><pad><pad>\n",
      "\n",
      "2750 2.758105754852295 8.996e-06\n",
      "pred:  The young her who a rarebilitating heart condition has beenged him Harry, thea special at honour his young.</s></s> The The The The The The The\n",
      "label:  <pad> A young boy with a debilitating medical condition has hugged Prince Harry at a ceremony to recognise inspirational children.</s><pad><pad><pad><pad><pad><pad><pad>\n",
      "\n",
      "2800 3.4714951515197754 8.796000000000002e-06\n",
      "pred:  The'- to the in- but first of is s the referendumIP of the seats</s> of the in the. for the referendum. be the EU. the.7% of Wales in</s>\n",
      "label:  <pad> Wales voted for Brexit - the result here roughly mirrored the UK result with 52.5% of people in Wales voting for the UK to leave the EU and 47.5% to remain.\n",
      "\n",
      "2850 3.3263001441955566 8.596e-06\n",
      "pred:  The British British Bake Off series being underwaya new onoff in with chefs chefs chefs will for compete the most desserts.</s>\n",
      "label:  <pad> The Great British Bake Off is getting a spin-off show where professional pastry chefs compete to prepare the best desserts.\n",
      "\n",
      "2900 2.613940477371216 8.396e-06\n",
      "pred:  Aberdeen senior senior will chief executive of been announced to theshirebased Border East Scotland College.</s></s>. North Aberdeen The North Aberdeen A Scotland Aberdeen The Aberdeen The A Scotland North North\n",
      "label:  <pad> A new principal and chief executive has been appointed for Aberdeen-based North East Scotland College.</s><pad><pad><pad><pad><pad><pad><pad><pad><pad><pad><pad><pad><pad><pad><pad><pad>\n",
      "\n",
      "2950 2.8961520195007324 8.196e-06\n",
      "pred:  TheDuring of young people will to invited to attend part in the event quiz event at the UK of Emirates' Club Trainer Awards the World.. the.</s></s> The The The A The The The The The The The The\n",
      "label:  <pad> Hundreds of young people are being invited to take part in an inspirational sporting event in the week the BBC Sports Personality of the Year rolls into Glasgow.</s><pad><pad><pad><pad><pad><pad><pad><pad><pad><pad><pad><pad>\n",
      "\n",
      "3000 2.9793291091918945 7.996000000000001e-06\n",
      "pred:  Spur Rose Rose has signed fora new signing with sign his contract at Tottenham. Rodpur. the the games Premier</s>: The The Manchester Manchester The Manchester A Spur Manchester The Spur Spur A Spur\n",
      "label:  <pad> Defender Danny Rose has signed a new contract to extend his terms with Tottenham Hotspur through to 2021.</s><pad><pad><pad><pad><pad><pad><pad><pad><pad><pad><pad><pad><pad><pad>\n",
      "\n",
      "3050 2.8711652755737305 7.796e-06\n",
      "pred:  The Belfast union union has whichipsa, is it chairman are beenbacked to close action action to the to strike its offices offices offices.</s></s>     N The The The A The\n",
      "label:  <pad> The public service union, Nipsa, says its members have voted to take industrial action over plans to close six regional electoral offices.</s><pad><pad><pad><pad><pad><pad><pad><pad><pad><pad>\n",
      "\n",
      "3100 2.837707042694092 7.5960000000000015e-06\n",
      "pred:  The talks David Davis has said for the the to Brussels EU to the issue's future of the EU Union to \"get down to business\"</s> of\n",
      "label:  <pad> Brexit Secretary David Davis has called on both sides in the negotiations on the UK's departure from the European Union to \"get down to business\".</s>\n",
      "\n",
      "3150 2.7261180877685547 7.396000000000001e-06\n",
      "pred:  The's largest crisis hass many countries countries, the countries,- and far is difficulta  to cope on the ground.</s>,  Europe The European The The Britain\n",
      "label:  <pad> Europe's migration crisis affects EU member states in different ways - so it is proving difficult to agree on common rules.</s><pad><pad><pad><pad><pad><pad><pad>\n",
      "\n",
      "3200 2.897616147994995 7.196000000000001e-06\n",
      "pred:  Sir Middle boss Steve McClaren has been Middle side Maccabi Tel Aviv on a coach consultant.</s>\n",
      "label:  <pad> Former England manager Steve McClaren has joined Israeli club Maccabi Tel Aviv as a coaching consultant.\n",
      "\n",
      "3250 2.90762996673584 6.9960000000000004e-06\n",
      "pred:  A B- businesses are into administration,'s  to see that store has beenre off public off</s></s> Black Black Black A Black Black A\n",
      "label:  <pad> When high street stores go into administration, it's easy to assume another brand has bitten the dust.</s><pad><pad><pad><pad><pad><pad><pad>\n",
      "\n",
      "3300 3.3212761878967285 6.796000000000001e-06\n",
      "pred:  Mercedes' director Allison Allison has who of Ferrari team -regarded drivers and in the1 has  be the team in</s></s> Mercedes Ferrari Mercedes Ferrari Ferrari Ferrari Ferrari Mercedes Ferrari Ferrari Ferrari Ferrari Ferrari Ferrari Ferrari Mercedes Mercedes Mercedes Ferrari Ferrari Ferrari Mercedes Mercedes Ferrari Ferrari Ferrari Ferrari Ferrari Ferrari\n",
      "label:  <pad> Lotus technical director James Allison, one of the most highly regarded design engineers in F1, is to leave the team.</s><pad><pad><pad><pad><pad><pad><pad><pad><pad><pad><pad><pad><pad><pad><pad><pad><pad><pad><pad><pad><pad><pad><pad><pad><pad><pad><pad><pad><pad>\n",
      "\n"
     ]
    },
    {
     "name": "stdout",
     "output_type": "stream",
     "text": [
      "3350 3.1043970584869385 6.596e-06\n",
      "pred:  Thetsman, Gillan has been: had have to play  in the thanthe-\" roles. the  in villain in</s></s> Guardian Guardian Guardian The Guardian The The Marvel Guardian The Guardian Guardian\n",
      "label:  <pad> Scots actress Karen Gillan has said she would like to be cast in more \"bad guy\" roles after playing her first villain.</s><pad><pad><pad><pad><pad><pad><pad><pad><pad><pad><pad><pad>\n",
      "\n",
      "3400 2.8847649097442627 6.396e-06\n",
      "pred:  Aer of photographer Drinkwater and</s>:  The The A The The A A The The A A A A A A A A A A A A\n",
      "label:  <pad> Photographs by Marcus Drinkwater.</s><pad><pad><pad><pad><pad><pad><pad><pad><pad><pad><pad><pad><pad><pad><pad><pad><pad><pad><pad><pad><pad><pad>\n",
      "\n",
      "3450 3.004556894302368 6.196000000000001e-06\n",
      "pred:  Aillian Whyte has Joshua mentals over Anthony Joshua has him ands on  makes- in  fighte the title heavyweight title.</s>\n",
      "label:  <pad> Dillian Whyte believes his amateur victory over Anthony Joshua left mental scars that will reopen when they box for the British heavyweight title.\n",
      "\n",
      "3500 3.2881064414978027 5.996000000000001e-06\n",
      "pred:  AThousandss have thebola have being s in Sierra Leone, the they say is a suicide of proper support.</s></s>  A A A A\n",
      "label:  <pad> Survivors of Ebola are holding protests across Sierra Leone over what they believe is a lack of government care.</s><pad><pad><pad><pad><pad>\n",
      "\n",
      "3550 3.1885337829589844 5.796000000000001e-06\n",
      "pred:  The new series of The Muppetss been canceled by ABC television show ABC. with toa newcon-\" series on the ofloved Catholic. as therickt</s>um The The The The The The\n",
      "label:  <pad> A new series of The Muppet Show has been commissioned by US TV network ABC, promising a \"more adult\" take on much-loved characters such as Kermit.</s><pad><pad><pad><pad><pad><pad>\n",
      "\n",
      "3600 3.1315271854400635 5.596e-06\n",
      "pred:  Avers water have to  mly-sborne- haveted in Southampton Thamesds been they will noa \" to time degrees to reduce to to be  to</s>\n",
      "label:  <pad> Salvage teams working on the Hoegh Osaka ship stranded in the Solent have said they have a window of 48 hours to ready it to be moved.\n",
      "\n",
      "3650 2.565983772277832 5.3960000000000005e-06\n",
      "pred:  The Scottish of school leavers in on to positivepositive destinations\" has dropped from the last time since  years. according to the figures.</s></s> Scotland the Scottish The\n",
      "label:  <pad> The proportion of school leavers going on to \"positive destinations\" has fallen for the first time in five years, according to government figures.</s><pad><pad><pad><pad>\n",
      "\n",
      "3700 3.2040257453918457 5.196e-06\n",
      "pred:  A in  and  has a \" ofish struggle-  babies the have suffered suffer with the,</s> A BBC BBC The The\n",
      "label:  <pad> Living without hands or legs is a nightmarish thought that few of us have to live out in reality.</s><pad><pad><pad><pad>\n",
      "\n",
      "3750 3.151740789413452 4.996e-06\n",
      "pred:  Aituatedstakingy on \"  of could \"putting themselves  at danger, walking under   sectioncliff,</s></s> A A A A A A A A A A A\n",
      "label:  <pad> Sightseers are being warned they are putting their lives in danger by standing under an unstable cliff.</s><pad><pad><pad><pad><pad><pad><pad><pad><pad><pad><pad>\n",
      "\n",
      "3800 3.1207191944122314 4.796e-06\n",
      "pred:  The Unitedoes agreed  -back Ky Leb will looking leave the club after the end of the season. has forwardlie Leuluai has in be for the</s>\n",
      "label:  <pad> Leeds Rhinos have announced that full-back Brent Webb is to leave the club at the end of the season but prop Kylie Leuluai is to play on.\n",
      "\n",
      "3850 2.457181453704834 4.5960000000000006e-06\n",
      "pred:  Police have Portland, Oregon, have  a man who of stastab belongings from  of the women inhebed in death in Tuesdaya night police. this week.</s>\n",
      "label:  <pad> Police in Portland, Oregon, have arrested a man suspected of stealing belongings from one of two people stabbed to death on a local train earlier this week.\n",
      "\n",
      "3900 3.3320741653442383 4.396e-06\n",
      "pred:  A casefiancet Ga- agency Gawker has been a settlement against'  journalist journalists journalistsr Peterhielu.gan over mm.££4m)</s>\n",
      "label:  <pad> The defunct US news website Gawker has settled a lawsuit won by retired US professional wrestler Hulk Hogan for $31m (<unk>£25m).\n",
      "\n",
      "3950 3.093787908554077 4.196e-06\n",
      "pred:  Somali Somali of Somalis have been theaamine in  in  in thezi fora herous attack to the continent. help refuge Africa. are have they lives business are the.s capitalt country. being to. the onesry of have..</s>\n",
      "label:  <pad> Many thousands of Somalis have fled famine and warfare at home, braving a treacherous journey across the continent to reach South Africa but some feel their new lives in Africa's richest country are little better than the misery they left behind.\n",
      "\n",
      "4000 2.353851795196533 3.996e-06\n",
      "pred:  The er who was completed  most to to climb the top of the's El Capitan as in ropea rope or been it as as.</s>\n",
      "label:  <pad> A climber who has become the first person to reach the top of California's El Capitan rock without a rope has described his intense satisfaction.\n",
      "\n",
      "4050 3.0233097076416016 3.796e-06\n",
      "pred:  Palestinian'   that that that thes in Lebanon are in n than they in the Israeli-. Lebanon.</s></s> The The The The The The Palestinian Palestinian The A The The Palestinian Palestinian Palestinian Palestinian A Palestinian Palestinian\n",
      "label:  <pad> It is sometimes controversially said that Palestinian refugees in Lebanon live in worse conditions than those during the Israeli occupation in Gaza.</s><pad><pad><pad><pad><pad><pad><pad><pad><pad><pad><pad><pad><pad><pad><pad><pad><pad><pad><pad>\n",
      "\n",
      "4100 3.0831499099731445 3.596e-06\n",
      "pred:  Minnesota President candidate Hillary Trump has promised Minnesota country community in Minnesota state. of Minnesota. theproblem of the arehave] refugees terroristSISa\"  the faithists\".</s>\n",
      "label:  <pad> US presidential candidate Donald Trump has attacked the Somali community in the US state of Minnesota saying \"some of them [are] joining Isis and spreading their extremist views\".\n",
      "\n",
      "4150 2.989535331726074 3.3960000000000006e-06\n",
      "pred:  The television Christopher Bean won won the international Emmy for his role on Star One. series Accused.</s></s> The The The The The The The The The The The The The The\n",
      "label:  <pad> British actor Sean Bean has won an International Emmy for his work in BBC One drama series Accused.</s><pad><pad><pad><pad><pad><pad><pad><pad><pad><pad><pad><pad><pad><pad>\n",
      "\n",
      "4200 2.7864952087402344 3.1960000000000004e-06\n",
      "pred:  Around viewers  of to toing to the MP Minister A Primes A A. of the election Election.</s></s> A A A A\n",
      "label:  <pad> Newsround took some Year 7 school children to meet Prime Minister and Conservative leader David Cameron ahead of the General Election.</s><pad><pad><pad><pad>\n",
      "\n",
      "4250 2.9627766609191895 2.996e-06\n",
      "pred:  The  people have beend a demonstration in the crimes in the-.</s></s> The The  A The A A A Police A A  A A A The A A\n",
      "label:  <pad> About 50 people have staged a protest against hate crime in south Belfast.</s><pad><pad><pad><pad><pad><pad><pad><pad><pad><pad><pad><pad><pad><pad><pad><pad><pad><pad>\n",
      "\n",
      "4300 2.8675477504730225 2.7960000000000004e-06\n",
      "pred:  The' unclear for decidesudge up\" the the \"p\" of hass police from  obtaining bailistss, according' Johnis Johnson says said.</s>  Britain The Britain British A A\n",
      "label:  <pad> It is time to \"blow away\" all the \"nonsense\" that prevents police from properly pursuing extremist suspects, London Mayor Boris Johnson has said.</s><pad><pad><pad><pad><pad><pad>\n",
      "\n",
      "4350 3.247044324874878 2.5960000000000002e-06\n",
      "pred:  A side League leaderss Europan Yorks are be Croatiaraltar City Europa FC in the Champions League qualifying leg round.</s></s> The The The A The The A The The Europa The A A The The The Europa\n",
      "label:  <pad> Welsh Premier League champions The New Saints will face Gibraltar side Europa FC in the Champions League first qualifying round.</s><pad><pad><pad><pad><pad><pad><pad><pad><pad><pad><pad><pad><pad><pad><pad><pad><pad>\n",
      "\n",
      "4400 2.7443971633911133 2.3960000000000004e-06\n",
      "pred:  Theor James Williams will be the of the first judges to the 2015 Man Booker Prize. the.</s>e The The The The The The The The The The The\n",
      "label:  <pad> Actress Olivia Williams will be one of the five judges of the 2016 Man Booker Prize for fiction.</s><pad><pad><pad><pad><pad><pad><pad><pad><pad><pad><pad>\n",
      "\n"
     ]
    },
    {
     "name": "stdout",
     "output_type": "stream",
     "text": [
      "4450 2.81040358543396 2.1960000000000002e-06\n",
      "pred:  Arankss havephrew chicken chicken into through the kitchen hatch ofs at the chicken's inpPrbyininshed chicken in Mondays..</s>\n",
      "label:  <pad> Pranksters threw live chickens through the serving hatches of two McDonald's 'drive-thru' restaurants on Teesside.\n",
      "\n",
      "4500 2.8710155487060547 1.996e-06\n",
      "pred:  A passenger in been in a car witha  cars in  road4 in Birminghamwellleys, Birminghams,onan,, said said.</s>\n",
      "label:  <pad> A woman has died after a collision involving two cars on the A44 in Powys, Dyfed-Powys Police has said.\n",
      "\n",
      "4550 2.8274359703063965 1.7960000000000003e-06\n",
      "pred:  The theae   the to of the  on on thet 67P, it have have how   thea dark space.</s>, The The The The\n",
      "label:  <pad> When Philae first sent back images of its landing location on Comet 67P, researchers could see it was in a dark ditch.</s><pad><pad><pad><pad>\n",
      "\n",
      "4600 3.1162917613983154 1.596e-06\n",
      "pred:  The shoppers have beifys at who the taxi taxi Cup Cup. in Cardiff.  of have been refused a.</s></s> Cardiff  A Cardiff The A The Cardiff Cardiff A\n",
      "label:  <pad> Mystery shoppers will test taxis drivers for the remaining Rugby World Cup games in Cardiff following claims people have been refused fares.</s><pad><pad><pad><pad><pad><pad><pad><pad><pad><pad>\n",
      "\n",
      "4650 3.4369797706604004 1.396e-06\n",
      "pred:  Theing the thea has to UK to leave the EU, is Cameron has about thetheding  way\". izationi\". and well EU hassistedtrateds the as everything country of the policy\".</s>\n",
      "label:  <pad> Explaining why he wants the UK to leave the EU, Boris Johnson complained about \"a slow and invisible process of legal colonisation, as the EU infiltrates just about every area of public policy\".\n",
      "\n",
      "4700 2.8948965072631836 1.196e-06\n",
      "pred:  A man has d illness problems has been sentenceed for  in murder. a woman worker in killed him to leave his  life..</s></s>  The The A A A A A\n",
      "label:  <pad> A man with severe mental health issues has been jailed for life for murdering a care worker who asked him to turn down his TV set.</s><pad><pad><pad><pad><pad><pad><pad><pad>\n",
      "\n",
      "4750 2.617506265640259 9.96e-07\n",
      "pred:  South South reporter who in Uganda Sudan has he was been deported for   critical of the government.</s></s>  South South South A South South South South South South South A South South South A A\n",
      "label:  <pad> A foreign correspondent working in South Sudan says he has been deported for being too critical of the government.</s><pad><pad><pad><pad><pad><pad><pad><pad><pad><pad><pad><pad><pad><pad><pad><pad><pad><pad>\n",
      "\n",
      "4800 2.9138662815093994 7.960000000000001e-07\n",
      "pred:  Asos academyfielder Giorgio hashidis been a new deal-year deal with the Don One side.</s></s>  The Manchester Manchester\n",
      "label:  <pad> MK Dons midfielder Giorgio Rasulo has signed a new one-year contract with the League One club.</s><pad><pad><pad><pad>\n",
      "\n",
      "4850 2.610973358154297 5.960000000000001e-07\n",
      "pred:  TheFNN) shares The  from the June, the FTSE 100 index in year with below than with shares down. the in the.</s></s> The A The The The The A The Retail A Stock \n",
      "label:  <pad> (Close): After falling in early trade, the FTSE 100 ended the day slightly higher, with markets still concerned about developments in Greece.</s><pad><pad><pad><pad><pad><pad><pad><pad><pad><pad><pad><pad>\n",
      "\n",
      "4900 2.3943891525268555 3.9600000000000005e-07\n",
      "pred:  A andprosecutors have to have two Libyans as suspect been as suspect suspects in bomb bomberbie bombing.</s></s> The The The The Scotland The The A The A Two The Scotland\n",
      "label:  <pad> Scottish prosecutors want to interview two Libyans they have identified as new suspects over the Lockerbie bombing.</s><pad><pad><pad><pad><pad><pad><pad><pad><pad><pad><pad><pad><pad>\n",
      "\n",
      "4950 3.046841859817505 1.96e-07\n",
      "pred:  They and Lointe, -,,man e thea,,</s></s>  The The The The The The The The The\n",
      "label:  <pad> Tintin quiff, runaway train speed, wrecking-ball power.</s><pad><pad><pad><pad><pad><pad><pad><pad><pad><pad>\n",
      "\n"
     ]
    }
   ],
   "source": [
    "train()"
   ]
  }
 ],
 "metadata": {
  "kernelspec": {
   "display_name": "Python 3 (ipykernel)",
   "language": "python",
   "name": "python3"
  },
  "language_info": {
   "codemirror_mode": {
    "name": "ipython",
    "version": 3
   },
   "file_extension": ".py",
   "mimetype": "text/x-python",
   "name": "python",
   "nbconvert_exporter": "python",
   "pygments_lexer": "ipython3",
   "version": "3.7.8"
  },
  "toc": {
   "base_numbering": 1,
   "nav_menu": {},
   "number_sections": true,
   "sideBar": true,
   "skip_h1_title": false,
   "title_cell": "Table of Contents",
   "title_sidebar": "Contents",
   "toc_cell": false,
   "toc_position": {},
   "toc_section_display": true,
   "toc_window_display": false
  }
 },
 "nbformat": 4,
 "nbformat_minor": 5
}
