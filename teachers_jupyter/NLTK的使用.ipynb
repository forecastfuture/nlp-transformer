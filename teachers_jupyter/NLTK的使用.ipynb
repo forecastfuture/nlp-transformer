{
 "cells": [
  {
   "cell_type": "code",
   "execution_count": 1,
   "id": "f829f35c",
   "metadata": {
    "ExecuteTime": {
     "end_time": "2022-08-06T12:44:45.148520Z",
     "start_time": "2022-08-06T12:44:44.399523Z"
    }
   },
   "outputs": [],
   "source": [
    "# 句子切分 即断句\n",
    "from nltk.tokenize import sent_tokenize"
   ]
  },
  {
   "cell_type": "code",
   "execution_count": 2,
   "id": "37d10501",
   "metadata": {
    "ExecuteTime": {
     "end_time": "2022-08-06T12:46:19.446918Z",
     "start_time": "2022-08-06T12:46:19.428964Z"
    }
   },
   "outputs": [],
   "source": [
    "paragraph = 'You must follow me carefully. I shall have to controvert one or twoideas that are almost universally accepted. The geometry, forinstance, they taught you at school is founded on a misconception.'"
   ]
  },
  {
   "cell_type": "code",
   "execution_count": 3,
   "id": "0d21e600",
   "metadata": {
    "ExecuteTime": {
     "end_time": "2022-08-06T12:46:43.996263Z",
     "start_time": "2022-08-06T12:46:43.980304Z"
    }
   },
   "outputs": [],
   "source": [
    "tokenized_text = sent_tokenize(paragraph)"
   ]
  },
  {
   "cell_type": "code",
   "execution_count": 4,
   "id": "9afaba46",
   "metadata": {
    "ExecuteTime": {
     "end_time": "2022-08-06T12:46:47.497898Z",
     "start_time": "2022-08-06T12:46:47.476952Z"
    },
    "scrolled": true
   },
   "outputs": [
    {
     "data": {
      "text/plain": [
       "['You must follow me carefully.',\n",
       " 'I shall have to controvert one or twoideas that are almost universally accepted.',\n",
       " 'The geometry, forinstance, they taught you at school is founded on a misconception.']"
      ]
     },
     "execution_count": 4,
     "metadata": {},
     "output_type": "execute_result"
    }
   ],
   "source": [
    "tokenized_text"
   ]
  },
  {
   "cell_type": "code",
   "execution_count": 13,
   "id": "c47ba96c",
   "metadata": {
    "ExecuteTime": {
     "end_time": "2022-08-06T13:08:11.704120Z",
     "start_time": "2022-08-06T13:08:11.692152Z"
    }
   },
   "outputs": [],
   "source": [
    "# 分词\n",
    "from nltk import word_tokenize\n",
    "\n",
    "text = 'You must follow me carefully.'\n",
    "tokenized_text = word_tokenize(text)"
   ]
  },
  {
   "cell_type": "code",
   "execution_count": 10,
   "id": "00a34370",
   "metadata": {
    "ExecuteTime": {
     "end_time": "2022-08-06T13:04:42.446065Z",
     "start_time": "2022-08-06T13:04:42.429108Z"
    }
   },
   "outputs": [],
   "source": [
    "# 去除标点符号. \n",
    "# 方法一\n",
    "import string"
   ]
  },
  {
   "cell_type": "code",
   "execution_count": 11,
   "id": "5c018116",
   "metadata": {
    "ExecuteTime": {
     "end_time": "2022-08-06T13:04:47.641169Z",
     "start_time": "2022-08-06T13:04:47.629200Z"
    }
   },
   "outputs": [
    {
     "data": {
      "text/plain": [
       "'!\"#$%&\\'()*+,-./:;<=>?@[\\\\]^_`{|}~'"
      ]
     },
     "execution_count": 11,
     "metadata": {},
     "output_type": "execute_result"
    }
   ],
   "source": [
    "string.punctuation"
   ]
  },
  {
   "cell_type": "code",
   "execution_count": 12,
   "id": "03069ded",
   "metadata": {
    "ExecuteTime": {
     "end_time": "2022-08-06T13:07:41.496907Z",
     "start_time": "2022-08-06T13:07:41.492917Z"
    }
   },
   "outputs": [
    {
     "data": {
      "text/plain": [
       "'You must follow me carefully '"
      ]
     },
     "execution_count": 12,
     "metadata": {},
     "output_type": "execute_result"
    }
   ],
   "source": [
    "text.translate(str.maketrans(string.punctuation, ' ' * len(string.punctuation)))"
   ]
  },
  {
   "cell_type": "code",
   "execution_count": 15,
   "id": "334012dc",
   "metadata": {
    "ExecuteTime": {
     "end_time": "2022-08-06T13:09:40.388941Z",
     "start_time": "2022-08-06T13:09:40.371985Z"
    },
    "collapsed": true
   },
   "outputs": [
    {
     "data": {
      "text/plain": [
       "['!',\n",
       " '\"',\n",
       " '#',\n",
       " '$',\n",
       " '%',\n",
       " '&',\n",
       " \"'\",\n",
       " '(',\n",
       " ')',\n",
       " '*',\n",
       " '+',\n",
       " ',',\n",
       " '-',\n",
       " '.',\n",
       " '/',\n",
       " ':',\n",
       " ';',\n",
       " '<',\n",
       " '=',\n",
       " '>',\n",
       " '?',\n",
       " '@',\n",
       " '[',\n",
       " '\\\\',\n",
       " ']',\n",
       " '^',\n",
       " '_',\n",
       " '`',\n",
       " '{',\n",
       " '|',\n",
       " '}',\n",
       " '~']"
      ]
     },
     "execution_count": 15,
     "metadata": {},
     "output_type": "execute_result"
    }
   ],
   "source": [
    "# 第二种方法, 对tokenized_text过滤. \n",
    "punctuation = list(string.punctuation)\n",
    "punctuation"
   ]
  },
  {
   "cell_type": "code",
   "execution_count": 16,
   "id": "67ee7ef4",
   "metadata": {
    "ExecuteTime": {
     "end_time": "2022-08-06T13:10:07.716854Z",
     "start_time": "2022-08-06T13:10:07.707877Z"
    }
   },
   "outputs": [
    {
     "data": {
      "text/plain": [
       "['You', 'must', 'follow', 'me', 'carefully']"
      ]
     },
     "execution_count": 16,
     "metadata": {},
     "output_type": "execute_result"
    }
   ],
   "source": [
    "[word for word in tokenized_text if word not in punctuation]"
   ]
  },
  {
   "cell_type": "code",
   "execution_count": 19,
   "id": "873e6235",
   "metadata": {
    "ExecuteTime": {
     "end_time": "2022-08-06T13:16:38.004577Z",
     "start_time": "2022-08-06T13:16:37.988620Z"
    }
   },
   "outputs": [],
   "source": [
    "# 去除停用词 stopword 噪音单词, 没有意义, 常用英文停用词: is, am, a, are the, an, to , for...\n",
    "from nltk.corpus import stopwords\n",
    "\n",
    "# 加载英文停用词\n",
    "stop_words = stopwords.words('english')"
   ]
  },
  {
   "cell_type": "code",
   "execution_count": 20,
   "id": "83e46a52",
   "metadata": {
    "ExecuteTime": {
     "end_time": "2022-08-06T13:16:41.909135Z",
     "start_time": "2022-08-06T13:16:41.900158Z"
    },
    "collapsed": true
   },
   "outputs": [
    {
     "data": {
      "text/plain": [
       "['i',\n",
       " 'me',\n",
       " 'my',\n",
       " 'myself',\n",
       " 'we',\n",
       " 'our',\n",
       " 'ours',\n",
       " 'ourselves',\n",
       " 'you',\n",
       " \"you're\",\n",
       " \"you've\",\n",
       " \"you'll\",\n",
       " \"you'd\",\n",
       " 'your',\n",
       " 'yours',\n",
       " 'yourself',\n",
       " 'yourselves',\n",
       " 'he',\n",
       " 'him',\n",
       " 'his',\n",
       " 'himself',\n",
       " 'she',\n",
       " \"she's\",\n",
       " 'her',\n",
       " 'hers',\n",
       " 'herself',\n",
       " 'it',\n",
       " \"it's\",\n",
       " 'its',\n",
       " 'itself',\n",
       " 'they',\n",
       " 'them',\n",
       " 'their',\n",
       " 'theirs',\n",
       " 'themselves',\n",
       " 'what',\n",
       " 'which',\n",
       " 'who',\n",
       " 'whom',\n",
       " 'this',\n",
       " 'that',\n",
       " \"that'll\",\n",
       " 'these',\n",
       " 'those',\n",
       " 'am',\n",
       " 'is',\n",
       " 'are',\n",
       " 'was',\n",
       " 'were',\n",
       " 'be',\n",
       " 'been',\n",
       " 'being',\n",
       " 'have',\n",
       " 'has',\n",
       " 'had',\n",
       " 'having',\n",
       " 'do',\n",
       " 'does',\n",
       " 'did',\n",
       " 'doing',\n",
       " 'a',\n",
       " 'an',\n",
       " 'the',\n",
       " 'and',\n",
       " 'but',\n",
       " 'if',\n",
       " 'or',\n",
       " 'because',\n",
       " 'as',\n",
       " 'until',\n",
       " 'while',\n",
       " 'of',\n",
       " 'at',\n",
       " 'by',\n",
       " 'for',\n",
       " 'with',\n",
       " 'about',\n",
       " 'against',\n",
       " 'between',\n",
       " 'into',\n",
       " 'through',\n",
       " 'during',\n",
       " 'before',\n",
       " 'after',\n",
       " 'above',\n",
       " 'below',\n",
       " 'to',\n",
       " 'from',\n",
       " 'up',\n",
       " 'down',\n",
       " 'in',\n",
       " 'out',\n",
       " 'on',\n",
       " 'off',\n",
       " 'over',\n",
       " 'under',\n",
       " 'again',\n",
       " 'further',\n",
       " 'then',\n",
       " 'once',\n",
       " 'here',\n",
       " 'there',\n",
       " 'when',\n",
       " 'where',\n",
       " 'why',\n",
       " 'how',\n",
       " 'all',\n",
       " 'any',\n",
       " 'both',\n",
       " 'each',\n",
       " 'few',\n",
       " 'more',\n",
       " 'most',\n",
       " 'other',\n",
       " 'some',\n",
       " 'such',\n",
       " 'no',\n",
       " 'nor',\n",
       " 'not',\n",
       " 'only',\n",
       " 'own',\n",
       " 'same',\n",
       " 'so',\n",
       " 'than',\n",
       " 'too',\n",
       " 'very',\n",
       " 's',\n",
       " 't',\n",
       " 'can',\n",
       " 'will',\n",
       " 'just',\n",
       " 'don',\n",
       " \"don't\",\n",
       " 'should',\n",
       " \"should've\",\n",
       " 'now',\n",
       " 'd',\n",
       " 'll',\n",
       " 'm',\n",
       " 'o',\n",
       " 're',\n",
       " 've',\n",
       " 'y',\n",
       " 'ain',\n",
       " 'aren',\n",
       " \"aren't\",\n",
       " 'couldn',\n",
       " \"couldn't\",\n",
       " 'didn',\n",
       " \"didn't\",\n",
       " 'doesn',\n",
       " \"doesn't\",\n",
       " 'hadn',\n",
       " \"hadn't\",\n",
       " 'hasn',\n",
       " \"hasn't\",\n",
       " 'haven',\n",
       " \"haven't\",\n",
       " 'isn',\n",
       " \"isn't\",\n",
       " 'ma',\n",
       " 'mightn',\n",
       " \"mightn't\",\n",
       " 'mustn',\n",
       " \"mustn't\",\n",
       " 'needn',\n",
       " \"needn't\",\n",
       " 'shan',\n",
       " \"shan't\",\n",
       " 'shouldn',\n",
       " \"shouldn't\",\n",
       " 'wasn',\n",
       " \"wasn't\",\n",
       " 'weren',\n",
       " \"weren't\",\n",
       " 'won',\n",
       " \"won't\",\n",
       " 'wouldn',\n",
       " \"wouldn't\"]"
      ]
     },
     "execution_count": 20,
     "metadata": {},
     "output_type": "execute_result"
    }
   ],
   "source": [
    "stop_words"
   ]
  },
  {
   "cell_type": "code",
   "execution_count": 21,
   "id": "e809da07",
   "metadata": {
    "ExecuteTime": {
     "end_time": "2022-08-06T13:17:31.623200Z",
     "start_time": "2022-08-06T13:17:31.605247Z"
    },
    "collapsed": true
   },
   "outputs": [
    {
     "data": {
      "text/plain": [
       "['I',\n",
       " 'shall',\n",
       " 'have',\n",
       " 'to',\n",
       " 'controvert',\n",
       " 'one',\n",
       " 'or',\n",
       " 'twoideas',\n",
       " 'that',\n",
       " 'are',\n",
       " 'almost',\n",
       " 'universally',\n",
       " 'accepted',\n",
       " '.']"
      ]
     },
     "execution_count": 21,
     "metadata": {},
     "output_type": "execute_result"
    }
   ],
   "source": [
    "text = 'I shall have to controvert one or twoideas that are almost universally accepted.'\n",
    "tokenized_text = word_tokenize(text)\n",
    "tokenized_text"
   ]
  },
  {
   "cell_type": "code",
   "execution_count": 22,
   "id": "8e38e4f4",
   "metadata": {
    "ExecuteTime": {
     "end_time": "2022-08-06T13:17:54.994200Z",
     "start_time": "2022-08-06T13:17:54.988216Z"
    },
    "scrolled": true
   },
   "outputs": [
    {
     "data": {
      "text/plain": [
       "['I',\n",
       " 'shall',\n",
       " 'have',\n",
       " 'to',\n",
       " 'controvert',\n",
       " 'one',\n",
       " 'or',\n",
       " 'twoideas',\n",
       " 'that',\n",
       " 'are',\n",
       " 'almost',\n",
       " 'universally',\n",
       " 'accepted']"
      ]
     },
     "execution_count": 22,
     "metadata": {},
     "output_type": "execute_result"
    }
   ],
   "source": [
    "# 过滤标点\n",
    "tokenized_text = [word for word in tokenized_text if word not in punctuation]\n",
    "tokenized_text"
   ]
  },
  {
   "cell_type": "code",
   "execution_count": 23,
   "id": "25ff8e3b",
   "metadata": {
    "ExecuteTime": {
     "end_time": "2022-08-06T13:18:13.591463Z",
     "start_time": "2022-08-06T13:18:13.572515Z"
    },
    "scrolled": false
   },
   "outputs": [
    {
     "data": {
      "text/plain": [
       "['I',\n",
       " 'shall',\n",
       " 'controvert',\n",
       " 'one',\n",
       " 'twoideas',\n",
       " 'almost',\n",
       " 'universally',\n",
       " 'accepted']"
      ]
     },
     "execution_count": 23,
     "metadata": {},
     "output_type": "execute_result"
    }
   ],
   "source": [
    "# 过滤停用词\n",
    "tokenized_text = [word for word in tokenized_text if word not in stop_words]\n",
    "tokenized_text"
   ]
  },
  {
   "cell_type": "code",
   "execution_count": 29,
   "id": "9c774aa1",
   "metadata": {
    "ExecuteTime": {
     "end_time": "2022-08-06T13:26:01.316078Z",
     "start_time": "2022-08-06T13:26:01.308100Z"
    }
   },
   "outputs": [],
   "source": [
    "# 词频提取\n",
    "import nltk"
   ]
  },
  {
   "cell_type": "code",
   "execution_count": 30,
   "id": "11573a22",
   "metadata": {
    "ExecuteTime": {
     "end_time": "2022-08-06T13:26:43.802482Z",
     "start_time": "2022-08-06T13:26:43.787522Z"
    },
    "collapsed": true
   },
   "outputs": [
    {
     "data": {
      "text/plain": [
       "['You',\n",
       " 'must',\n",
       " 'follow',\n",
       " 'me',\n",
       " 'carefully',\n",
       " 'I',\n",
       " 'shall',\n",
       " 'have',\n",
       " 'to',\n",
       " 'controvert',\n",
       " 'one',\n",
       " 'or',\n",
       " 'twoideas',\n",
       " 'that',\n",
       " 'are',\n",
       " 'almost',\n",
       " 'universally',\n",
       " 'accepted',\n",
       " 'The',\n",
       " 'geometry',\n",
       " 'forinstance',\n",
       " 'they',\n",
       " 'taught',\n",
       " 'you',\n",
       " 'at',\n",
       " 'school',\n",
       " 'is',\n",
       " 'founded',\n",
       " 'on',\n",
       " 'a',\n",
       " 'misconception']"
      ]
     },
     "execution_count": 30,
     "metadata": {},
     "output_type": "execute_result"
    }
   ],
   "source": [
    "tokenized_text = nltk.word_tokenize(paragraph)\n",
    "tokenized_text = [word for word in tokenized_text if word not in punctuation]\n",
    "tokenized_text"
   ]
  },
  {
   "cell_type": "code",
   "execution_count": 32,
   "id": "09bdca1d",
   "metadata": {
    "ExecuteTime": {
     "end_time": "2022-08-06T13:27:46.284378Z",
     "start_time": "2022-08-06T13:27:46.267425Z"
    }
   },
   "outputs": [],
   "source": [
    "word_freqs = nltk.FreqDist(w.lower() for w in tokenized_text)"
   ]
  },
  {
   "cell_type": "code",
   "execution_count": 33,
   "id": "921c98a4",
   "metadata": {
    "ExecuteTime": {
     "end_time": "2022-08-06T13:28:07.205427Z",
     "start_time": "2022-08-06T13:28:07.035880Z"
    },
    "collapsed": true
   },
   "outputs": [
    {
     "data": {
      "image/png": "[encoded data removed]",
      "text/plain": [
       "<Figure size 432x288 with 1 Axes>"
      ]
     },
     "metadata": {
      "needs_background": "light"
     },
     "output_type": "display_data"
    },
    {
     "data": {
      "text/plain": [
       "<AxesSubplot:xlabel='Samples', ylabel='Counts'>"
      ]
     },
     "execution_count": 33,
     "metadata": {},
     "output_type": "execute_result"
    }
   ],
   "source": [
    "# 画出词频\n",
    "word_freqs.plot()"
   ]
  },
  {
   "cell_type": "code",
   "execution_count": 36,
   "id": "9ba887fc",
   "metadata": {
    "ExecuteTime": {
     "end_time": "2022-08-06T13:29:26.361730Z",
     "start_time": "2022-08-06T13:29:26.275959Z"
    },
    "collapsed": true
   },
   "outputs": [
    {
     "data": {
      "image/png": "[encoded data removed]",
      "text/plain": [
       "<Figure size 432x288 with 1 Axes>"
      ]
     },
     "metadata": {
      "needs_background": "light"
     },
     "output_type": "display_data"
    },
    {
     "data": {
      "text/plain": [
       "<AxesSubplot:xlabel='Samples', ylabel='Cumulative Counts'>"
      ]
     },
     "execution_count": 36,
     "metadata": {},
     "output_type": "execute_result"
    }
   ],
   "source": [
    "# 只出现频率最高的几个词. \n",
    "word_freqs.plot(3, cumulative=True)"
   ]
  },
  {
   "cell_type": "code",
   "execution_count": 43,
   "id": "3f4e4d28",
   "metadata": {
    "ExecuteTime": {
     "end_time": "2022-08-06T13:33:02.426882Z",
     "start_time": "2022-08-06T13:33:02.418902Z"
    }
   },
   "outputs": [],
   "source": [
    "from nltk.book import *"
   ]
  },
  {
   "cell_type": "code",
   "execution_count": 46,
   "id": "e357e3dc",
   "metadata": {
    "ExecuteTime": {
     "end_time": "2022-08-06T13:34:27.081480Z",
     "start_time": "2022-08-06T13:34:27.075495Z"
    },
    "collapsed": true
   },
   "outputs": [
    {
     "name": "stdout",
     "output_type": "stream",
     "text": [
      "Displaying 25 of 65 matches:\n",
      " ? Why is almost every robust healthy boy with a robust healthy soul in him , a\n",
      "lings in a most direful manner . \" My boy ,\" said the landlord , \" you ' ll hav\n",
      "idends . Rising from a little cabin - boy in short clothes of the drabbest drab\n",
      "ain ' t Captain Peleg ; HE ' S AHAB , boy ; and Ahab of old , thou knowest , wa\n",
      " to have a wicked name . Besides , my boy , he has a wife -- not three voyages \n",
      "stors , and scolding her little black boy meantime . \" Wood - house !\" cried I \n",
      "Careful , careful !-- come , Bildad , boy -- say your last . Luck to ye , Starb\n",
      " , no ! he went before . Poor Alabama boy ! On the grim Pequod ' s forecastle ,\n",
      " t sleep then . Didn ' t that Dough - Boy , the steward , tell me that of a mor\n",
      "r hold for , every night , as Dough - Boy tells me he suspects ; what ' s that \n",
      "in - Table . It is noon ; and Dough - Boy , the steward , thrusting his pale lo\n",
      " he was the youngest son , and little boy of this weary family party . His were\n",
      "vious repast , often the pale Dough - Boy was fain to bring on a great baron of\n",
      "ith a sudden humor , assisted Dough - Boy ' s memory by snatching him up bodily\n",
      "ions of these three savages , Dough - Boy ' s whole life was one continual lip \n",
      " much so , that the trembling Dough - Boy almost looked to see whether any mark\n",
      "all tend to tranquillize poor Dough - Boy . How could he forget that in his Isl\n",
      "vivial indiscretions . Alas ! Dough - Boy ! hard fares the white waiter who wai\n",
      "O men , you will yet see that -- Ha ! boy , come back ? bad pennies come not so\n",
      "ht bells there ! d ' ye hear , bell - boy ? Strike the bell eight , thou Pip ! \n",
      "CING ) Go it , Pip ! Bang it , bell - boy ! Rig it , dig it , stig it , quig it\n",
      ", dig it , stig it , quig it , bell - boy ! Make fire - flies ; break the jingl\n",
      "ness , have mercy on this small black boy down here ; preserve him from all men\n",
      "cried Ahab . \" Time ! time !\" Dough - Boy hurried below , glanced at the watch \n",
      "fter hold for , so often , as Dough - Boy long suspected . They were hidden dow\n"
     ]
    }
   ],
   "source": [
    "# 单词搜索\n",
    "text1.concordance('boy')"
   ]
  },
  {
   "cell_type": "code",
   "execution_count": 48,
   "id": "41c44401",
   "metadata": {
    "ExecuteTime": {
     "end_time": "2022-08-06T13:35:01.952220Z",
     "start_time": "2022-08-06T13:35:01.923297Z"
    },
    "scrolled": true
   },
   "outputs": [
    {
     "name": "stdout",
     "output_type": "stream",
     "text": [
      "day land was days cattle all lord field stone east trees way sheep son\n",
      "men plain people souls cities kings\n"
     ]
    }
   ],
   "source": [
    "text3.similar('time')"
   ]
  },
  {
   "cell_type": "code",
   "execution_count": 49,
   "id": "adf00ab9",
   "metadata": {
    "ExecuteTime": {
     "end_time": "2022-08-06T13:35:21.500941Z",
     "start_time": "2022-08-06T13:35:21.483984Z"
    }
   },
   "outputs": [
    {
     "data": {
      "text/plain": [
       "44764"
      ]
     },
     "execution_count": 49,
     "metadata": {},
     "output_type": "execute_result"
    }
   ],
   "source": [
    "len(text3)"
   ]
  }
 ],
 "metadata": {
  "kernelspec": {
   "display_name": "Python 3 (ipykernel)",
   "language": "python",
   "name": "python3"
  },
  "language_info": {
   "codemirror_mode": {
    "name": "ipython",
    "version": 3
   },
   "file_extension": ".py",
   "mimetype": "text/x-python",
   "name": "python",
   "nbconvert_exporter": "python",
   "pygments_lexer": "ipython3",
   "version": "3.7.8"
  },
  "toc": {
   "base_numbering": 1,
   "nav_menu": {},
   "number_sections": true,
   "sideBar": true,
   "skip_h1_title": false,
   "title_cell": "Table of Contents",
   "title_sidebar": "Contents",
   "toc_cell": false,
   "toc_position": {},
   "toc_section_display": true,
   "toc_window_display": false
  }
 },
 "nbformat": 4,
 "nbformat_minor": 5
}
