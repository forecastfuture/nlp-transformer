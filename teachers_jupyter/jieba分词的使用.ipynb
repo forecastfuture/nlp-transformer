{
 "cells": [
  {
   "cell_type": "code",
   "execution_count": 2,
   "id": "4cdf16cd",
   "metadata": {
    "ExecuteTime": {
     "end_time": "2022-08-06T14:31:59.597165Z",
     "start_time": "2022-08-06T14:31:56.241141Z"
    }
   },
   "outputs": [
    {
     "name": "stdout",
     "output_type": "stream",
     "text": [
      "Looking in indexes: https://pypi.tuna.tsinghua.edu.cn/simple\n",
      "Collecting jieba\n",
      "  Using cached jieba-0.42.1-py3-none-any.whl\n",
      "Installing collected packages: jieba\n",
      "Successfully installed jieba-0.42.1\n"
     ]
    },
    {
     "name": "stderr",
     "output_type": "stream",
     "text": [
      "\n",
      "[notice] A new release of pip available: 22.2.1 -> 22.2.2\n",
      "[notice] To update, run: python.exe -m pip install --upgrade pip\n"
     ]
    }
   ],
   "source": [
    "# 安装\n",
    "!pip install jieba -i https://pypi.tuna.tsinghua.edu.cn/simple"
   ]
  },
  {
   "cell_type": "code",
   "execution_count": 3,
   "id": "6bf09640",
   "metadata": {
    "ExecuteTime": {
     "end_time": "2022-08-06T14:32:04.311558Z",
     "start_time": "2022-08-06T14:32:04.288618Z"
    }
   },
   "outputs": [],
   "source": [
    "import jieba"
   ]
  },
  {
   "cell_type": "code",
   "execution_count": 4,
   "id": "79022c63",
   "metadata": {
    "ExecuteTime": {
     "end_time": "2022-08-06T14:33:08.499890Z",
     "start_time": "2022-08-06T14:33:08.488920Z"
    }
   },
   "outputs": [
    {
     "data": {
      "text/plain": [
       "['D:\\\\.venv\\\\lib\\\\site-packages\\\\jieba']"
      ]
     },
     "execution_count": 4,
     "metadata": {},
     "output_type": "execute_result"
    }
   ],
   "source": [
    "jieba.__path__"
   ]
  },
  {
   "cell_type": "markdown",
   "id": "75772864",
   "metadata": {},
   "source": [
    "### jieba分词模式\n",
    "- 精确模式: 把句子最精确的切分开, 比较适合文本分析. 默认精确模式. \n",
    "- 全模式: 把句子中所有可能成词的词都扫描出来, cut_all = True, 缺点: 速度快, 不能解决歧义\n",
    "- paddle: 利用百度的paddlepaddle深度学习框架. 简单来说就是使用百度提供的分词模型. use_paddle=True.\n",
    "- 搜索引擎模式: 在精确模式的基础上, 对长词再进行切分, 提高召回率, jieba.cut_for_search"
   ]
  },
  {
   "cell_type": "code",
   "execution_count": 10,
   "id": "a35e394d",
   "metadata": {
    "ExecuteTime": {
     "end_time": "2022-08-06T14:42:50.500400Z",
     "start_time": "2022-08-06T14:42:50.489430Z"
    }
   },
   "outputs": [],
   "source": [
    "text = '我爱中华人民共和国'"
   ]
  },
  {
   "cell_type": "code",
   "execution_count": 19,
   "id": "30292a54",
   "metadata": {
    "ExecuteTime": {
     "end_time": "2022-08-06T14:43:49.579398Z",
     "start_time": "2022-08-06T14:43:49.576406Z"
    }
   },
   "outputs": [],
   "source": [
    "# 精确模式\n",
    "# 注意精确模式返回的是生成器\n",
    "gen = jieba.cut(text)"
   ]
  },
  {
   "cell_type": "code",
   "execution_count": 15,
   "id": "fd8becc8",
   "metadata": {
    "ExecuteTime": {
     "end_time": "2022-08-06T14:42:56.984061Z",
     "start_time": "2022-08-06T14:42:56.976081Z"
    },
    "collapsed": true
   },
   "outputs": [
    {
     "ename": "StopIteration",
     "evalue": "",
     "output_type": "error",
     "traceback": [
      "\u001b[1;31m---------------------------------------------------------------------------\u001b[0m",
      "\u001b[1;31mStopIteration\u001b[0m                             Traceback (most recent call last)",
      "\u001b[1;32m~\\AppData\\Local\\Temp\\ipykernel_441744\\4293081279.py\u001b[0m in \u001b[0;36m<module>\u001b[1;34m\u001b[0m\n\u001b[1;32m----> 1\u001b[1;33m \u001b[0mnext\u001b[0m\u001b[1;33m(\u001b[0m\u001b[0mgen\u001b[0m\u001b[1;33m)\u001b[0m\u001b[1;33m\u001b[0m\u001b[1;33m\u001b[0m\u001b[0m\n\u001b[0m",
      "\u001b[1;31mStopIteration\u001b[0m: "
     ]
    }
   ],
   "source": [
    "next(gen)"
   ]
  },
  {
   "cell_type": "code",
   "execution_count": 17,
   "id": "02b3fc75",
   "metadata": {
    "ExecuteTime": {
     "end_time": "2022-08-06T14:43:19.845918Z",
     "start_time": "2022-08-06T14:43:19.832952Z"
    },
    "scrolled": true
   },
   "outputs": [
    {
     "name": "stdout",
     "output_type": "stream",
     "text": [
      "我\n",
      "爱\n",
      "中华人民共和国\n"
     ]
    }
   ],
   "source": [
    "for word in gen:\n",
    "    print(word)"
   ]
  },
  {
   "cell_type": "code",
   "execution_count": 20,
   "id": "8212b6da",
   "metadata": {
    "ExecuteTime": {
     "end_time": "2022-08-06T14:43:52.536490Z",
     "start_time": "2022-08-06T14:43:52.521530Z"
    }
   },
   "outputs": [
    {
     "data": {
      "text/plain": [
       "['我', '爱', '中华人民共和国']"
      ]
     },
     "execution_count": 20,
     "metadata": {},
     "output_type": "execute_result"
    }
   ],
   "source": [
    "# 转化为列表\n",
    "list(gen)"
   ]
  },
  {
   "cell_type": "code",
   "execution_count": 21,
   "id": "cc7d74ba",
   "metadata": {
    "ExecuteTime": {
     "end_time": "2022-08-06T14:44:34.562096Z",
     "start_time": "2022-08-06T14:44:34.553120Z"
    }
   },
   "outputs": [
    {
     "data": {
      "text/plain": [
       "['我', '爱', '中华人民共和国']"
      ]
     },
     "execution_count": 21,
     "metadata": {},
     "output_type": "execute_result"
    }
   ],
   "source": [
    "# 或者使用lcut l=list 返回的就是列表了\n",
    "words = jieba.lcut(text)\n",
    "words"
   ]
  },
  {
   "cell_type": "code",
   "execution_count": 23,
   "id": "874dbcef",
   "metadata": {
    "ExecuteTime": {
     "end_time": "2022-08-06T14:45:18.532500Z",
     "start_time": "2022-08-06T14:45:18.513551Z"
    }
   },
   "outputs": [
    {
     "data": {
      "text/plain": [
       "['我', '爱', '中华', '中华人民', '中华人民共和国', '华人', '人民', '人民共和国', '共和', '共和国']"
      ]
     },
     "execution_count": 23,
     "metadata": {},
     "output_type": "execute_result"
    }
   ],
   "source": [
    "# 全模式\n",
    "jieba.lcut(text, cut_all=True)"
   ]
  },
  {
   "cell_type": "code",
   "execution_count": 24,
   "id": "59881e0a",
   "metadata": {
    "ExecuteTime": {
     "end_time": "2022-08-06T14:45:56.364322Z",
     "start_time": "2022-08-06T14:45:56.346370Z"
    }
   },
   "outputs": [
    {
     "data": {
      "text/plain": [
       "['我', '爱', '中华', '华人', '人民', '共和', '共和国', '中华人民共和国']"
      ]
     },
     "execution_count": 24,
     "metadata": {},
     "output_type": "execute_result"
    }
   ],
   "source": [
    "# 搜索引擎模式\n",
    "jieba.lcut_for_search(text)"
   ]
  },
  {
   "cell_type": "code",
   "execution_count": 26,
   "id": "d079ace9",
   "metadata": {
    "ExecuteTime": {
     "end_time": "2022-08-06T14:48:36.328534Z",
     "start_time": "2022-08-06T14:48:35.928601Z"
    }
   },
   "outputs": [],
   "source": [
    "# 词性标注\n",
    "from jieba import posseg"
   ]
  },
  {
   "cell_type": "code",
   "execution_count": 27,
   "id": "ed9feac8",
   "metadata": {
    "ExecuteTime": {
     "end_time": "2022-08-06T14:48:59.217318Z",
     "start_time": "2022-08-06T14:48:59.208342Z"
    }
   },
   "outputs": [
    {
     "data": {
      "text/plain": [
       "[pair('我', 'r'), pair('爱', 'v'), pair('中华人民共和国', 'ns')]"
      ]
     },
     "execution_count": 27,
     "metadata": {},
     "output_type": "execute_result"
    }
   ],
   "source": [
    "posseg.lcut(text)"
   ]
  },
  {
   "cell_type": "code",
   "execution_count": 28,
   "id": "c158063e",
   "metadata": {
    "ExecuteTime": {
     "end_time": "2022-08-06T14:50:32.928721Z",
     "start_time": "2022-08-06T14:50:32.920742Z"
    }
   },
   "outputs": [
    {
     "data": {
      "text/plain": [
       "['马', '士兵', '教育', '是', '一个', '线上', '培训', '机构']"
      ]
     },
     "execution_count": 28,
     "metadata": {},
     "output_type": "execute_result"
    }
   ],
   "source": [
    "text = '马士兵教育是一个线上培训机构'\n",
    "jieba.lcut(text)"
   ]
  },
  {
   "cell_type": "code",
   "execution_count": 40,
   "id": "8c1e3da3",
   "metadata": {
    "ExecuteTime": {
     "end_time": "2022-08-06T14:58:33.968803Z",
     "start_time": "2022-08-06T14:58:33.951846Z"
    }
   },
   "outputs": [],
   "source": [
    "# 加载自己的分词文件\n",
    "jieba.load_userdict('D:\\.venv\\Lib\\site-packages\\jieba\\dict2.txt')"
   ]
  },
  {
   "cell_type": "code",
   "execution_count": 41,
   "id": "08cb4d96",
   "metadata": {
    "ExecuteTime": {
     "end_time": "2022-08-06T14:58:34.110421Z",
     "start_time": "2022-08-06T14:58:34.095462Z"
    }
   },
   "outputs": [
    {
     "data": {
      "text/plain": [
       "['马士兵教育', '是', '一个', '安全管理', '机构']"
      ]
     },
     "execution_count": 41,
     "metadata": {},
     "output_type": "execute_result"
    }
   ],
   "source": [
    "text = '马士兵教育是一个安全管理机构'\n",
    "jieba.lcut(text)"
   ]
  },
  {
   "cell_type": "code",
   "execution_count": 42,
   "id": "2b9f0b58",
   "metadata": {
    "ExecuteTime": {
     "end_time": "2022-08-06T14:59:29.994966Z",
     "start_time": "2022-08-06T14:59:29.976014Z"
    }
   },
   "outputs": [
    {
     "data": {
      "text/plain": [
       "['云', '计算']"
      ]
     },
     "execution_count": 42,
     "metadata": {},
     "output_type": "execute_result"
    }
   ],
   "source": [
    "text = '云计算'\n",
    "jieba.lcut(text)"
   ]
  },
  {
   "cell_type": "code",
   "execution_count": 43,
   "id": "18111666",
   "metadata": {
    "ExecuteTime": {
     "end_time": "2022-08-06T14:59:48.822610Z",
     "start_time": "2022-08-06T14:59:48.816626Z"
    }
   },
   "outputs": [],
   "source": [
    "# 临时加一个词\n",
    "jieba.add_word('云计算')"
   ]
  },
  {
   "cell_type": "code",
   "execution_count": 44,
   "id": "d806be53",
   "metadata": {
    "ExecuteTime": {
     "end_time": "2022-08-06T14:59:55.407000Z",
     "start_time": "2022-08-06T14:59:55.400020Z"
    },
    "scrolled": true
   },
   "outputs": [
    {
     "data": {
      "text/plain": [
       "['云计算']"
      ]
     },
     "execution_count": 44,
     "metadata": {},
     "output_type": "execute_result"
    }
   ],
   "source": [
    "text = '云计算'\n",
    "jieba.lcut(text)"
   ]
  },
  {
   "cell_type": "code",
   "execution_count": 45,
   "id": "aafdabe1",
   "metadata": {
    "ExecuteTime": {
     "end_time": "2022-08-06T15:00:41.241926Z",
     "start_time": "2022-08-06T15:00:41.226966Z"
    }
   },
   "outputs": [
    {
     "data": {
      "text/plain": [
       "2"
      ]
     },
     "execution_count": 45,
     "metadata": {},
     "output_type": "execute_result"
    }
   ],
   "source": [
    "jieba.suggest_freq('云计算')"
   ]
  },
  {
   "cell_type": "code",
   "execution_count": 47,
   "id": "24ad42eb",
   "metadata": {
    "ExecuteTime": {
     "end_time": "2022-08-06T15:00:57.798647Z",
     "start_time": "2022-08-06T15:00:57.785681Z"
    }
   },
   "outputs": [
    {
     "data": {
      "text/plain": [
       "['云计算', '计算']"
      ]
     },
     "execution_count": 47,
     "metadata": {},
     "output_type": "execute_result"
    }
   ],
   "source": [
    "jieba.lcut(text, cut_all=True)"
   ]
  },
  {
   "cell_type": "markdown",
   "id": "b1bfc555",
   "metadata": {},
   "source": [
    "### 关键词提取"
   ]
  },
  {
   "cell_type": "code",
   "execution_count": 48,
   "id": "18aab1ed",
   "metadata": {
    "ExecuteTime": {
     "end_time": "2022-08-06T15:02:06.201710Z",
     "start_time": "2022-08-06T15:02:05.904504Z"
    }
   },
   "outputs": [],
   "source": [
    "from jieba import analyse"
   ]
  },
  {
   "cell_type": "code",
   "execution_count": 55,
   "id": "a63f50ed",
   "metadata": {
    "ExecuteTime": {
     "end_time": "2022-08-06T15:10:11.701279Z",
     "start_time": "2022-08-06T15:10:11.697290Z"
    }
   },
   "outputs": [],
   "source": [
    "text = '8月5日，中国人民解放军东部战区海军继续在台岛周边海域展开实战化训练。央视新闻发布从我舰拍摄的台舰近景，并配了一段唢呐，蔡英文听懂了吗？'"
   ]
  },
  {
   "cell_type": "code",
   "execution_count": 58,
   "id": "e406523a",
   "metadata": {
    "ExecuteTime": {
     "end_time": "2022-08-06T15:11:06.649325Z",
     "start_time": "2022-08-06T15:11:06.639352Z"
    },
    "scrolled": true
   },
   "outputs": [
    {
     "data": {
      "text/plain": [
       "[('台舰', 0.5433985228590908),\n",
       " ('并配', 0.5433985228590908),\n",
       " ('台岛', 0.5319751397545455),\n",
       " ('近景', 0.5087557932227272),\n",
       " ('唢呐', 0.42631313976954543),\n",
       " ('听懂', 0.40289659316181814),\n",
       " ('实战', 0.37654120701409094),\n",
       " ('战区', 0.37588481227954545),\n",
       " ('央视', 0.3710956979318182),\n",
       " ('中国人民解放军', 0.35365364695545454)]"
      ]
     },
     "execution_count": 58,
     "metadata": {},
     "output_type": "execute_result"
    }
   ],
   "source": [
    "# 提取关键词, 其实就是根据tfidf算出来的值\n",
    "analyse.extract_tags(text, topK=10, withWeight=True)"
   ]
  },
  {
   "cell_type": "code",
   "execution_count": 60,
   "id": "bd32c379",
   "metadata": {
    "ExecuteTime": {
     "end_time": "2022-08-06T15:11:53.134510Z",
     "start_time": "2022-08-06T15:11:53.127529Z"
    },
    "scrolled": true
   },
   "outputs": [
    {
     "data": {
      "text/plain": [
       "[('台舰', 0.5433985228590908),\n",
       " ('并配', 0.5433985228590908),\n",
       " ('台岛', 0.5319751397545455),\n",
       " ('近景', 0.5087557932227272),\n",
       " ('唢呐', 0.42631313976954543),\n",
       " ('听懂', 0.40289659316181814),\n",
       " ('实战', 0.37654120701409094),\n",
       " ('战区', 0.37588481227954545),\n",
       " ('央视', 0.3710956979318182),\n",
       " ('中国人民解放军', 0.35365364695545454)]"
      ]
     },
     "execution_count": 60,
     "metadata": {},
     "output_type": "execute_result"
    }
   ],
   "source": [
    "analyse.tfidf(text, topK=10, withWeight=True)"
   ]
  },
  {
   "cell_type": "code",
   "execution_count": 62,
   "id": "1283eda9",
   "metadata": {
    "ExecuteTime": {
     "end_time": "2022-08-06T15:13:16.608266Z",
     "start_time": "2022-08-06T15:13:16.600288Z"
    }
   },
   "outputs": [],
   "source": [
    "gen = jieba.tokenize(text)"
   ]
  },
  {
   "cell_type": "code",
   "execution_count": 64,
   "id": "60fe36cd",
   "metadata": {
    "ExecuteTime": {
     "end_time": "2022-08-06T15:13:44.249345Z",
     "start_time": "2022-08-06T15:13:44.232388Z"
    }
   },
   "outputs": [
    {
     "name": "stdout",
     "output_type": "stream",
     "text": [
      "('月', 1, 2)\n",
      "('5', 2, 3)\n",
      "('日', 3, 4)\n",
      "('，', 4, 5)\n",
      "('中国人民解放军', 5, 12)\n",
      "('东部', 12, 14)\n",
      "('战区', 14, 16)\n",
      "('海军', 16, 18)\n",
      "('继续', 18, 20)\n",
      "('在', 20, 21)\n",
      "('台岛', 21, 23)\n",
      "('周边', 23, 25)\n",
      "('海域', 25, 27)\n",
      "('展开', 27, 29)\n",
      "('实战', 29, 31)\n",
      "('化', 31, 32)\n",
      "('训练', 32, 34)\n",
      "('。', 34, 35)\n",
      "('央视', 35, 37)\n",
      "('新闻', 37, 39)\n",
      "('发布', 39, 41)\n",
      "('从', 41, 42)\n",
      "('我', 42, 43)\n",
      "('舰', 43, 44)\n",
      "('拍摄', 44, 46)\n",
      "('的', 46, 47)\n",
      "('台舰', 47, 49)\n",
      "('近景', 49, 51)\n",
      "('，', 51, 52)\n",
      "('并配', 52, 54)\n",
      "('了', 54, 55)\n",
      "('一段', 55, 57)\n",
      "('唢呐', 57, 59)\n",
      "('，', 59, 60)\n",
      "('蔡', 60, 61)\n",
      "('英文', 61, 63)\n",
      "('听懂', 63, 65)\n",
      "('了', 65, 66)\n",
      "('吗', 66, 67)\n",
      "('？', 67, 68)\n"
     ]
    }
   ],
   "source": [
    "for g in gen:\n",
    "    print(g)\n",
    "    "
   ]
  }
 ],
 "metadata": {
  "kernelspec": {
   "display_name": "Python 3 (ipykernel)",
   "language": "python",
   "name": "python3"
  },
  "language_info": {
   "codemirror_mode": {
    "name": "ipython",
    "version": 3
   },
   "file_extension": ".py",
   "mimetype": "text/x-python",
   "name": "python",
   "nbconvert_exporter": "python",
   "pygments_lexer": "ipython3",
   "version": "3.7.8"
  },
  "toc": {
   "base_numbering": 1,
   "nav_menu": {},
   "number_sections": true,
   "sideBar": true,
   "skip_h1_title": false,
   "title_cell": "Table of Contents",
   "title_sidebar": "Contents",
   "toc_cell": false,
   "toc_position": {},
   "toc_section_display": true,
   "toc_window_display": false
  }
 },
 "nbformat": 4,
 "nbformat_minor": 5
}
