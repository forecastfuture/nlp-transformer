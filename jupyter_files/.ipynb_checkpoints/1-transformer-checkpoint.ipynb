{
 "cells": [
  {
   "cell_type": "markdown",
   "id": "764400ee",
   "metadata": {},
   "source": [
    "## 1 LSTM"
   ]
  },
  {
   "cell_type": "code",
   "execution_count": 3,
   "id": "25c1259d-ce61-452c-99fc-63e6bde309bb",
   "metadata": {},
   "outputs": [],
   "source": [
    "# 导包\n",
    "%matplotlib inline\n",
    "\n",
    "import math\n",
    "import torch\n",
    "from torch import nn\n",
    "from torch.nn import functional as F\n",
    "import d2l as dltools"
   ]
  },
  {
   "cell_type": "markdown",
   "id": "6e6a9e5d",
   "metadata": {},
   "source": [
    "# @ 矩阵相乘"
   ]
  },
  {
   "cell_type": "code",
   "execution_count": 18,
   "id": "b2c0df76",
   "metadata": {},
   "outputs": [
    {
     "name": "stdout",
     "output_type": "stream",
     "text": [
      "1.1 * 2: 2.2\n",
      "1 * 2: 2\n",
      "1 * 0: 0\n",
      "0 * 0: 0\n"
     ]
    }
   ],
   "source": [
    "import numpy as np\n",
    "\n",
    "# 使用 NumPy 数组\n",
    "a = np.array([1.1])\n",
    "b = np.array([2.0])\n",
    "result = a @ b  # 或 np.matmul(a, b)\n",
    "print(f'1.1 * 2: {result}')   # 输出 [2.2]\n",
    "\n",
    "a = np.array([1])\n",
    "b = np.array([2])\n",
    "result = a @ b  # 或 np.matmul(a, b)\n",
    "print(f'1 * 2: {result}')   # 输出 2\n",
    "\n",
    "a = np.array([1])\n",
    "b = np.array([0])\n",
    "result = a @ b  # 或 np.matmul(a, b)\n",
    "print(f'1 * 0: {result}')   # 输出 0\n",
    "\n",
    "a = np.array([0])\n",
    "b = np.array([0])\n",
    "result = a @ b  # 或 np.matmul(a, b)\n",
    "print(f'0 * 0: {result}')   # 0"
   ]
  },
  {
   "cell_type": "code",
   "execution_count": 10,
   "id": "c807889b",
   "metadata": {},
   "outputs": [
    {
     "name": "stdout",
     "output_type": "stream",
     "text": [
      "2\n"
     ]
    }
   ],
   "source": [
    "import numpy as np\n",
    "\n",
    "# 使用 NumPy 数组\n",
    "a = np.array([1])\n",
    "b = np.array([2])\n",
    "result = a @ b  # 或 np.matmul(a, b)\n",
    "print(result)   # 输出 2"
   ]
  },
  {
   "cell_type": "code",
   "execution_count": 17,
   "id": "1b39f5f2",
   "metadata": {},
   "outputs": [
    {
     "name": "stdout",
     "output_type": "stream",
     "text": [
      "0\n"
     ]
    }
   ],
   "source": [
    "import numpy as np\n",
    "\n",
    "# 使用 NumPy 数组\n",
    "a = np.array([0])\n",
    "b = np.array([1])\n",
    "result = a @ b  # 或 np.matmul(a, b)\n",
    "print(result)   # 输出 0"
   ]
  },
  {
   "cell_type": "code",
   "execution_count": null,
   "id": "f8a624cd",
   "metadata": {},
   "outputs": [],
   "source": []
  }
 ],
 "metadata": {
  "kernelspec": {
   "display_name": "Python 3 (ipykernel)",
   "language": "python",
   "name": "python3"
  },
  "language_info": {
   "codemirror_mode": {
    "name": "ipython",
    "version": 3
   },
   "file_extension": ".py",
   "mimetype": "text/x-python",
   "name": "python",
   "nbconvert_exporter": "python",
   "pygments_lexer": "ipython3",
   "version": "3.10.16"
  }
 },
 "nbformat": 4,
 "nbformat_minor": 5
}
