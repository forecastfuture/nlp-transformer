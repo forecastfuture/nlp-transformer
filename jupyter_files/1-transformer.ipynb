{
 "cells": [
  {
   "cell_type": "markdown",
   "id": "60f99082",
   "metadata": {},
   "source": [
    "## 1 LSTM"
   ]
  },
  {
   "cell_type": "code",
   "execution_count": 3,
   "id": "25c1259d-ce61-452c-99fc-63e6bde309bb",
   "metadata": {},
   "outputs": [],
   "source": [
    "# 导包\n",
    "%matplotlib inline\n",
    "\n",
    "import math\n",
    "import torch\n",
    "from torch import nn\n",
    "from torch.nn import functional as F\n",
    "import d2l as dltools"
   ]
  },
  {
   "cell_type": "markdown",
   "id": "9ba8426d",
   "metadata": {},
   "source": [
    "# @ 矩阵相乘"
   ]
  },
  {
   "cell_type": "code",
   "execution_count": 18,
   "id": "2d657bb7",
   "metadata": {},
   "outputs": [
    {
     "name": "stdout",
     "output_type": "stream",
     "text": [
      "1.1 * 2: 2.2\n",
      "1 * 2: 2\n",
      "1 * 0: 0\n",
      "0 * 0: 0\n"
     ]
    }
   ],
   "source": [
    "import numpy as np\n",
    "\n",
    "# 使用 NumPy 数组\n",
    "a = np.array([1.1])\n",
    "b = np.array([2.0])\n",
    "result = a @ b  # 或 np.matmul(a, b)\n",
    "print(f'1.1 * 2: {result}')   # 输出 [2.2]\n",
    "\n",
    "a = np.array([1])\n",
    "b = np.array([2])\n",
    "result = a @ b  # 或 np.matmul(a, b)\n",
    "print(f'1 * 2: {result}')   # 输出 2\n",
    "\n",
    "a = np.array([1])\n",
    "b = np.array([0])\n",
    "result = a @ b  # 或 np.matmul(a, b)\n",
    "print(f'1 * 0: {result}')   # 输出 0\n",
    "\n",
    "a = np.array([0])\n",
    "b = np.array([0])\n",
    "result = a @ b  # 或 np.matmul(a, b)\n",
    "print(f'0 * 0: {result}')   # 0"
   ]
  },
  {
   "cell_type": "code",
   "execution_count": 10,
   "id": "9d437b6f",
   "metadata": {},
   "outputs": [
    {
     "name": "stdout",
     "output_type": "stream",
     "text": [
      "2\n"
     ]
    }
   ],
   "source": [
    "import numpy as np\n",
    "\n",
    "# 使用 NumPy 数组\n",
    "a = np.array([1])\n",
    "b = np.array([2])\n",
    "result = a @ b  # 或 np.matmul(a, b)\n",
    "print(result)   # 输出 2"
   ]
  },
  {
   "cell_type": "code",
   "execution_count": 17,
   "id": "d58688cb",
   "metadata": {},
   "outputs": [
    {
     "name": "stdout",
     "output_type": "stream",
     "text": [
      "0\n"
     ]
    }
   ],
   "source": [
    "import numpy as np\n",
    "\n",
    "# 使用 NumPy 数组\n",
    "a = np.array([0])\n",
    "b = np.array([1])\n",
    "result = a @ b  # 或 np.matmul(a, b)\n",
    "print(result)   # 输出 0"
   ]
  },
  {
   "cell_type": "markdown",
   "id": "e27cfce0",
   "metadata": {},
   "source": [
    "# lstm 代码"
   ]
  },
  {
   "cell_type": "code",
   "execution_count": null,
   "id": "0db2dddd",
   "metadata": {},
   "outputs": [],
   "source": [
    "def get_lstm_params(vocab_size, num_hiddens, device):\n",
    "    num_inputs = num_outputs = vocab_size \n",
    "    \n",
    "    def normal(shape):\n",
    "        return torch.randn(size = shape, device = device) * 0.01 "
   ]
  },
  {
   "cell_type": "code",
   "execution_count": null,
   "id": "855625c0",
   "metadata": {},
   "outputs": [],
   "source": []
  },
  {
   "cell_type": "code",
   "execution_count": null,
   "id": "145ddab1",
   "metadata": {},
   "outputs": [],
   "source": []
  },
  {
   "cell_type": "code",
   "execution_count": null,
   "id": "7d76d6f2",
   "metadata": {},
   "outputs": [],
   "source": []
  },
  {
   "cell_type": "code",
   "execution_count": null,
   "id": "85dc6061",
   "metadata": {},
   "outputs": [],
   "source": []
  },
  {
   "cell_type": "code",
   "execution_count": null,
   "id": "9d2c61f5",
   "metadata": {},
   "outputs": [],
   "source": []
  },
  {
   "cell_type": "code",
   "execution_count": null,
   "id": "ef84d526",
   "metadata": {},
   "outputs": [],
   "source": []
  },
  {
   "cell_type": "code",
   "execution_count": null,
   "id": "58da9a48",
   "metadata": {},
   "outputs": [],
   "source": []
  },
  {
   "cell_type": "code",
   "execution_count": null,
   "id": "df3922e5",
   "metadata": {},
   "outputs": [],
   "source": []
  },
  {
   "cell_type": "code",
   "execution_count": null,
   "id": "f496a8ea",
   "metadata": {},
   "outputs": [],
   "source": []
  },
  {
   "cell_type": "code",
   "execution_count": null,
   "id": "d762546e",
   "metadata": {},
   "outputs": [],
   "source": []
  }
 ],
 "metadata": {
  "kernelspec": {
   "display_name": "Python 3 (ipykernel)",
   "language": "python",
   "name": "python3"
  },
  "language_info": {
   "codemirror_mode": {
    "name": "ipython",
    "version": 3
   },
   "file_extension": ".py",
   "mimetype": "text/x-python",
   "name": "python",
   "nbconvert_exporter": "python",
   "pygments_lexer": "ipython3",
   "version": "3.10.16"
  }
 },
 "nbformat": 4,
 "nbformat_minor": 5
}
